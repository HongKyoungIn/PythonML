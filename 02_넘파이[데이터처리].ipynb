{
 "cells": [
  {
   "cell_type": "markdown",
   "metadata": {
    "id": "I7gN6hFArOcS"
   },
   "source": [
    "-----\n",
    "# ** 데이터 처리: 넘파이**\n",
    "\n",
    "-----\n"
   ]
  },
  {
   "cell_type": "markdown",
   "metadata": {
    "id": "_g3plTG5y1Z0"
   },
   "source": [
    "# 1. 배열  \n",
    "배열(array)이란 숫자를 일정하게 나열한 자료 구조\n",
    " "
   ]
  },
  {
   "cell_type": "markdown",
   "metadata": {
    "id": "dVitOkyIzbuX"
   },
   "source": [
    "## 1.1 파이썬 배열의 특징\n",
    "    리스트로 관리한다.\n",
    "  * 따라서 배열의 크기를 자유롭게 늘리고 줄일 수 있다. \n",
    "  * 따라서 각 원소의 크기 또한 고정되어 있지 않다.\n",
    "  * 그래서 **동적 배열**(dynamic array)라고 부른다. \n",
    "* 내부적으로는 전통적 의미의 배열로 처리한다.\n",
    "  * 따라서 배열 요소에 인덱스(index)가 부여된다.\n",
    "  * 따라서 각종 배열 메서드를 사용할 수 있다. \n",
    "* 어쨌든 **파이썬 배열 = 파이썬 리스트**라고 보면 된다."
   ]
  },
  {
   "cell_type": "markdown",
   "metadata": {
    "id": "O7Q3ZNV-2Fth"
   },
   "source": [
    "## 1.2 파이썬 배열 다루기\n",
    "파이썬에서 배열을 다룬다는 것은 곧 파이썬 리스트를 다룬다는 말입니다. 따라서 리스트를 가지고 할 수 있는 일을 그대로 하면 됩니다. "
   ]
  },
  {
   "cell_type": "code",
   "execution_count": null,
   "metadata": {
    "colab": {
     "base_uri": "https://localhost:8080/"
    },
    "executionInfo": {
     "elapsed": 915,
     "status": "ok",
     "timestamp": 1629913203245,
     "user": {
      "displayName": "박진수",
      "photoUrl": "https://lh3.googleusercontent.com/a-/AOh14Givt_n9gun5TCzjvq5ASwWr2b4FAUXE7mJI_JAt1g=s64",
      "userId": "04216559503906939593"
     },
     "user_tz": -540
    },
    "id": "ntpyeoBZ2avJ",
    "outputId": "5591d83d-1fbc-4f4d-e690-c3da41c2e22f"
   },
   "outputs": [
    {
     "name": "stdout",
     "output_type": "stream",
     "text": [
      "[1, 2, 3, 4, 5]\n"
     ]
    }
   ],
   "source": [
    "# 1차원 배열 선언(리스트 선언)과 할당\n",
    "일차원_배열 = [1, 2, 3, 4, 5]  # 우변에서 배열을 선언, =로 할당 연산.\n",
    "print(일차원_배열)"
   ]
  },
  {
   "cell_type": "code",
   "execution_count": null,
   "metadata": {
    "colab": {
     "base_uri": "https://localhost:8080/"
    },
    "executionInfo": {
     "elapsed": 10,
     "status": "ok",
     "timestamp": 1629913205207,
     "user": {
      "displayName": "박진수",
      "photoUrl": "https://lh3.googleusercontent.com/a-/AOh14Givt_n9gun5TCzjvq5ASwWr2b4FAUXE7mJI_JAt1g=s64",
      "userId": "04216559503906939593"
     },
     "user_tz": -540
    },
    "id": "5Ue_GPWy24Q4",
    "outputId": "716e3482-af33-4dad-9499-913e38ab9e87"
   },
   "outputs": [
    {
     "name": "stdout",
     "output_type": "stream",
     "text": [
      "[[1, 2, 3, 4, 5], [6, 7, 8, 9, 10]]\n"
     ]
    }
   ],
   "source": [
    "# 2차원 배열 선언과 할당\n",
    "이차원_배열 = [[1, 2, 3, 4, 5], [6, 7, 8, 9, 10]]\n",
    "print(이차원_배열)"
   ]
  },
  {
   "cell_type": "code",
   "execution_count": null,
   "metadata": {
    "colab": {
     "base_uri": "https://localhost:8080/"
    },
    "executionInfo": {
     "elapsed": 659,
     "status": "ok",
     "timestamp": 1629913207903,
     "user": {
      "displayName": "박진수",
      "photoUrl": "https://lh3.googleusercontent.com/a-/AOh14Givt_n9gun5TCzjvq5ASwWr2b4FAUXE7mJI_JAt1g=s64",
      "userId": "04216559503906939593"
     },
     "user_tz": -540
    },
    "id": "jcH9Yidz3LkP",
    "outputId": "13382fd5-5f60-40fa-8c40-f1f8044797ef"
   },
   "outputs": [
    {
     "name": "stdout",
     "output_type": "stream",
     "text": [
      "[[[1, 2, 3, 4, 5], [6, 7, 8, 9, 10]], [['가', '나', '다', '라', '마'], ['바', '사', '아', '자', '차']]]\n"
     ]
    }
   ],
   "source": [
    "# 3차원 배열 선언과 할당\n",
    "삼차원_배열 = [[[ 1,  2,  3,  4,  5], [ 6,  7,  8,  9, 10]],  \n",
    "               [['가', '나', '다', '라', '마'], ['바', '사', '아', '자', '차']]]\n",
    "print(삼차원_배열)"
   ]
  },
  {
   "cell_type": "markdown",
   "metadata": {
    "id": "XmqTH4y7y9ni"
   },
   "source": [
    "# 2. 넘파이의 기본\n",
    "앞에서 보았듯이 파이썬에서는 배열(array)이라는 데이터 형식을 지원하지 않으므로 리스트(list)를 사용해 전통적인 의미의 배열을 사용\n",
    "\n",
    "<U> 리스트는 포인터 기반 리스트 그래프 구조로 형성되어 컴퓨터 메모리 상에서 흩어져 있게 되지만, 넘파이 배열은 C 언어와 마찬가지로 컴퓨터 메모리의 연접 공간에 배열을 넣고 관리하기 때문에, 파이썬 리스트보다 처리 속도 면에서 비교할 수 없을 정도로 빠르다.</U>\n",
    "\n",
    "<U>리스트를 만들 때 각 성분의 데이터 형식이 달라도 되지만, 넘파이 배열에서는 각 성분의 데이터 형식이 같아야한다.</U>"
   ]
  },
  {
   "cell_type": "markdown",
   "metadata": {
    "id": "iOQ-FQrG6QdZ"
   },
   "source": [
    "## 2.1 넘파이 패키지 불러오기"
   ]
  },
  {
   "cell_type": "code",
   "execution_count": null,
   "metadata": {
    "id": "oEAnWSam6kV6"
   },
   "outputs": [],
   "source": [
    "# 패지키만 불러오기 \n",
    "import numpy"
   ]
  },
  {
   "cell_type": "code",
   "execution_count": null,
   "metadata": {
    "id": "VWwWiC9Oy0sN"
   },
   "outputs": [],
   "source": [
    "# 넘파이 패키지를 불러와서 별명을 짓기\n",
    "import numpy as np  # np는 관례적으로 지어 부르는, 넘파이의 별칭이다."
   ]
  },
  {
   "cell_type": "markdown",
   "metadata": {
    "id": "-F8QpqK26pHH"
   },
   "source": [
    "## 2.2 넘파이 배열 형성\n"
   ]
  },
  {
   "cell_type": "markdown",
   "metadata": {
    "id": "I96KtQKtZmZH"
   },
   "source": [
    "### 2.2.1 넘파이 배열 형성"
   ]
  },
  {
   "cell_type": "code",
   "execution_count": null,
   "metadata": {
    "colab": {
     "base_uri": "https://localhost:8080/"
    },
    "executionInfo": {
     "elapsed": 249,
     "status": "ok",
     "timestamp": 1629914033391,
     "user": {
      "displayName": "박진수",
      "photoUrl": "https://lh3.googleusercontent.com/a-/AOh14Givt_n9gun5TCzjvq5ASwWr2b4FAUXE7mJI_JAt1g=s64",
      "userId": "04216559503906939593"
     },
     "user_tz": -540
    },
    "id": "w8nz4OmQZlPJ",
    "outputId": "f6fb260a-63ba-4100-d554-e6f9d1c11243"
   },
   "outputs": [
    {
     "name": "stdout",
     "output_type": "stream",
     "text": [
      "[1, 2, 3, 4, 5]\n"
     ]
    }
   ],
   "source": [
    "# (1) 넘파이 배열을 만들려면 먼저 리스트 형식으로 배열을 구성해 준다. \n",
    "리스트형_배열 = [1, 2, 3, 4, 5]  # 우변은 배열 정의 부분, =은 할당 연산.\n",
    "print(리스트형_배열)"
   ]
  },
  {
   "cell_type": "code",
   "execution_count": null,
   "metadata": {
    "colab": {
     "base_uri": "https://localhost:8080/"
    },
    "executionInfo": {
     "elapsed": 2,
     "status": "ok",
     "timestamp": 1629914034244,
     "user": {
      "displayName": "박진수",
      "photoUrl": "https://lh3.googleusercontent.com/a-/AOh14Givt_n9gun5TCzjvq5ASwWr2b4FAUXE7mJI_JAt1g=s64",
      "userId": "04216559503906939593"
     },
     "user_tz": -540
    },
    "id": "lwq9DxNQZiXO",
    "outputId": "c6a2f98e-c02b-476a-852c-97686fec280a"
   },
   "outputs": [
    {
     "name": "stdout",
     "output_type": "stream",
     "text": [
      "[1 2 3 4 5]\n"
     ]
    }
   ],
   "source": [
    "# (2) 그러고 나서 리스트 형식 배열을 넘파이 배열로 캐스팅한다. \n",
    "넘파이형_배열 = np.array(리스트형_배열)\n",
    "print(넘파이형_배열)"
   ]
  },
  {
   "cell_type": "markdown",
   "metadata": {
    "id": "D_z6hntRZvGF"
   },
   "source": [
    "### 2.2.2 넘파이 배열의 데이터 형식\n",
    "넘파이 배열의 데이터 형식은 ndarray입니다. 이는 n차원 배열(n-dimensional array)이라는 뜻을 지닌 이름입니다."
   ]
  },
  {
   "cell_type": "code",
   "execution_count": null,
   "metadata": {
    "colab": {
     "base_uri": "https://localhost:8080/"
    },
    "executionInfo": {
     "elapsed": 256,
     "status": "ok",
     "timestamp": 1629914039673,
     "user": {
      "displayName": "박진수",
      "photoUrl": "https://lh3.googleusercontent.com/a-/AOh14Givt_n9gun5TCzjvq5ASwWr2b4FAUXE7mJI_JAt1g=s64",
      "userId": "04216559503906939593"
     },
     "user_tz": -540
    },
    "id": "y3RW7O6g_oC2",
    "outputId": "afd158f7-b0a8-474e-ccb3-302aa7dd2d69"
   },
   "outputs": [
    {
     "data": {
      "text/plain": [
       "numpy.ndarray"
      ]
     },
     "execution_count": 37,
     "metadata": {},
     "output_type": "execute_result"
    }
   ],
   "source": [
    "# [보충] 넘파이형 배열의 데이터 형식(data type, 자료형) 알아보기\n",
    "type(넘파이형_배열)"
   ]
  },
  {
   "cell_type": "markdown",
   "metadata": {
    "id": "_1E89GH-Z8ww"
   },
   "source": [
    "### 2.2.3 리스트 값을 넣어 배열 형성하기"
   ]
  },
  {
   "cell_type": "code",
   "execution_count": null,
   "metadata": {
    "colab": {
     "base_uri": "https://localhost:8080/"
    },
    "executionInfo": {
     "elapsed": 2,
     "status": "ok",
     "timestamp": 1629914041447,
     "user": {
      "displayName": "박진수",
      "photoUrl": "https://lh3.googleusercontent.com/a-/AOh14Givt_n9gun5TCzjvq5ASwWr2b4FAUXE7mJI_JAt1g=s64",
      "userId": "04216559503906939593"
     },
     "user_tz": -540
    },
    "id": "n2BYjVqT5yHf",
    "outputId": "9e2e93ad-5e29-43a7-a183-0a2ac8b3a13d"
   },
   "outputs": [
    {
     "name": "stdout",
     "output_type": "stream",
     "text": [
      "[1 2 3 4 5]\n"
     ]
    }
   ],
   "source": [
    "# 1차원 리스트 값을 바로 넣어 넘파이 형식 배열 형성하기\n",
    "넘파이형_1차원_배열 = np.array([1, 2, 3, 4, 5])\n",
    "print(넘파이형_1차원_배열)"
   ]
  },
  {
   "cell_type": "code",
   "execution_count": null,
   "metadata": {
    "colab": {
     "base_uri": "https://localhost:8080/"
    },
    "executionInfo": {
     "elapsed": 7,
     "status": "ok",
     "timestamp": 1629914042487,
     "user": {
      "displayName": "박진수",
      "photoUrl": "https://lh3.googleusercontent.com/a-/AOh14Givt_n9gun5TCzjvq5ASwWr2b4FAUXE7mJI_JAt1g=s64",
      "userId": "04216559503906939593"
     },
     "user_tz": -540
    },
    "id": "IMjA4_Qq743w",
    "outputId": "56186373-4743-4150-dccd-4736a4dd9b63"
   },
   "outputs": [
    {
     "name": "stdout",
     "output_type": "stream",
     "text": [
      "[[ 1  2  3  4  5]\n",
      " [ 6  7  8  9 10]]\n"
     ]
    }
   ],
   "source": [
    "# 2차원 리스트 값을 넣어 넘파이 형식으로 된 2차원 배열을 형성하기\n",
    "넘파이형_2차원_배열 = np.array([[1, 2, 3, 4, 5], [6, 7, 8, 9, 10]])\n",
    "print(넘파이형_2차원_배열)"
   ]
  },
  {
   "cell_type": "code",
   "execution_count": null,
   "metadata": {
    "colab": {
     "base_uri": "https://localhost:8080/"
    },
    "executionInfo": {
     "elapsed": 7,
     "status": "ok",
     "timestamp": 1629914042488,
     "user": {
      "displayName": "박진수",
      "photoUrl": "https://lh3.googleusercontent.com/a-/AOh14Givt_n9gun5TCzjvq5ASwWr2b4FAUXE7mJI_JAt1g=s64",
      "userId": "04216559503906939593"
     },
     "user_tz": -540
    },
    "id": "lOSRGKvj8nLq",
    "outputId": "d0a1b674-6ddb-4909-e4cf-6eae8912df01"
   },
   "outputs": [
    {
     "name": "stdout",
     "output_type": "stream",
     "text": [
      "[[[ 1.  2.  3.  4.  5.]\n",
      "  [ 6.  7.  8.  9. 10.]]\n",
      "\n",
      " [[ 1.  2.  3.  4.  5.]\n",
      "  [ 6.  7.  8.  9. 10.]]]\n"
     ]
    }
   ],
   "source": [
    "# 3차원 리스트 값을 넣어 넘파이 형식으로 된 3차원 배열을 형성하기\n",
    "넘파이형_3차원_배열 = np.array([[[1, 2, 3, 4, 5], [6, 7, 8, 9, 10]], [[1.0, 2.0, 3.0, 4.0, 5.0], [6.0, 7.0, 8.0, 9.0, 10.0]]])\n",
    "print(넘파이형_3차원_배열)  # 각 수치가 모두 부동소수점 형식으로 통일되었다는 점에 주목하자."
   ]
  },
  {
   "cell_type": "markdown",
   "metadata": {
    "id": "AmbTOjqt7JBp"
   },
   "source": [
    "## 2.3 넘파이 배열의 크기와 데이터 형식 \n",
    "넘파이 형식으로 된 배열을 보통 **넘파이 배열**이라고 부른다"
   ]
  },
  {
   "cell_type": "code",
   "execution_count": null,
   "metadata": {
    "colab": {
     "base_uri": "https://localhost:8080/"
    },
    "executionInfo": {
     "elapsed": 2,
     "status": "ok",
     "timestamp": 1629914042770,
     "user": {
      "displayName": "박진수",
      "photoUrl": "https://lh3.googleusercontent.com/a-/AOh14Givt_n9gun5TCzjvq5ASwWr2b4FAUXE7mJI_JAt1g=s64",
      "userId": "04216559503906939593"
     },
     "user_tz": -540
    },
    "id": "TickSfVw7Uuw",
    "outputId": "a5f603fe-66b3-45b6-dfdf-1aa66f8a0b21"
   },
   "outputs": [
    {
     "name": "stdout",
     "output_type": "stream",
     "text": [
      "(5,)\n",
      "(2, 5)\n",
      "(2, 2, 5)\n"
     ]
    }
   ],
   "source": [
    "# 배열 크기 확인 -> 형태  -> 모양  (수학용어  ,행렬의 모양  shape of array)\n",
    "print(넘파이형_1차원_배열.shape)\n",
    "print(넘파이형_2차원_배열.shape)\n",
    "print(넘파이형_3차원_배열.shape)"
   ]
  },
  {
   "cell_type": "code",
   "execution_count": null,
   "metadata": {
    "colab": {
     "base_uri": "https://localhost:8080/"
    },
    "executionInfo": {
     "elapsed": 239,
     "status": "ok",
     "timestamp": 1629914044350,
     "user": {
      "displayName": "박진수",
      "photoUrl": "https://lh3.googleusercontent.com/a-/AOh14Givt_n9gun5TCzjvq5ASwWr2b4FAUXE7mJI_JAt1g=s64",
      "userId": "04216559503906939593"
     },
     "user_tz": -540
    },
    "id": "8nWL19AyAtcQ",
    "outputId": "561d4df4-f3ff-451d-a656-3e1ca7e64e00"
   },
   "outputs": [
    {
     "name": "stdout",
     "output_type": "stream",
     "text": [
      "1\n",
      "2\n",
      "3\n"
     ]
    }
   ],
   "source": [
    "# [보충] 배열 차원 확인 \n",
    "print(넘파이형_1차원_배열.ndim)\n",
    "print(넘파이형_2차원_배열.ndim)\n",
    "print(넘파이형_3차원_배열.ndim)"
   ]
  },
  {
   "cell_type": "code",
   "execution_count": null,
   "metadata": {
    "colab": {
     "base_uri": "https://localhost:8080/"
    },
    "executionInfo": {
     "elapsed": 2,
     "status": "ok",
     "timestamp": 1629914047588,
     "user": {
      "displayName": "박진수",
      "photoUrl": "https://lh3.googleusercontent.com/a-/AOh14Givt_n9gun5TCzjvq5ASwWr2b4FAUXE7mJI_JAt1g=s64",
      "userId": "04216559503906939593"
     },
     "user_tz": -540
    },
    "id": "Rts-OGm68Y2A",
    "outputId": "35430f06-9aad-4c86-8636-477243ebc382"
   },
   "outputs": [
    {
     "name": "stdout",
     "output_type": "stream",
     "text": [
      "int64\n",
      "int64\n",
      "float64\n"
     ]
    }
   ],
   "source": [
    "# 배열(을 이루고 있는 원소)의  데이터 형식 확인\n",
    "print(넘파이형_1차원_배열.dtype)\n",
    "print(넘파이형_2차원_배열.dtype)\n",
    "print(넘파이형_3차원_배열.dtype)  # 각 원소의 데이터 형식이 float 형식이라는 점에 주목\n",
    "\n",
    "# 신경망의 뉴론간의 연결을 가중치로 표현을 실수로 한다.   가중치는 신경세포간의 연결 신호 강도 비율 이다. 0.1234 -> 1234 64bit-> 16bit  메모리 1/4로 줄이면서 신경망을 구성할 수 있다.  "
   ]
  },
  {
   "cell_type": "markdown",
   "metadata": {
    "id": "6O_Yyy4eFvxH"
   },
   "source": [
    "int64는 정수형(64비트로 표현), float64는 소수점 수(실수형, 64비트로 표현)"
   ]
  },
  {
   "cell_type": "code",
   "execution_count": null,
   "metadata": {
    "colab": {
     "base_uri": "https://localhost:8080/"
    },
    "executionInfo": {
     "elapsed": 2,
     "status": "ok",
     "timestamp": 1629914047924,
     "user": {
      "displayName": "박진수",
      "photoUrl": "https://lh3.googleusercontent.com/a-/AOh14Givt_n9gun5TCzjvq5ASwWr2b4FAUXE7mJI_JAt1g=s64",
      "userId": "04216559503906939593"
     },
     "user_tz": -540
    },
    "id": "rb281tny-x4_",
    "outputId": "3950efbb-6a71-4631-a62b-26412b87a6ce"
   },
   "outputs": [
    {
     "name": "stdout",
     "output_type": "stream",
     "text": [
      "[1 0 1 1 0]\n",
      "(5,)\n",
      "int64\n"
     ]
    }
   ],
   "source": [
    "# 넘파이 부울 배열 \n",
    "부울_배열 = np.array([True, False, True, 1, 0])\n",
    "print(부울_배열)  #  (1 0 1 1 0)  -> 벡터 연산    -> 흑백영상이 있다고 하자 . 우편번호   숫자 영역 4로 설명  \n",
    "print(부울_배열.shape)\n",
    "print(부울_배열.dtype)"
   ]
  },
  {
   "cell_type": "markdown",
   "metadata": {
    "id": "TNCm4IlXSgyX"
   },
   "source": [
    "상삼각행렬, 하 삼각행렬등을 활용한 행렬 연산(특히 영상 처리)에 자주 쓰여요\n",
    "그리고 행렬에서 특정 자료를 찾아 내거나 (인덱싱) 뽑아내거나  (슬라이싱) 해야 할 때 많이 사용한다. "
   ]
  },
  {
   "cell_type": "code",
   "execution_count": null,
   "metadata": {
    "colab": {
     "base_uri": "https://localhost:8080/"
    },
    "executionInfo": {
     "elapsed": 3,
     "status": "ok",
     "timestamp": 1629914048501,
     "user": {
      "displayName": "박진수",
      "photoUrl": "https://lh3.googleusercontent.com/a-/AOh14Givt_n9gun5TCzjvq5ASwWr2b4FAUXE7mJI_JAt1g=s64",
      "userId": "04216559503906939593"
     },
     "user_tz": -540
    },
    "id": "BVds0QWo_Jcm",
    "outputId": "3402a69d-a8ee-4a48-bf85-489f1cec06e3"
   },
   "outputs": [
    {
     "name": "stdout",
     "output_type": "stream",
     "text": [
      "[['우리는 A반' '우리는 B반']\n",
      " ['Class 1' 'Class 2']]\n",
      "(2, 2)\n",
      "<U7\n"
     ]
    }
   ],
   "source": [
    "# 넘파이 문자열 배열 \n",
    "문자열_배열 = np.array([[\"우리는 A반\", \"우리는 B반\"],\n",
    "                        [\"Class 1\", \"Class 2\"]])\n",
    "\n",
    "print(문자열_배열)\n",
    "print(문자열_배열.shape)\n",
    "print(문자열_배열.dtype)   # 문자열의 경우 데이터 형식이 상황에 따라 다르다.\n",
    "                           # 하지만 의미가 없다."
   ]
  },
  {
   "cell_type": "markdown",
   "metadata": {
    "id": "RyN87hYoA7VI"
   },
   "source": [
    "## 2.4 특수한 배열 형성 \n",
    "수치 처리를 하다 보면 0으로 채워진 배열이나 1로만 채워진 배열이나 수열로 이뤄진 배열이 필요할 때가 있다. 넘파이를 사용하면 이런 배열을 아주 쉽게 형성할 수 있다\n"
   ]
  },
  {
   "cell_type": "markdown",
   "metadata": {
    "id": "IoW_Z_f0akT-"
   },
   "source": [
    "### 2.4.1 전체 원소가 0인 배열 형성"
   ]
  },
  {
   "cell_type": "code",
   "execution_count": null,
   "metadata": {
    "colab": {
     "base_uri": "https://localhost:8080/"
    },
    "executionInfo": {
     "elapsed": 398,
     "status": "ok",
     "timestamp": 1629914050319,
     "user": {
      "displayName": "박진수",
      "photoUrl": "https://lh3.googleusercontent.com/a-/AOh14Givt_n9gun5TCzjvq5ASwWr2b4FAUXE7mJI_JAt1g=s64",
      "userId": "04216559503906939593"
     },
     "user_tz": -540
    },
    "id": "QZ7I5IhQBhtQ",
    "outputId": "81de9e7b-1ca7-44ae-a027-f8c097e74588"
   },
   "outputs": [
    {
     "name": "stdout",
     "output_type": "stream",
     "text": [
      "[0. 0. 0. 0. 0.]\n"
     ]
    }
   ],
   "source": [
    "# 0으로만 이뤄진 1차원 배열\n",
    "print(np.zeros(5))            # 따로 지정하지 않으면 float 형으로 형성된다.\n",
    "#영행렬, 단위행렬(1로 채워진 행렬) 1차원 배열  = 벡터  /  2차원  행렬  /      3차원은 텐서 "
   ]
  },
  {
   "cell_type": "code",
   "execution_count": null,
   "metadata": {
    "colab": {
     "base_uri": "https://localhost:8080/"
    },
    "executionInfo": {
     "elapsed": 10,
     "status": "ok",
     "timestamp": 1629914050319,
     "user": {
      "displayName": "박진수",
      "photoUrl": "https://lh3.googleusercontent.com/a-/AOh14Givt_n9gun5TCzjvq5ASwWr2b4FAUXE7mJI_JAt1g=s64",
      "userId": "04216559503906939593"
     },
     "user_tz": -540
    },
    "id": "42tT4-Aha5wL",
    "outputId": "30a0f2b4-6c4b-4dfd-b5f2-933152f7af66"
   },
   "outputs": [
    {
     "name": "stdout",
     "output_type": "stream",
     "text": [
      "[0 0 0 0 0]\n"
     ]
    }
   ],
   "source": [
    "# 0으로만 이뤄진 1차원 정수형 배열 \n",
    "print(np.zeros(5, dtype=int)) # 데이터 형식을 따로 지정할 수 있다."
   ]
  },
  {
   "cell_type": "code",
   "execution_count": null,
   "metadata": {
    "colab": {
     "base_uri": "https://localhost:8080/"
    },
    "executionInfo": {
     "elapsed": 8,
     "status": "ok",
     "timestamp": 1629914050320,
     "user": {
      "displayName": "박진수",
      "photoUrl": "https://lh3.googleusercontent.com/a-/AOh14Givt_n9gun5TCzjvq5ASwWr2b4FAUXE7mJI_JAt1g=s64",
      "userId": "04216559503906939593"
     },
     "user_tz": -540
    },
    "id": "BLWt8J4zHZ3d",
    "outputId": "a69006c6-f1a7-41b9-9e88-7d7eb1dfcf5b"
   },
   "outputs": [
    {
     "name": "stdout",
     "output_type": "stream",
     "text": [
      "[[0 0]\n",
      " [0 0]]\n"
     ]
    }
   ],
   "source": [
    "# 0으로만 이뤄진 2차원 정수형 배열\n",
    "print(np.zeros((2, 2), dtype=int))"
   ]
  },
  {
   "cell_type": "code",
   "execution_count": null,
   "metadata": {
    "colab": {
     "base_uri": "https://localhost:8080/"
    },
    "executionInfo": {
     "elapsed": 6,
     "status": "ok",
     "timestamp": 1629914050683,
     "user": {
      "displayName": "박진수",
      "photoUrl": "https://lh3.googleusercontent.com/a-/AOh14Givt_n9gun5TCzjvq5ASwWr2b4FAUXE7mJI_JAt1g=s64",
      "userId": "04216559503906939593"
     },
     "user_tz": -540
    },
    "id": "G-aEOKN10QM-",
    "outputId": "22081f7e-a0fe-452a-91e5-c80e52cd1ff7"
   },
   "outputs": [
    {
     "name": "stdout",
     "output_type": "stream",
     "text": [
      "[[[0 0]\n",
      "  [0 0]]\n",
      "\n",
      " [[0 0]\n",
      "  [0 0]]]\n"
     ]
    }
   ],
   "source": [
    "# 0으로만 이뤄진 3차원 정수형 배열\n",
    "print(np.zeros((2, 2, 2), dtype=int))"
   ]
  },
  {
   "cell_type": "code",
   "execution_count": null,
   "metadata": {
    "colab": {
     "base_uri": "https://localhost:8080/"
    },
    "executionInfo": {
     "elapsed": 6,
     "status": "ok",
     "timestamp": 1629914050684,
     "user": {
      "displayName": "박진수",
      "photoUrl": "https://lh3.googleusercontent.com/a-/AOh14Givt_n9gun5TCzjvq5ASwWr2b4FAUXE7mJI_JAt1g=s64",
      "userId": "04216559503906939593"
     },
     "user_tz": -540
    },
    "id": "JCYz-XF5CgiR",
    "outputId": "6eea1dde-9b07-4107-855a-94fb3b593705"
   },
   "outputs": [
    {
     "name": "stdout",
     "output_type": "stream",
     "text": [
      "[0 0 0 0 0]\n",
      "uint8\n"
     ]
    }
   ],
   "source": [
    "# 참고로 메모리 크기까지도 지정할 수 있다. \n",
    "# 이에 대해서는 넘파이 공식 매뉴얼을 보자.\n",
    "팔비트_배열 = np.zeros(5, dtype=np.ubyte) \n",
    "print(팔비트_배열)\n",
    "print(팔비트_배열.dtype)"
   ]
  },
  {
   "cell_type": "markdown",
   "metadata": {
    "id": "Y_z6R1wUbJgK"
   },
   "source": [
    "### 2.4.2 1로만 이뤄진 배열"
   ]
  },
  {
   "cell_type": "code",
   "execution_count": null,
   "metadata": {
    "colab": {
     "base_uri": "https://localhost:8080/"
    },
    "executionInfo": {
     "elapsed": 2,
     "status": "ok",
     "timestamp": 1629914052437,
     "user": {
      "displayName": "박진수",
      "photoUrl": "https://lh3.googleusercontent.com/a-/AOh14Givt_n9gun5TCzjvq5ASwWr2b4FAUXE7mJI_JAt1g=s64",
      "userId": "04216559503906939593"
     },
     "user_tz": -540
    },
    "id": "yIn4aChXDN3C",
    "outputId": "5e559937-eb59-4659-e856-268cc3e289fc"
   },
   "outputs": [
    {
     "name": "stdout",
     "output_type": "stream",
     "text": [
      "[[1. 1. 1.]\n",
      " [1. 1. 1.]\n",
      " [1. 1. 1.]\n",
      " [1. 1. 1.]\n",
      " [1. 1. 1.]]\n"
     ]
    }
   ],
   "source": [
    "# 1로만 이뤄진 2차원 배열\n",
    "print(np.ones((5, 3)))"
   ]
  },
  {
   "cell_type": "markdown",
   "metadata": {
    "id": "9kQ7WrgtbSL4"
   },
   "source": [
    "### 2.4.3 수열로 이뤄진 배열 형성"
   ]
  },
  {
   "cell_type": "code",
   "execution_count": null,
   "metadata": {
    "colab": {
     "base_uri": "https://localhost:8080/"
    },
    "executionInfo": {
     "elapsed": 2,
     "status": "ok",
     "timestamp": 1629914052756,
     "user": {
      "displayName": "박진수",
      "photoUrl": "https://lh3.googleusercontent.com/a-/AOh14Givt_n9gun5TCzjvq5ASwWr2b4FAUXE7mJI_JAt1g=s64",
      "userId": "04216559503906939593"
     },
     "user_tz": -540
    },
    "id": "_auept9Sp5qa",
    "outputId": "bd1b686b-696a-4eb0-d59d-b4143eb66e95"
   },
   "outputs": [
    {
     "name": "stdout",
     "output_type": "stream",
     "text": [
      "[0 1 2 3 4 5 6 7 8 9]\n"
     ]
    }
   ],
   "source": [
    "# 종료값만 지정하는 경우(시작 값은 0, 종료 값은 9)\n",
    "print(np.arange(10))      #수열로  이루어진 배열 "
   ]
  },
  {
   "cell_type": "code",
   "execution_count": null,
   "metadata": {
    "colab": {
     "base_uri": "https://localhost:8080/"
    },
    "executionInfo": {
     "elapsed": 2,
     "status": "ok",
     "timestamp": 1629914054181,
     "user": {
      "displayName": "박진수",
      "photoUrl": "https://lh3.googleusercontent.com/a-/AOh14Givt_n9gun5TCzjvq5ASwWr2b4FAUXE7mJI_JAt1g=s64",
      "userId": "04216559503906939593"
     },
     "user_tz": -540
    },
    "id": "YtJSG9-24rjK",
    "outputId": "6b1c45b7-bff6-4c3e-d58c-f9937c3ad898"
   },
   "outputs": [
    {
     "name": "stdout",
     "output_type": "stream",
     "text": [
      "[2 3 4 5 6 7 8 9]\n"
     ]
    }
   ],
   "source": [
    " # 시작값과 종료값만 지정하는 경우\n",
    "print(np.arange(2, 10))  "
   ]
  },
  {
   "cell_type": "code",
   "execution_count": null,
   "metadata": {
    "colab": {
     "base_uri": "https://localhost:8080/"
    },
    "executionInfo": {
     "elapsed": 6,
     "status": "ok",
     "timestamp": 1629914054441,
     "user": {
      "displayName": "박진수",
      "photoUrl": "https://lh3.googleusercontent.com/a-/AOh14Givt_n9gun5TCzjvq5ASwWr2b4FAUXE7mJI_JAt1g=s64",
      "userId": "04216559503906939593"
     },
     "user_tz": -540
    },
    "id": "ayCiVFDX4qGs",
    "outputId": "1d920d11-f623-4a01-c5ad-fe28dea73eec"
   },
   "outputs": [
    {
     "name": "stdout",
     "output_type": "stream",
     "text": [
      "[2 4 6 8]\n"
     ]
    }
   ],
   "source": [
    "# 시작값과 종료값과 단계값을 지정\n",
    "print(np.arange(2, 10, 2))"
   ]
  },
  {
   "cell_type": "markdown",
   "metadata": {
    "id": "9A_Cx0FwD1RN"
   },
   "source": [
    "## 2.5 넘파이 배열 연산\n",
    "넘파이의 배열은 수학의 행렬(또는 텐서)을 표현하기 위한 것이므로 넘파이에서 배열 연산을 한다는 것은 **행렬 연산**을 한다는 것과 거의 같다\n",
    "\n",
    "\n"
   ]
  },
  {
   "cell_type": "code",
   "execution_count": null,
   "metadata": {
    "colab": {
     "base_uri": "https://localhost:8080/"
    },
    "executionInfo": {
     "elapsed": 8,
     "status": "ok",
     "timestamp": 1629914055958,
     "user": {
      "displayName": "박진수",
      "photoUrl": "https://lh3.googleusercontent.com/a-/AOh14Givt_n9gun5TCzjvq5ASwWr2b4FAUXE7mJI_JAt1g=s64",
      "userId": "04216559503906939593"
     },
     "user_tz": -540
    },
    "id": "UfTC8wUZpKoM",
    "outputId": "123d64fd-0bdc-4949-dcb1-01e8a741c081"
   },
   "outputs": [
    {
     "name": "stdout",
     "output_type": "stream",
     "text": [
      "[[1. 1.]\n",
      " [1. 1.]]\n"
     ]
    }
   ],
   "source": [
    "# 행렬 덧셈을 위한 배열 준비\n",
    "일 = np.ones((2, 2))\n",
    "print(일)"
   ]
  },
  {
   "cell_type": "code",
   "execution_count": null,
   "metadata": {
    "colab": {
     "base_uri": "https://localhost:8080/"
    },
    "executionInfo": {
     "elapsed": 252,
     "status": "ok",
     "timestamp": 1629914062079,
     "user": {
      "displayName": "박진수",
      "photoUrl": "https://lh3.googleusercontent.com/a-/AOh14Givt_n9gun5TCzjvq5ASwWr2b4FAUXE7mJI_JAt1g=s64",
      "userId": "04216559503906939593"
     },
     "user_tz": -540
    },
    "id": "XPXIYeKBprV0",
    "outputId": "dc9604bc-d681-4c9e-885d-8d0a2bb3dc4c"
   },
   "outputs": [
    {
     "name": "stdout",
     "output_type": "stream",
     "text": [
      "[[2. 2.]\n",
      " [2. 2.]]\n"
     ]
    }
   ],
   "source": [
    "# 배열 덧셈\n",
    "이 = 일 + 일\n",
    "print(이)"
   ]
  },
  {
   "cell_type": "code",
   "execution_count": null,
   "metadata": {
    "colab": {
     "base_uri": "https://localhost:8080/"
    },
    "executionInfo": {
     "elapsed": 252,
     "status": "ok",
     "timestamp": 1629914068922,
     "user": {
      "displayName": "박진수",
      "photoUrl": "https://lh3.googleusercontent.com/a-/AOh14Givt_n9gun5TCzjvq5ASwWr2b4FAUXE7mJI_JAt1g=s64",
      "userId": "04216559503906939593"
     },
     "user_tz": -540
    },
    "id": "zg6vmnKarmem",
    "outputId": "485246b1-01eb-4349-8397-e7c6549d548d"
   },
   "outputs": [
    {
     "name": "stdout",
     "output_type": "stream",
     "text": [
      "[[0. 0.]\n",
      " [0. 0.]]\n"
     ]
    }
   ],
   "source": [
    "# 배열 뺄셈\n",
    "영 = 일 - 일\n",
    "print(영)"
   ]
  },
  {
   "cell_type": "code",
   "execution_count": null,
   "metadata": {
    "colab": {
     "base_uri": "https://localhost:8080/"
    },
    "executionInfo": {
     "elapsed": 267,
     "status": "ok",
     "timestamp": 1629914070330,
     "user": {
      "displayName": "박진수",
      "photoUrl": "https://lh3.googleusercontent.com/a-/AOh14Givt_n9gun5TCzjvq5ASwWr2b4FAUXE7mJI_JAt1g=s64",
      "userId": "04216559503906939593"
     },
     "user_tz": -540
    },
    "id": "M4u6TAYprmsL",
    "outputId": "9733c687-3e2b-4bba-9a99-1e1e3bf00091"
   },
   "outputs": [
    {
     "name": "stdout",
     "output_type": "stream",
     "text": [
      "[[4. 4.]\n",
      " [4. 4.]]\n"
     ]
    }
   ],
   "source": [
    "# 배열 곱셈 \n",
    "사 = 이 * 이 \n",
    "print(사)\n",
    "\n",
    " #곱셈  = 스칼라 곱\n",
    " "
   ]
  },
  {
   "cell_type": "code",
   "execution_count": null,
   "metadata": {
    "colab": {
     "base_uri": "https://localhost:8080/"
    },
    "executionInfo": {
     "elapsed": 2,
     "status": "ok",
     "timestamp": 1629914071344,
     "user": {
      "displayName": "박진수",
      "photoUrl": "https://lh3.googleusercontent.com/a-/AOh14Givt_n9gun5TCzjvq5ASwWr2b4FAUXE7mJI_JAt1g=s64",
      "userId": "04216559503906939593"
     },
     "user_tz": -540
    },
    "id": "svZcy6fwr2tV",
    "outputId": "92cd7a9a-85dd-4bed-b302-3d8b1151ce0c"
   },
   "outputs": [
    {
     "name": "stdout",
     "output_type": "stream",
     "text": [
      "[[2. 2.]\n",
      " [2. 2.]]\n"
     ]
    }
   ],
   "source": [
    "# 배열 나눗셈\n",
    "이 = 사 / 이\n",
    "print(이)"
   ]
  },
  {
   "cell_type": "code",
   "execution_count": null,
   "metadata": {
    "colab": {
     "base_uri": "https://localhost:8080/"
    },
    "executionInfo": {
     "elapsed": 6,
     "status": "ok",
     "timestamp": 1629914072297,
     "user": {
      "displayName": "박진수",
      "photoUrl": "https://lh3.googleusercontent.com/a-/AOh14Givt_n9gun5TCzjvq5ASwWr2b4FAUXE7mJI_JAt1g=s64",
      "userId": "04216559503906939593"
     },
     "user_tz": -540
    },
    "id": "NkbdGKjzr9mF",
    "outputId": "ea13a160-524e-4adc-b893-0df8a3f3057c"
   },
   "outputs": [
    {
     "name": "stdout",
     "output_type": "stream",
     "text": [
      "[[1. 1.]\n",
      " [1. 1.]]\n"
     ]
    }
   ],
   "source": [
    "# 배열 나머지\n",
    "나머지 = 사 % (사 - 일)\n",
    "print(나머지)"
   ]
  },
  {
   "cell_type": "markdown",
   "metadata": {
    "id": "Y4A04XzXsQch"
   },
   "source": [
    "## 2.6 브로드캐스팅\n",
    "기본적으로 크기가 같은 배열끼리 연산을 할 수 있고, 크기가 서로 다른 배열이라면 브로드캐스팅(broadcasting) 기능을 사용해 연산"
   ]
  },
  {
   "cell_type": "code",
   "execution_count": null,
   "metadata": {
    "colab": {
     "base_uri": "https://localhost:8080/"
    },
    "executionInfo": {
     "elapsed": 247,
     "status": "ok",
     "timestamp": 1629914074655,
     "user": {
      "displayName": "박진수",
      "photoUrl": "https://lh3.googleusercontent.com/a-/AOh14Givt_n9gun5TCzjvq5ASwWr2b4FAUXE7mJI_JAt1g=s64",
      "userId": "04216559503906939593"
     },
     "user_tz": -540
    },
    "id": "7YP7ICMVsipr",
    "outputId": "489bfad0-f2b0-4312-d97b-b146cdb2367d"
   },
   "outputs": [
    {
     "name": "stdout",
     "output_type": "stream",
     "text": [
      "[[1. 1.]\n",
      " [1. 1.]]\n"
     ]
    }
   ],
   "source": [
    "큰_일 = np.ones((2, 2))  # 배열의 크기 (2, 2) \n",
    "print(큰_일)\n"
   ]
  },
  {
   "cell_type": "code",
   "execution_count": null,
   "metadata": {
    "colab": {
     "base_uri": "https://localhost:8080/"
    },
    "executionInfo": {
     "elapsed": 2,
     "status": "ok",
     "timestamp": 1629914077550,
     "user": {
      "displayName": "박진수",
      "photoUrl": "https://lh3.googleusercontent.com/a-/AOh14Givt_n9gun5TCzjvq5ASwWr2b4FAUXE7mJI_JAt1g=s64",
      "userId": "04216559503906939593"
     },
     "user_tz": -540
    },
    "id": "2b-nrSQn6bEw",
    "outputId": "887d46ab-8c88-4f7a-82a6-b708e40de7fe"
   },
   "outputs": [
    {
     "name": "stdout",
     "output_type": "stream",
     "text": [
      "[1. 1.]\n"
     ]
    }
   ],
   "source": [
    "작은_일 = np.ones((2))   # 배열의 크기 (2,)\n",
    "print(작은_일)"
   ]
  },
  {
   "cell_type": "code",
   "execution_count": null,
   "metadata": {
    "colab": {
     "base_uri": "https://localhost:8080/"
    },
    "executionInfo": {
     "elapsed": 2,
     "status": "ok",
     "timestamp": 1629914077808,
     "user": {
      "displayName": "박진수",
      "photoUrl": "https://lh3.googleusercontent.com/a-/AOh14Givt_n9gun5TCzjvq5ASwWr2b4FAUXE7mJI_JAt1g=s64",
      "userId": "04216559503906939593"
     },
     "user_tz": -540
    },
    "id": "PecLfcHzs5A5",
    "outputId": "e727bd1a-db2a-4952-82be-2890274bdc9b"
   },
   "outputs": [
    {
     "name": "stdout",
     "output_type": "stream",
     "text": [
      "[[2. 2.]\n",
      " [2. 2.]]\n"
     ]
    }
   ],
   "source": [
    "print(큰_일 + 작은_일)  # 작은_일의 배열 크기가 (2, 2)로 조정되고\n",
    "                        # 확장된 부분을 기존 배열 원소값으로 채운 후 연산"
   ]
  },
  {
   "cell_type": "markdown",
   "metadata": {
    "id": "fxzn2BYTu0hC"
   },
   "source": [
    "## 2.7 스칼라 연산\n",
    "행렬에 스칼라값을 가지고 연산할 수 있듯이 넘파이 배열에 스칼라 값을 가지고 연산"
   ]
  },
  {
   "cell_type": "code",
   "execution_count": null,
   "metadata": {
    "colab": {
     "base_uri": "https://localhost:8080/"
    },
    "executionInfo": {
     "elapsed": 250,
     "status": "ok",
     "timestamp": 1629914080241,
     "user": {
      "displayName": "박진수",
      "photoUrl": "https://lh3.googleusercontent.com/a-/AOh14Givt_n9gun5TCzjvq5ASwWr2b4FAUXE7mJI_JAt1g=s64",
      "userId": "04216559503906939593"
     },
     "user_tz": -540
    },
    "id": "VmmUl1mtvGmM",
    "outputId": "350a8a46-e24a-4285-d6b1-b3adc09e6fb2"
   },
   "outputs": [
    {
     "name": "stdout",
     "output_type": "stream",
     "text": [
      "[[8. 8.]\n",
      " [8. 8.]]\n"
     ]
    }
   ],
   "source": [
    "print(사 * 2)"
   ]
  },
  {
   "cell_type": "code",
   "execution_count": null,
   "metadata": {
    "colab": {
     "base_uri": "https://localhost:8080/"
    },
    "executionInfo": {
     "elapsed": 246,
     "status": "ok",
     "timestamp": 1629914083283,
     "user": {
      "displayName": "박진수",
      "photoUrl": "https://lh3.googleusercontent.com/a-/AOh14Givt_n9gun5TCzjvq5ASwWr2b4FAUXE7mJI_JAt1g=s64",
      "userId": "04216559503906939593"
     },
     "user_tz": -540
    },
    "id": "tdfEUBD3vI80",
    "outputId": "de97df9b-9572-4137-fe23-c41e4ce3f9d1"
   },
   "outputs": [
    {
     "name": "stdout",
     "output_type": "stream",
     "text": [
      "[[0. 0.]\n",
      " [0. 0.]]\n"
     ]
    }
   ],
   "source": [
    "print(사 - 4)"
   ]
  },
  {
   "cell_type": "markdown",
   "metadata": {
    "id": "5wRCk-oNvazq"
   },
   "source": [
    "## 2.8 배열 인덱싱\n",
    "넘파이 배열에서 인덱싱을 하는 방법은 파이썬에서 리스트 등을 대상으로 인덱싱을 하는 방법과 같다\n"
   ]
  },
  {
   "cell_type": "markdown",
   "metadata": {
    "id": "GQiCHbpQASyE"
   },
   "source": [
    "### 2.8.1 일반적인 인덱싱"
   ]
  },
  {
   "cell_type": "code",
   "execution_count": null,
   "metadata": {
    "colab": {
     "base_uri": "https://localhost:8080/"
    },
    "executionInfo": {
     "elapsed": 247,
     "status": "ok",
     "timestamp": 1629914087768,
     "user": {
      "displayName": "박진수",
      "photoUrl": "https://lh3.googleusercontent.com/a-/AOh14Givt_n9gun5TCzjvq5ASwWr2b4FAUXE7mJI_JAt1g=s64",
      "userId": "04216559503906939593"
     },
     "user_tz": -540
    },
    "id": "RBWSuD0W7sCz",
    "outputId": "9a4141ae-e07d-4bdb-a25b-1594300c5c9c"
   },
   "outputs": [
    {
     "name": "stdout",
     "output_type": "stream",
     "text": [
      "[ 2  4  8 10]\n"
     ]
    }
   ],
   "source": [
    "# 1차원 배열 인덱싱\n",
    "일차원_배열 = np.array([2, 4, 8, 10])\n",
    "print(일차원_배열)"
   ]
  },
  {
   "cell_type": "code",
   "execution_count": null,
   "metadata": {
    "colab": {
     "base_uri": "https://localhost:8080/"
    },
    "executionInfo": {
     "elapsed": 252,
     "status": "ok",
     "timestamp": 1629914089162,
     "user": {
      "displayName": "박진수",
      "photoUrl": "https://lh3.googleusercontent.com/a-/AOh14Givt_n9gun5TCzjvq5ASwWr2b4FAUXE7mJI_JAt1g=s64",
      "userId": "04216559503906939593"
     },
     "user_tz": -540
    },
    "id": "v7nwyAbo7u4p",
    "outputId": "30b298ea-97ff-496e-9f6c-dd570e0d7653"
   },
   "outputs": [
    {
     "name": "stdout",
     "output_type": "stream",
     "text": [
      "2\n"
     ]
    }
   ],
   "source": [
    "print(일차원_배열[0])   # 스칼라 값이 나온다."
   ]
  },
  {
   "cell_type": "code",
   "execution_count": null,
   "metadata": {
    "colab": {
     "base_uri": "https://localhost:8080/"
    },
    "executionInfo": {
     "elapsed": 241,
     "status": "ok",
     "timestamp": 1629914090556,
     "user": {
      "displayName": "박진수",
      "photoUrl": "https://lh3.googleusercontent.com/a-/AOh14Givt_n9gun5TCzjvq5ASwWr2b4FAUXE7mJI_JAt1g=s64",
      "userId": "04216559503906939593"
     },
     "user_tz": -540
    },
    "id": "KO7DbGoz9O9S",
    "outputId": "9aa304fa-0b1e-4fd1-a816-8a7a6bb2f833"
   },
   "outputs": [
    {
     "data": {
      "text/plain": [
       "numpy.int64"
      ]
     },
     "execution_count": 68,
     "metadata": {},
     "output_type": "execute_result"
    }
   ],
   "source": [
    "데이터 = 일차원_배열[0]\n",
    "type(데이터)"
   ]
  },
  {
   "cell_type": "code",
   "execution_count": null,
   "metadata": {
    "colab": {
     "base_uri": "https://localhost:8080/"
    },
    "executionInfo": {
     "elapsed": 5,
     "status": "ok",
     "timestamp": 1629914091519,
     "user": {
      "displayName": "박진수",
      "photoUrl": "https://lh3.googleusercontent.com/a-/AOh14Givt_n9gun5TCzjvq5ASwWr2b4FAUXE7mJI_JAt1g=s64",
      "userId": "04216559503906939593"
     },
     "user_tz": -540
    },
    "id": "YnBDYdjV8tYE",
    "outputId": "3529067a-a348-4d49-b0e8-692e86d7527d"
   },
   "outputs": [
    {
     "name": "stdout",
     "output_type": "stream",
     "text": [
      "[2]\n",
      "\n",
      "\n"
     ]
    }
   ],
   "source": [
    "print(일차원_배열[:1])  # 행렬 값이 나온다.\n",
    "print('\\n')"
   ]
  },
  {
   "cell_type": "code",
   "execution_count": null,
   "metadata": {
    "colab": {
     "base_uri": "https://localhost:8080/"
    },
    "executionInfo": {
     "elapsed": 248,
     "status": "ok",
     "timestamp": 1629914093720,
     "user": {
      "displayName": "박진수",
      "photoUrl": "https://lh3.googleusercontent.com/a-/AOh14Givt_n9gun5TCzjvq5ASwWr2b4FAUXE7mJI_JAt1g=s64",
      "userId": "04216559503906939593"
     },
     "user_tz": -540
    },
    "id": "7rMBzfd69dtW",
    "outputId": "22c738b4-922d-4e74-a35e-037f5aca075b"
   },
   "outputs": [
    {
     "data": {
      "text/plain": [
       "numpy.ndarray"
      ]
     },
     "execution_count": 70,
     "metadata": {},
     "output_type": "execute_result"
    }
   ],
   "source": [
    "데이터2 = 일차원_배열[:1]\n",
    "type(데이터2)"
   ]
  },
  {
   "cell_type": "code",
   "execution_count": null,
   "metadata": {
    "colab": {
     "base_uri": "https://localhost:8080/"
    },
    "executionInfo": {
     "elapsed": 265,
     "status": "ok",
     "timestamp": 1629914095127,
     "user": {
      "displayName": "박진수",
      "photoUrl": "https://lh3.googleusercontent.com/a-/AOh14Givt_n9gun5TCzjvq5ASwWr2b4FAUXE7mJI_JAt1g=s64",
      "userId": "04216559503906939593"
     },
     "user_tz": -540
    },
    "id": "OpZ066E491xl",
    "outputId": "2f2815d1-8b38-4921-90bf-1aa76357d42e"
   },
   "outputs": [
    {
     "name": "stdout",
     "output_type": "stream",
     "text": [
      "[ 2  4  8 10]\n"
     ]
    }
   ],
   "source": [
    "print(일차원_배열)"
   ]
  },
  {
   "cell_type": "code",
   "execution_count": null,
   "metadata": {
    "colab": {
     "base_uri": "https://localhost:8080/"
    },
    "executionInfo": {
     "elapsed": 265,
     "status": "ok",
     "timestamp": 1629914096555,
     "user": {
      "displayName": "박진수",
      "photoUrl": "https://lh3.googleusercontent.com/a-/AOh14Givt_n9gun5TCzjvq5ASwWr2b4FAUXE7mJI_JAt1g=s64",
      "userId": "04216559503906939593"
     },
     "user_tz": -540
    },
    "id": "wipnkM1uvtEM",
    "outputId": "a02807d3-fda9-4445-fdfa-0fa017c4365c"
   },
   "outputs": [
    {
     "name": "stdout",
     "output_type": "stream",
     "text": [
      "10\n",
      "[10]\n",
      "\n",
      "\n",
      "[ 8 10]\n",
      "[2 4 8]\n",
      "[ 4  8 10]\n"
     ]
    }
   ],
   "source": [
    "print(일차원_배열[-1])  # 스칼라 값이 나온다.\n",
    "print(일차원_배열[-1:]) # 행렬 값이 나온다.\n",
    "print('\\n')\n",
    "print(일차원_배열[2:5])\n",
    "print(일차원_배열[:3])\n",
    "print(일차원_배열[1:])"
   ]
  },
  {
   "cell_type": "code",
   "execution_count": null,
   "metadata": {
    "colab": {
     "base_uri": "https://localhost:8080/"
    },
    "executionInfo": {
     "elapsed": 242,
     "status": "ok",
     "timestamp": 1629914097956,
     "user": {
      "displayName": "박진수",
      "photoUrl": "https://lh3.googleusercontent.com/a-/AOh14Givt_n9gun5TCzjvq5ASwWr2b4FAUXE7mJI_JAt1g=s64",
      "userId": "04216559503906939593"
     },
     "user_tz": -540
    },
    "id": "6HrH0aIgwWyP",
    "outputId": "474f9dae-eb89-48bf-9618-e1ea69b9da8f"
   },
   "outputs": [
    {
     "name": "stdout",
     "output_type": "stream",
     "text": [
      "5\n",
      "10\n"
     ]
    }
   ],
   "source": [
    "# 2차원 배열 인덱싱\n",
    "이차원_배열 = np.array([[2, 4, 8, 10], [3, 5, 7, 9]]) \n",
    "print(이차원_배열[1, 1])  # 2행 2열 값이 출력된다.\n",
    "print(이차원_배열[0, 3])  # 1행 4열 값이 출력된다.\n"
   ]
  },
  {
   "cell_type": "code",
   "execution_count": null,
   "metadata": {
    "colab": {
     "base_uri": "https://localhost:8080/"
    },
    "executionInfo": {
     "elapsed": 260,
     "status": "ok",
     "timestamp": 1629914099706,
     "user": {
      "displayName": "박진수",
      "photoUrl": "https://lh3.googleusercontent.com/a-/AOh14Givt_n9gun5TCzjvq5ASwWr2b4FAUXE7mJI_JAt1g=s64",
      "userId": "04216559503906939593"
     },
     "user_tz": -540
    },
    "id": "O10ZI7qc-lJE",
    "outputId": "2a4c701a-4ae3-42ab-cb69-6a1025ebe760"
   },
   "outputs": [
    {
     "name": "stdout",
     "output_type": "stream",
     "text": [
      "[8 7]\n",
      "[3 5 7 9]\n"
     ]
    }
   ],
   "source": [
    "print(이차원_배열[:, 2])  # 각 행의 3열 값이 출력된다.\n",
    "print(이차원_배열[1, :])  # 2행이 모두 출력된다."
   ]
  },
  {
   "cell_type": "markdown",
   "metadata": {
    "id": "GPkGUSpnAWwy"
   },
   "source": [
    "### 2.8.2 [보충] 부울 인덱싱\n"
   ]
  },
  {
   "cell_type": "code",
   "execution_count": null,
   "metadata": {
    "colab": {
     "base_uri": "https://localhost:8080/"
    },
    "executionInfo": {
     "elapsed": 524,
     "status": "ok",
     "timestamp": 1637547938073,
     "user": {
      "displayName": "Yeong-A Kim",
      "photoUrl": "https://lh3.googleusercontent.com/a-/AOh14Gh1ACLrs5SHy5qbY0jUcw44cPqH43HulFKxJG8=s64",
      "userId": "05958505828539634494"
     },
     "user_tz": -540
    },
    "id": "ASvaE3hxClM1",
    "outputId": "7ea7312c-e7d5-4cdd-d311-34997bed8a6b"
   },
   "outputs": [
    {
     "name": "stdout",
     "output_type": "stream",
     "text": [
      "[1 2 3 4 5]\n"
     ]
    }
   ],
   "source": [
    "# 부울 값 기반 인덱싱에 쓸 배열들을 준비한다.\n",
    "모수_배열 = np.array([1, 2, 3, 4, 5])\n",
    "print(모수_배열)"
   ]
  },
  {
   "cell_type": "code",
   "execution_count": null,
   "metadata": {
    "colab": {
     "base_uri": "https://localhost:8080/"
    },
    "executionInfo": {
     "elapsed": 441,
     "status": "ok",
     "timestamp": 1637547998573,
     "user": {
      "displayName": "Yeong-A Kim",
      "photoUrl": "https://lh3.googleusercontent.com/a-/AOh14Gh1ACLrs5SHy5qbY0jUcw44cPqH43HulFKxJG8=s64",
      "userId": "05958505828539634494"
     },
     "user_tz": -540
    },
    "id": "XgppIzVZddrD",
    "outputId": "1bcf5f16-fb12-45a4-c8b2-2712fa95d81d"
   },
   "outputs": [
    {
     "name": "stdout",
     "output_type": "stream",
     "text": [
      "[1 0 1 0 1]\n",
      "[1 3 5]\n",
      "[2 1 2 1 2]\n"
     ]
    }
   ],
   "source": [
    "부울_배열_1 = np.array([True, False, True, False, True])\n",
    "부울_배열_2 = np.array([1, 0, 1, 0, 1]) # 인덱싱을 할 때는 부울 값을 1, 0으로 표기하면 안 된다. \n",
    "                                        # 이것은 '정수 인덱싱'이라고 부르는 방법이기 때문이다. \n",
    "print(부울_배열_2)\n",
    "print(모수_배열[부울_배열_1]) # 바른 방식이다. \n",
    "print(모수_배열[부울_배열_2]) # 문제가 생긴다. \n",
    "#~~~~~~! 중요하다  "
   ]
  },
  {
   "cell_type": "markdown",
   "metadata": {
    "id": "_0CmRHdFEvMK"
   },
   "source": [
    "### 2.8.3 [보충] 정수 인덱싱\n"
   ]
  },
  {
   "cell_type": "code",
   "execution_count": null,
   "metadata": {
    "colab": {
     "base_uri": "https://localhost:8080/"
    },
    "executionInfo": {
     "elapsed": 260,
     "status": "ok",
     "timestamp": 1629914128831,
     "user": {
      "displayName": "박진수",
      "photoUrl": "https://lh3.googleusercontent.com/a-/AOh14Givt_n9gun5TCzjvq5ASwWr2b4FAUXE7mJI_JAt1g=s64",
      "userId": "04216559503906939593"
     },
     "user_tz": -540
    },
    "id": "9CN5KbeXFTJB",
    "outputId": "6272bbd9-bb31-48c7-a242-93ee267f4a8e"
   },
   "outputs": [
    {
     "name": "stdout",
     "output_type": "stream",
     "text": [
      "[1 3 4]\n"
     ]
    }
   ],
   "source": [
    "모수_배열 = np.array([1, 2, 3, 4, 5])\n",
    "정수형_인덱스_배열 = np.array([0, 2, 3]) # 각 원소가 인덱스 값으로 쓰인다.\n",
    "\n",
    "print(모수_배열[정수형_인덱스_배열])\n",
    "# 출력을 해 보면 모수_배열의 0번째 원소(즉, 1), \n",
    "# 2번째 원소(즉, 3), 3번째 원소(즉, 4)가 출력되는 점을 볼 수 있다."
   ]
  },
  {
   "cell_type": "markdown",
   "metadata": {
    "id": "Jg_2YiBsY0YC"
   },
   "source": [
    "## 2.9 배열 슬라이싱\n",
    "넘파이 배열 슬라이싱도 리스트 슬라이싱과 크게 다르지 않다"
   ]
  },
  {
   "cell_type": "code",
   "execution_count": null,
   "metadata": {
    "colab": {
     "base_uri": "https://localhost:8080/"
    },
    "executionInfo": {
     "elapsed": 263,
     "status": "ok",
     "timestamp": 1629914154530,
     "user": {
      "displayName": "박진수",
      "photoUrl": "https://lh3.googleusercontent.com/a-/AOh14Givt_n9gun5TCzjvq5ASwWr2b4FAUXE7mJI_JAt1g=s64",
      "userId": "04216559503906939593"
     },
     "user_tz": -540
    },
    "id": "lp9PfQoiZGFZ",
    "outputId": "f507e4e7-bca1-4a15-b1aa-2b0863f44e45"
   },
   "outputs": [
    {
     "name": "stdout",
     "output_type": "stream",
     "text": [
      "[ 2  4  8 10]\n",
      "[2 3]\n",
      "[ 4  8 10]\n"
     ]
    }
   ],
   "source": [
    "이차원_배열 = np.array([[2, 4, 8, 10], [3, 5, 7, 9]]) \n",
    "\n",
    "print(이차원_배열[0, :]) # 첫 번째 행 전부\n",
    "print(이차원_배열[:, 0]) # 첫 번째 열 전부\n",
    "print(이차원_배열[0, 1:]) # 첫 번째 행의 두 번째 열부터 마지막 열까지 "
   ]
  },
  {
   "cell_type": "markdown",
   "metadata": {
    "id": "2N-CTCP4ywyE"
   },
   "source": [
    "# 3. 넘파이가 제공하는 메서드\n",
    "."
   ]
  },
  {
   "cell_type": "markdown",
   "metadata": {
    "id": "jowiZj2gzB6z"
   },
   "source": [
    "## 3.1  난수 생성\n"
   ]
  },
  {
   "cell_type": "code",
   "execution_count": null,
   "metadata": {
    "colab": {
     "base_uri": "https://localhost:8080/"
    },
    "executionInfo": {
     "elapsed": 250,
     "status": "ok",
     "timestamp": 1629914165218,
     "user": {
      "displayName": "박진수",
      "photoUrl": "https://lh3.googleusercontent.com/a-/AOh14Givt_n9gun5TCzjvq5ASwWr2b4FAUXE7mJI_JAt1g=s64",
      "userId": "04216559503906939593"
     },
     "user_tz": -540
    },
    "id": "5zzrKwC9zKpO",
    "outputId": "b9cb1c80-6cbb-4de2-a4f8-4b97771f2ab9"
   },
   "outputs": [
    {
     "name": "stdout",
     "output_type": "stream",
     "text": [
      "[[-0.22402771  0.02994763 -0.3090719  -1.07723534  0.67005179]\n",
      " [-1.43823945  1.08226749 -1.06658856 -0.07034148  0.91008925]\n",
      " [ 0.06774934  0.59451993  0.29065398 -0.35137354 -0.13938383]\n",
      " [-0.20942667  1.08792336 -0.3862425   0.52230953 -1.42966346]\n",
      " [-1.6546315   1.27932376  0.51654032 -2.14865187  1.29352108]]\n"
     ]
    }
   ],
   "source": [
    "# 코드를 실행할 때마다 행렬 원소 값이 달라진다. \n",
    "난수_배열 = np.random.randn(5, 5)\n",
    "print(난수_배열)"
   ]
  },
  {
   "cell_type": "markdown",
   "metadata": {
    "id": "jNDZKu5MziAv"
   },
   "source": [
    "## 3.2 기본 연산"
   ]
  },
  {
   "cell_type": "code",
   "execution_count": null,
   "metadata": {
    "colab": {
     "base_uri": "https://localhost:8080/"
    },
    "executionInfo": {
     "elapsed": 245,
     "status": "ok",
     "timestamp": 1629914168613,
     "user": {
      "displayName": "박진수",
      "photoUrl": "https://lh3.googleusercontent.com/a-/AOh14Givt_n9gun5TCzjvq5ASwWr2b4FAUXE7mJI_JAt1g=s64",
      "userId": "04216559503906939593"
     },
     "user_tz": -540
    },
    "id": "qBwCyjXGzdNA",
    "outputId": "a1d30c3a-3373-450a-b35f-34b98067eb09"
   },
   "outputs": [
    {
     "name": "stdout",
     "output_type": "stream",
     "text": [
      "[[0.22402771 0.02994763 0.3090719  1.07723534 0.67005179]\n",
      " [1.43823945 1.08226749 1.06658856 0.07034148 0.91008925]\n",
      " [0.06774934 0.59451993 0.29065398 0.35137354 0.13938383]\n",
      " [0.20942667 1.08792336 0.3862425  0.52230953 1.42966346]\n",
      " [1.6546315  1.27932376 0.51654032 2.14865187 1.29352108]]\n"
     ]
    }
   ],
   "source": [
    "#  절댓값 구하기\n",
    "절댓값_배열 = np.abs(난수_배열)\n",
    "print(절댓값_배열)"
   ]
  },
  {
   "cell_type": "code",
   "execution_count": null,
   "metadata": {
    "colab": {
     "base_uri": "https://localhost:8080/"
    },
    "executionInfo": {
     "elapsed": 248,
     "status": "ok",
     "timestamp": 1629914169988,
     "user": {
      "displayName": "박진수",
      "photoUrl": "https://lh3.googleusercontent.com/a-/AOh14Givt_n9gun5TCzjvq5ASwWr2b4FAUXE7mJI_JAt1g=s64",
      "userId": "04216559503906939593"
     },
     "user_tz": -540
    },
    "id": "GerpfrcDz_lW",
    "outputId": "6a62886d-f972-42da-b2fc-1ec9903a39d5"
   },
   "outputs": [
    {
     "name": "stdout",
     "output_type": "stream",
     "text": [
      "[[0.47331565 0.17305383 0.55594235 1.03789948 0.81856691]\n",
      " [1.19926621 1.04032086 1.03275774 0.26521969 0.95398598]\n",
      " [0.26028703 0.77105118 0.53912334 0.5927677  0.37334143]\n",
      " [0.45763158 1.04303565 0.62148411 0.72270985 1.19568535]\n",
      " [1.2863248  1.13107195 0.71870739 1.46582805 1.13733068]] \n",
      "\n",
      "[[5.01884135e-02 8.96860367e-04 9.55254397e-02 1.16043597e+00\n",
      "  4.48969395e-01]\n",
      " [2.06853272e+00 1.17130291e+00 1.13761115e+00 4.94792445e-03\n",
      "  8.28262451e-01]\n",
      " [4.58997262e-03 3.53453946e-01 8.44797345e-02 1.23463366e-01\n",
      "  1.94278508e-02]\n",
      " [4.38595284e-02 1.18357723e+00 1.49183266e-01 2.72807242e-01\n",
      "  2.04393761e+00]\n",
      " [2.73780541e+00 1.63666929e+00 2.66813901e-01 4.61670487e+00\n",
      "  1.67319677e+00]] \n",
      "\n",
      "[[1.25110568 1.03040057 1.36216031 2.93654975 1.95433852]\n",
      " [4.21327161 2.95136415 2.9054508  1.07287449 2.48454428]\n",
      " [1.07009704 1.81216077 1.33730177 1.42101804 1.14956525]\n",
      " [1.23297095 2.96810398 1.47144145 1.68591683 4.17729313]\n",
      " [5.23115191 3.59420836 1.67621843 8.5732927  3.64560042]] \n",
      "\n",
      "[[-1.49598554 -3.50830519 -1.17418134  0.07439789 -0.40040028]\n",
      " [ 0.36341976  0.07905836  0.06446529 -2.65439355 -0.0942126 ]\n",
      " [-2.69194061 -0.52000104 -1.2356218  -1.0459054  -1.97052382]\n",
      " [-1.56338164  0.0842707  -0.95128988 -0.6494949   0.35743907]\n",
      " [ 0.50357833  0.24633163 -0.66060193  0.76484061  0.25736802]] \n",
      "\n",
      "[[-0.64969827 -1.52363758 -0.50994048  0.03231059 -0.17389163]\n",
      " [ 0.1578312   0.03433461  0.02799692 -1.15278847 -0.04091601]\n",
      " [-1.16909495 -0.22583358 -0.53662373 -0.45423094 -0.85578762]\n",
      " [-0.67896802  0.0365983  -0.41313994 -0.28207205  0.15523382]\n",
      " [ 0.21870129  0.10698047 -0.28689577  0.33216606  0.11177351]] \n",
      "\n",
      "[[-2.15825092 -5.0614145  -1.6939856   0.10733346 -0.5776555 ]\n",
      " [ 0.52430389  0.11405711  0.09300376 -3.82948041 -0.13592005]\n",
      " [-3.88364937 -0.75020292 -1.78262544 -1.50892253 -2.84286494]\n",
      " [-2.25548294  0.12157693 -1.37242119 -0.93702308  0.51567558]\n",
      " [ 0.72650996  0.35538142 -0.95304713  1.10343175  0.37130356]] \n",
      "\n"
     ]
    }
   ],
   "source": [
    "# 지수와 로그 연산\n",
    "print(np.sqrt(절댓값_배열), '\\n')   # 제곱근 구하기\n",
    "print(np.square(절댓값_배열), '\\n') # 제곱 구하기\n",
    "print(np.exp(절댓값_배열), '\\n')    # 자연 대수 구하기\n",
    "print(np.log(절댓값_배열), '\\n')    # 자연 로그 구하기\n",
    "print(np.log10(절댓값_배열), '\\n')  # 상용 로그 구하기\n",
    "print(np.log2(절댓값_배열), '\\n')   # 밑이 2인 로그 구하기"
   ]
  },
  {
   "cell_type": "code",
   "execution_count": null,
   "metadata": {
    "colab": {
     "base_uri": "https://localhost:8080/"
    },
    "executionInfo": {
     "elapsed": 260,
     "status": "ok",
     "timestamp": 1629914174986,
     "user": {
      "displayName": "박진수",
      "photoUrl": "https://lh3.googleusercontent.com/a-/AOh14Givt_n9gun5TCzjvq5ASwWr2b4FAUXE7mJI_JAt1g=s64",
      "userId": "04216559503906939593"
     },
     "user_tz": -540
    },
    "id": "nsNEPfsv2Do6",
    "outputId": "7c4784b2-9155-4cf3-846f-3966c57e2c02"
   },
   "outputs": [
    {
     "name": "stdout",
     "output_type": "stream",
     "text": [
      "[[-0.99922208  0.97213318]\n",
      " [ 0.50885574 -0.79905645]] \n",
      "\n",
      "[[ 0.03943654  0.23442926]\n",
      " [-0.86085181 -0.60125601]] \n",
      "\n",
      "[[-0.03946724  0.24114933]\n",
      " [-1.69174039  0.7524575 ]] \n",
      "\n"
     ]
    }
   ],
   "source": [
    "# 삼각함수 연산\n",
    "새_난수_배열 = np.random.randn(2, 2)\n",
    "print(np.cos(새_난수_배열), '\\n') # 코사인 함수\n",
    "print(np.sin(새_난수_배열), '\\n')  # 사인 함수\n",
    "print(np.tan(새_난수_배열), '\\n')  # 탄젠트 함수\n",
    "\n",
    "# 이 밖에도 sinh, cosh, tanh, arcsin, arccos, arctan, arcsinh, arccosh, arctanh가 구비되어 있다. "
   ]
  },
  {
   "cell_type": "markdown",
   "metadata": {
    "id": "NgxgYxOvCUv-"
   },
   "source": [
    "## 3.3 행렬 간 연산"
   ]
  },
  {
   "cell_type": "code",
   "execution_count": null,
   "metadata": {
    "colab": {
     "base_uri": "https://localhost:8080/"
    },
    "executionInfo": {
     "elapsed": 255,
     "status": "ok",
     "timestamp": 1629914178650,
     "user": {
      "displayName": "박진수",
      "photoUrl": "https://lh3.googleusercontent.com/a-/AOh14Givt_n9gun5TCzjvq5ASwWr2b4FAUXE7mJI_JAt1g=s64",
      "userId": "04216559503906939593"
     },
     "user_tz": -540
    },
    "id": "-HIaGaUXCi9H",
    "outputId": "346d2552-0461-4ae4-b259-79c033140bcb"
   },
   "outputs": [
    {
     "name": "stdout",
     "output_type": "stream",
     "text": [
      "[[4 0 4 4 4]\n",
      " [2 0 3 1 0]\n",
      " [3 4 4 4 1]\n",
      " [3 1 2 2 4]\n",
      " [0 0 0 2 2]]\n",
      "\n",
      "\n",
      "[[3 2 0 1 1]\n",
      " [2 4 2 3 3]\n",
      " [4 2 4 2 2]\n",
      " [4 0 0 3 1]\n",
      " [2 4 4 1 2]]\n"
     ]
    }
   ],
   "source": [
    "# 연산에 쓸 정수 행렬 두 개를 생성한다.\n",
    "행렬_1 = np.random.randint(5, size=(5, 5))  # 0 ~ 4 사이 난수 생성     균등 분포  (최대값 , 사이즈 )\n",
    "행렬_2 = np.random.randint(5, size=(5, 5)) # 정수형 균등 분포를 형성한다.  \n",
    "\n",
    "print(행렬_1)\n",
    "print('\\n')\n",
    "print(행렬_2)"
   ]
  },
  {
   "cell_type": "code",
   "execution_count": null,
   "metadata": {
    "colab": {
     "base_uri": "https://localhost:8080/"
    },
    "executionInfo": {
     "elapsed": 383,
     "status": "ok",
     "timestamp": 1629914204959,
     "user": {
      "displayName": "박진수",
      "photoUrl": "https://lh3.googleusercontent.com/a-/AOh14Givt_n9gun5TCzjvq5ASwWr2b4FAUXE7mJI_JAt1g=s64",
      "userId": "04216559503906939593"
     },
     "user_tz": -540
    },
    "id": "H2eZA2iiEg41",
    "outputId": "d9658a09-a49d-4845-f78f-2d9dd3d1a36f"
   },
   "outputs": [
    {
     "name": "stdout",
     "output_type": "stream",
     "text": [
      "[[7 2 4 5 5]\n",
      " [4 4 5 4 3]\n",
      " [7 6 8 6 3]\n",
      " [7 1 2 5 5]\n",
      " [2 4 4 3 4]] \n",
      "\n",
      "[[ 1 -2  4  3  3]\n",
      " [ 0 -4  1 -2 -3]\n",
      " [-1  2  0  2 -1]\n",
      " [-1  1  2 -1  3]\n",
      " [-2 -4 -4  1  0]] \n",
      "\n",
      "[[12  0  0  4  4]\n",
      " [ 4  0  6  3  0]\n",
      " [12  8 16  8  2]\n",
      " [12  0  0  6  4]\n",
      " [ 0  0  0  2  4]] \n",
      "\n"
     ]
    }
   ],
   "source": [
    "# 행렬 간 사칙연산\n",
    "print(np.add(행렬_1, 행렬_2), '\\n')       # 덧셈\n",
    "print(np.subtract(행렬_1, 행렬_2), '\\n')  # 뺄셈\n",
    "print(np.multiply(행렬_1, 행렬_2), '\\n')  # 곱셈  \n"
   ]
  },
  {
   "cell_type": "code",
   "execution_count": null,
   "metadata": {
    "colab": {
     "base_uri": "https://localhost:8080/"
    },
    "executionInfo": {
     "elapsed": 297,
     "status": "ok",
     "timestamp": 1629914209892,
     "user": {
      "displayName": "박진수",
      "photoUrl": "https://lh3.googleusercontent.com/a-/AOh14Givt_n9gun5TCzjvq5ASwWr2b4FAUXE7mJI_JAt1g=s64",
      "userId": "04216559503906939593"
     },
     "user_tz": -540
    },
    "id": "bLL2WukGIvxt",
    "outputId": "d6d50e57-95bf-47f6-b3e5-400725c926eb"
   },
   "outputs": [
    {
     "name": "stdout",
     "output_type": "stream",
     "text": [
      "[[1.33333333 0.                inf 4.         4.        ]\n",
      " [1.         0.         1.5        0.33333333 0.        ]\n",
      " [0.75       2.         1.         2.         0.5       ]\n",
      " [0.75              inf        inf 0.66666667 4.        ]\n",
      " [0.         0.         0.         2.         1.        ]]\n"
     ]
    },
    {
     "name": "stderr",
     "output_type": "stream",
     "text": [
      "/usr/local/lib/python3.7/dist-packages/ipykernel_launcher.py:1: RuntimeWarning: divide by zero encountered in true_divide\n",
      "  \"\"\"Entry point for launching an IPython kernel.\n"
     ]
    }
   ],
   "source": [
    "# 행렬 간에 나눗셈을 할 때의 문제\n",
    "print(np.divide(행렬_1, 행렬_2))    # 나눗셈   ㅠ infinit  = 무한대       # nan    a number   = 수가 아니다.  \n",
    "\n",
    "#중간에  0으로 나눈값이 존재 한다.  "
   ]
  },
  {
   "cell_type": "markdown",
   "metadata": {
    "id": "MYT7TLvTdXZN"
   },
   "source": [
    "행렬 간에 나눗셈을 할 때는 0으로 나누는 경우 등이 생길 수 있다"
   ]
  },
  {
   "cell_type": "code",
   "execution_count": null,
   "metadata": {
    "colab": {
     "base_uri": "https://localhost:8080/"
    },
    "executionInfo": {
     "elapsed": 241,
     "status": "ok",
     "timestamp": 1629914291024,
     "user": {
      "displayName": "박진수",
      "photoUrl": "https://lh3.googleusercontent.com/a-/AOh14Givt_n9gun5TCzjvq5ASwWr2b4FAUXE7mJI_JAt1g=s64",
      "userId": "04216559503906939593"
     },
     "user_tz": -540
    },
    "id": "BhdN0o_jFyDG",
    "outputId": "4e9aaa33-2282-49dd-b237-f071a9ba7cd0"
   },
   "outputs": [
    {
     "name": "stdout",
     "output_type": "stream",
     "text": [
      "[[4 2 4 4 4]\n",
      " [2 4 3 3 3]\n",
      " [4 4 4 4 2]\n",
      " [4 1 2 3 4]\n",
      " [2 4 4 2 2]] \n",
      "\n",
      "[[3 0 0 1 1]\n",
      " [2 0 2 1 0]\n",
      " [3 2 4 2 1]\n",
      " [3 0 0 2 1]\n",
      " [0 0 0 1 2]] \n",
      "\n"
     ]
    }
   ],
   "source": [
    "# 행렬 간의 최댓값/최솟값 구하기 \n",
    "print(np.maximum(행렬_1, 행렬_2), '\\n')    # 최댓값\n",
    "print(np.minimum(행렬_1, 행렬_2), '\\n')    # 최솟값"
   ]
  },
  {
   "cell_type": "markdown",
   "metadata": {
    "id": "foZWApZZHAoL"
   },
   "source": [
    "## 3.4 통계 연산\n",
    "넘파이를 사용하면 행렬에 대한 각종 **통계량**(stats)을 쉽게 알 수 있다\n",
    "\n",
    "머신러닝, 딥러닝  = 수리통계 , 통계학 , 수학  \n",
    "내장  =  embedding  \n",
    "Guassian model   = 가우스 모형  , 가우스 혼합 \n",
    "\n"
   ]
  },
  {
   "cell_type": "code",
   "execution_count": null,
   "metadata": {
    "colab": {
     "base_uri": "https://localhost:8080/"
    },
    "executionInfo": {
     "elapsed": 423,
     "status": "ok",
     "timestamp": 1637553851950,
     "user": {
      "displayName": "Yeong-A Kim",
      "photoUrl": "https://lh3.googleusercontent.com/a-/AOh14Gh1ACLrs5SHy5qbY0jUcw44cPqH43HulFKxJG8=s64",
      "userId": "05958505828539634494"
     },
     "user_tz": -540
    },
    "id": "MuTpyXa0HF4K",
    "outputId": "74e50d51-c6fb-42b5-9d88-9cb9b441e3a2"
   },
   "outputs": [
    {
     "name": "stdout",
     "output_type": "stream",
     "text": [
      "[[14 11  6  9  6]\n",
      " [ 8  9 13 15  6]\n",
      " [ 6 15  7  1  7]\n",
      " [ 3 12  9  4 18]\n",
      " [18 10 17  9  4]]\n"
     ]
    }
   ],
   "source": [
    "# 연산에 쓸 정수 행렬 한 개를 생성한다.\n",
    "행렬 = np.random.randint(20, size=(5, 5))  # 0 ~ 19 사이 난수 생성\n",
    "print(행렬)"
   ]
  },
  {
   "cell_type": "code",
   "execution_count": null,
   "metadata": {
    "colab": {
     "base_uri": "https://localhost:8080/"
    },
    "executionInfo": {
     "elapsed": 272,
     "status": "ok",
     "timestamp": 1629914365321,
     "user": {
      "displayName": "박진수",
      "photoUrl": "https://lh3.googleusercontent.com/a-/AOh14Givt_n9gun5TCzjvq5ASwWr2b4FAUXE7mJI_JAt1g=s64",
      "userId": "04216559503906939593"
     },
     "user_tz": -540
    },
    "id": "z5aFSjWaHTG2",
    "outputId": "e579c27e-0811-4299-d420-1b5fa4900655"
   },
   "outputs": [
    {
     "name": "stdout",
     "output_type": "stream",
     "text": [
      "262 \n",
      "\n",
      "[58 22 80 59 43] \n",
      "\n",
      "[45 54 54 51 58] \n",
      "\n"
     ]
    }
   ],
   "source": [
    "# 성분별 합계 구하기\n",
    "print(np.sum(행렬), '\\n')           # 전체 성분의 합\n",
    "print(np.sum(행렬, axis = 0), '\\n') # 행 성분의 합\n",
    "print(np.sum(행렬, axis = 1), '\\n') # 열 성분의 합"
   ]
  },
  {
   "cell_type": "code",
   "execution_count": null,
   "metadata": {
    "colab": {
     "base_uri": "https://localhost:8080/"
    },
    "executionInfo": {
     "elapsed": 401,
     "status": "ok",
     "timestamp": 1629914415353,
     "user": {
      "displayName": "박진수",
      "photoUrl": "https://lh3.googleusercontent.com/a-/AOh14Givt_n9gun5TCzjvq5ASwWr2b4FAUXE7mJI_JAt1g=s64",
      "userId": "04216559503906939593"
     },
     "user_tz": -540
    },
    "id": "lpQ8oSGZH3ag",
    "outputId": "c2549d9d-9e83-4912-d44d-dc14a5464f0e"
   },
   "outputs": [
    {
     "name": "stdout",
     "output_type": "stream",
     "text": [
      "10.48 \n",
      "\n",
      "39.6896 \n",
      "\n",
      "6.299968253888268 \n",
      "\n",
      "11.0 \n",
      "\n"
     ]
    }
   ],
   "source": [
    "# 평균, 표준편차, 분산, 중앙값 계산하기   :  탐색적 데이터 분석시 사용 \n",
    "print(np.mean(행렬), '\\n')    # 전체 성분의 평균 \n",
    "print(np.var(행렬), '\\n')     # 전체 성분의 분산\n",
    "print(np.std(행렬), '\\n')     # 전체 성분의 표준편차\n",
    "print(np.median(행렬), '\\n')  # 전체 성분의 중위수"
   ]
  },
  {
   "cell_type": "code",
   "execution_count": null,
   "metadata": {
    "colab": {
     "base_uri": "https://localhost:8080/"
    },
    "executionInfo": {
     "elapsed": 246,
     "status": "ok",
     "timestamp": 1629914441350,
     "user": {
      "displayName": "박진수",
      "photoUrl": "https://lh3.googleusercontent.com/a-/AOh14Givt_n9gun5TCzjvq5ASwWr2b4FAUXE7mJI_JAt1g=s64",
      "userId": "04216559503906939593"
     },
     "user_tz": -540
    },
    "id": "kbChs19QbGj6",
    "outputId": "e52ed510-dc20-4408-ec6b-4200e830fddb"
   },
   "outputs": [
    {
     "name": "stdout",
     "output_type": "stream",
     "text": [
      "0.0 \n",
      "\n",
      "5.0 \n",
      "\n",
      "11.0 \n",
      "\n",
      "16.0 \n",
      "\n",
      "19.0 \n",
      "\n"
     ]
    }
   ],
   "source": [
    "# 사분위수 구하기\n",
    "print(np.percentile(행렬, 0), '\\n') # 전체 성분의 최솟값\n",
    "print(np.percentile(행렬, 25), '\\n') # 전체 성분의 1/4분위 위치 값 \n",
    "print(np.percentile(행렬, 50), '\\n') # 전체 성분의 2/4분위 위치 값 \n",
    "print(np.percentile(행렬, 75), '\\n') # 전체 성분의 3/4분위 위치 값 \n",
    "print(np.percentile(행렬, 100), '\\n') # 전체 성분의 4/4분위 위치 값  = 최댓값"
   ]
  },
  {
   "cell_type": "code",
   "execution_count": null,
   "metadata": {
    "colab": {
     "base_uri": "https://localhost:8080/"
    },
    "executionInfo": {
     "elapsed": 250,
     "status": "ok",
     "timestamp": 1629914458321,
     "user": {
      "displayName": "박진수",
      "photoUrl": "https://lh3.googleusercontent.com/a-/AOh14Givt_n9gun5TCzjvq5ASwWr2b4FAUXE7mJI_JAt1g=s64",
      "userId": "04216559503906939593"
     },
     "user_tz": -540
    },
    "id": "_0HxDo0BItjj",
    "outputId": "2d2af791-eccf-4bf2-c204-166bbc2b19dd"
   },
   "outputs": [
    {
     "name": "stdout",
     "output_type": "stream",
     "text": [
      "19 \n",
      "\n",
      "0 \n",
      "\n"
     ]
    }
   ],
   "source": [
    "# 최댓값, 최솟값 구하기\n",
    "print(np.max(행렬), '\\n') # 전체 성분의 최댓값\n",
    "print(np.min(행렬), '\\n') # 전체 성분의 최솟값"
   ]
  },
  {
   "cell_type": "markdown",
   "metadata": {
    "id": "vqJjvmivceaV"
   },
   "source": [
    "## 3.5 난수 처리\n"
   ]
  },
  {
   "cell_type": "markdown",
   "metadata": {
    "id": "MRMSGTWhdJ3T"
   },
   "source": [
    "### 3.5.1 시드 값 정하기\n",
    "시드(seed)란 우리 말로 하면 '씨앗'으로 번역될 수 있는 말로, 여러 차례에 걸쳐 난수를 생성할 때 매번 같은 난수가 생성될 수 있도록 하기 위한 시촛값에 해당 이 값을 정해두면 코드가 새로 실행될 때마다 난수가 바뀌지 않기 때문에, 코드가 항상 동일한 결과를 낼 수 있게 할 수 있다. 즉, **코드의 재현성**에 필수인 기능이다"
   ]
  },
  {
   "cell_type": "code",
   "execution_count": null,
   "metadata": {
    "colab": {
     "base_uri": "https://localhost:8080/"
    },
    "executionInfo": {
     "elapsed": 251,
     "status": "ok",
     "timestamp": 1629914564444,
     "user": {
      "displayName": "박진수",
      "photoUrl": "https://lh3.googleusercontent.com/a-/AOh14Givt_n9gun5TCzjvq5ASwWr2b4FAUXE7mJI_JAt1g=s64",
      "userId": "04216559503906939593"
     },
     "user_tz": -540
    },
    "id": "3N0dqROEePqe",
    "outputId": "0d3357c6-b34e-42a2-b8c1-5e1671bb0074"
   },
   "outputs": [
    {
     "name": "stdout",
     "output_type": "stream",
     "text": [
      "[0.44345544 0.35933643 0.12991391 0.22760695 0.5545243 ] \n",
      "\n",
      "[0.72574494 0.59560351 0.47267767 0.68898728 0.99557161] \n",
      "\n"
     ]
    }
   ],
   "source": [
    "# 시드를 정하지 않고 난수를 거듭 발생시키는 경우 \n",
    "# 매번 다른 결과가 나온다. \n",
    "print(np.random.rand(5), '\\n')\n",
    "print(np.random.rand(5), '\\n')"
   ]
  },
  {
   "cell_type": "code",
   "execution_count": null,
   "metadata": {
    "colab": {
     "base_uri": "https://localhost:8080/"
    },
    "executionInfo": {
     "elapsed": 246,
     "status": "ok",
     "timestamp": 1629914580405,
     "user": {
      "displayName": "박진수",
      "photoUrl": "https://lh3.googleusercontent.com/a-/AOh14Givt_n9gun5TCzjvq5ASwWr2b4FAUXE7mJI_JAt1g=s64",
      "userId": "04216559503906939593"
     },
     "user_tz": -540
    },
    "id": "cZhE24eGd5FU",
    "outputId": "8d1885fe-5ccb-4969-a6b7-9a9b079ca0ce"
   },
   "outputs": [
    {
     "name": "stdout",
     "output_type": "stream",
     "text": [
      "[0.5488135  0.71518937 0.60276338 0.54488318 0.4236548 ] \n",
      "\n",
      "[0.5488135  0.71518937 0.60276338 0.54488318 0.4236548 ] \n",
      "\n"
     ]
    }
   ],
   "source": [
    "# 똑같은 시드 값을 정해 난수를 거듭 발생시키는 경우\n",
    "# 매번 같은 값이 나온다.  모의 데이터 실험시 매번 모의 데이터가 같아야 비교를 한다.  \n",
    "np.random.seed(0)  # 시드 값을 정할 때는 0 이상인 정수로 지정한다.\n",
    "print(np.random.rand(5), '\\n')\n",
    "\n",
    "np.random.seed(0)\n",
    "print(np.random.rand(5), '\\n')\n"
   ]
  },
  {
   "cell_type": "markdown",
   "metadata": {
    "id": "leVGEKS2oze5"
   },
   "source": [
    "### 3.5.2 난수 생성\n"
   ]
  },
  {
   "cell_type": "markdown",
   "metadata": {
    "id": "zYHbZZ2Bez8w"
   },
   "source": [
    "#### 3.5.2.1 균일 분포 배열 형성"
   ]
  },
  {
   "cell_type": "code",
   "execution_count": null,
   "metadata": {
    "colab": {
     "base_uri": "https://localhost:8080/"
    },
    "executionInfo": {
     "elapsed": 238,
     "status": "ok",
     "timestamp": 1629914843241,
     "user": {
      "displayName": "박진수",
      "photoUrl": "https://lh3.googleusercontent.com/a-/AOh14Givt_n9gun5TCzjvq5ASwWr2b4FAUXE7mJI_JAt1g=s64",
      "userId": "04216559503906939593"
     },
     "user_tz": -540
    },
    "id": "me5eC-1jrLbH",
    "outputId": "13b3e6ae-aafb-4935-94f5-ac21d6541687"
   },
   "outputs": [
    {
     "name": "stdout",
     "output_type": "stream",
     "text": [
      "[0.287991   0.38346223 0.74916984 0.87845219 0.10286336]\n",
      "\n",
      "\n"
     ]
    }
   ],
   "source": [
    "# 크기가 5인 일차원 균일 배열(즉, 벡터 또는 일차 텐서) 형성\n",
    "# 이때 각 성분의 범위는 0 ~ 1\n",
    "일차원_균일분포_배열 = np.random.rand(5)  \n",
    "print(일차원_균일분포_배열)\n",
    "print('\\n')\n"
   ]
  },
  {
   "cell_type": "code",
   "execution_count": null,
   "metadata": {
    "colab": {
     "base_uri": "https://localhost:8080/"
    },
    "executionInfo": {
     "elapsed": 5,
     "status": "ok",
     "timestamp": 1629914844293,
     "user": {
      "displayName": "박진수",
      "photoUrl": "https://lh3.googleusercontent.com/a-/AOh14Givt_n9gun5TCzjvq5ASwWr2b4FAUXE7mJI_JAt1g=s64",
      "userId": "04216559503906939593"
     },
     "user_tz": -540
    },
    "id": "y-hHLq1TLu8w",
    "outputId": "3cd57ace-9508-4bb9-fe1d-d93b62c7dee1"
   },
   "outputs": [
    {
     "name": "stdout",
     "output_type": "stream",
     "text": [
      "[[0.09237389 0.35404666 0.55181626 0.03362509 0.96896177]\n",
      " [0.32099724 0.22126269 0.1412639  0.09725993 0.98404224]\n",
      " [0.26034093 0.53702252 0.44792617 0.09956909 0.35231166]\n",
      " [0.46924917 0.84114013 0.90464774 0.03755938 0.50831545]\n",
      " [0.16684751 0.77905102 0.8649333  0.41139672 0.13997259]]\n"
     ]
    }
   ],
   "source": [
    "# 크기가 5 X 5인 이차원 균일분포 배열(즉, 행렬 또는 이차 텐서) 형성\n",
    "# 이때 각 성분의 범위는 0 ~ 1\n",
    "이차원_균일분포_배열 = np.random.rand(5, 5)  #균일 분포   randn() -> normal  =정규분포  \n",
    "print(이차원_균일분포_배열)"
   ]
  },
  {
   "cell_type": "code",
   "execution_count": null,
   "metadata": {
    "colab": {
     "base_uri": "https://localhost:8080/"
    },
    "executionInfo": {
     "elapsed": 306,
     "status": "ok",
     "timestamp": 1629914934823,
     "user": {
      "displayName": "박진수",
      "photoUrl": "https://lh3.googleusercontent.com/a-/AOh14Givt_n9gun5TCzjvq5ASwWr2b4FAUXE7mJI_JAt1g=s64",
      "userId": "04216559503906939593"
     },
     "user_tz": -540
    },
    "id": "zpAYPL4xtzH_",
    "outputId": "92c469bb-2f8c-4cc5-a6d0-07a5ebbea20c"
   },
   "outputs": [
    {
     "name": "stdout",
     "output_type": "stream",
     "text": [
      "[16 16  3 17 10  9 12 13  6  6  7  8 13  7 16 15  8  3  6 17] \n",
      "\n",
      "[27 22 36 38 33 24 24 32 37 21 25 21 39 39 27 29 37 29 20 39] \n",
      "\n",
      "[[24 37 36 23 30]\n",
      " [21 24 24 36 36]\n",
      " [35 30 33 28 31]\n",
      " [26 29 35 23 39]] \n",
      "\n"
     ]
    }
   ],
   "source": [
    "# 각 성분 값이 정수로 된 2차원 균일 분포 배열 형성\n",
    "print(np.random.randint(20, size = 20), '\\n')  # 0 ~ 19 사이 정수 균일분포 형성\n",
    "print(np.random.randint(20, 40, size = 20), '\\n') # 20 ~ 39 사이 정수 균일분포 형성\n",
    "print(np.random.randint(20, 40, size = (4, 5)), '\\n') # 20 ~ 39 사이 2차원 균일 분포 형성"
   ]
  },
  {
   "cell_type": "code",
   "execution_count": null,
   "metadata": {
    "colab": {
     "base_uri": "https://localhost:8080/"
    },
    "executionInfo": {
     "elapsed": 248,
     "status": "ok",
     "timestamp": 1629914956182,
     "user": {
      "displayName": "박진수",
      "photoUrl": "https://lh3.googleusercontent.com/a-/AOh14Givt_n9gun5TCzjvq5ASwWr2b4FAUXE7mJI_JAt1g=s64",
      "userId": "04216559503906939593"
     },
     "user_tz": -540
    },
    "id": "N7wtJBA3MUHZ",
    "outputId": "d205f9e4-5014-461a-95e9-c73ed293f8dd"
   },
   "outputs": [
    {
     "name": "stdout",
     "output_type": "stream",
     "text": [
      "[[[9 5 5 1]\n",
      "  [7 8 6 4]\n",
      "  [7 3 5 3]]\n",
      "\n",
      " [[6 4 7 3]\n",
      "  [0 5 9 3]\n",
      "  [7 5 5 8]]]\n"
     ]
    }
   ],
   "source": [
    "# 각 성분 값이 정수로 된 3차원 균일 분포 배열 형성\n",
    "print(np.random.randint(10, size = (2,3,4)))"
   ]
  },
  {
   "cell_type": "code",
   "execution_count": null,
   "metadata": {
    "colab": {
     "base_uri": "https://localhost:8080/"
    },
    "executionInfo": {
     "elapsed": 260,
     "status": "ok",
     "timestamp": 1629915031487,
     "user": {
      "displayName": "박진수",
      "photoUrl": "https://lh3.googleusercontent.com/a-/AOh14Givt_n9gun5TCzjvq5ASwWr2b4FAUXE7mJI_JAt1g=s64",
      "userId": "04216559503906939593"
     },
     "user_tz": -540
    },
    "id": "HcWLv_K2r4tr",
    "outputId": "7b0162ea-2db4-4600-830a-625621f95ea5"
   },
   "outputs": [
    {
     "name": "stdout",
     "output_type": "stream",
     "text": [
      "[-0.89989113  0.12924181  0.97969276  0.32837496  0.48707415]\n"
     ]
    }
   ],
   "source": [
    "# 표준정규분포(기댓값이 0, 표준편차가 1인 분포)를 따르는 1차원 배열 형성 : 표준분포로 초기화하게 되면 인공지능이 필용하다.  \n",
    "일차원_표준정규분포_배열 = np.random.randn(5)  # 크기가 5인 벡터\n",
    "print(일차원_표준정규분포_배열)\n"
   ]
  },
  {
   "cell_type": "code",
   "execution_count": null,
   "metadata": {
    "colab": {
     "base_uri": "https://localhost:8080/"
    },
    "executionInfo": {
     "elapsed": 254,
     "status": "ok",
     "timestamp": 1629915058893,
     "user": {
      "displayName": "박진수",
      "photoUrl": "https://lh3.googleusercontent.com/a-/AOh14Givt_n9gun5TCzjvq5ASwWr2b4FAUXE7mJI_JAt1g=s64",
      "userId": "04216559503906939593"
     },
     "user_tz": -540
    },
    "id": "wE_d0VZdMmEx",
    "outputId": "a88c528c-065c-403c-f65c-364c341ff121"
   },
   "outputs": [
    {
     "name": "stdout",
     "output_type": "stream",
     "text": [
      "[[ 0.14484156 -0.0856099   0.7105399   0.93095988  0.87507402]\n",
      " [-0.71156531 -0.36120904 -2.10924743 -1.09376775  1.2045055 ]\n",
      " [ 0.11108051  1.96099802  0.39459838 -0.82712929  0.22490418]\n",
      " [-0.15302329 -0.24072956  0.08158307  1.23816955  2.18377828]\n",
      " [ 0.19056415 -0.49816695  0.04751241  1.44832909  0.42822114]]\n"
     ]
    }
   ],
   "source": [
    "# 표준정규분포(기댓값이 0, 표준편차가 1인 분포)를 따르는 2차원 배열 형성\n",
    "이차원_표준정규분포_배열 = np.random.randn(5, 5)  # 크기가 5X5인 행렬 형성\n",
    "print(이차원_표준정규분포_배열)"
   ]
  },
  {
   "cell_type": "markdown",
   "metadata": {
    "id": "aS7W8z09kQDU"
   },
   "source": [
    "### 3.5.3 데이터 임의표본추출\n",
    "표본추출(sampling)이라는 말을 컴퓨터과학을 포함해 다양한 이과/공과 계열 학문에서는 **샘플링**이라고 부르는 경우도 많지만, 향후 인공지능 구현 시에 통계학에서 유래한 개념들이 많이 쓰이므로(딥러닝도 마찬가지) 앞으로 **표본추출**이나 **표집**이라고 부른다(어감에 차이가 있지만 무시). **임의표본추출**(random sampling), 즉 **임의표집**이란 **모집단**(population)에서 아무렇게나 **표본**(sample)을 선택해 **추출**(sampling)한다는 말"
   ]
  },
  {
   "cell_type": "code",
   "execution_count": null,
   "metadata": {
    "colab": {
     "base_uri": "https://localhost:8080/"
    },
    "executionInfo": {
     "elapsed": 274,
     "status": "ok",
     "timestamp": 1629915514425,
     "user": {
      "displayName": "박진수",
      "photoUrl": "https://lh3.googleusercontent.com/a-/AOh14Givt_n9gun5TCzjvq5ASwWr2b4FAUXE7mJI_JAt1g=s64",
      "userId": "04216559503906939593"
     },
     "user_tz": -540
    },
    "id": "1XxlJXLMk9Im",
    "outputId": "6a4930b3-900d-44a9-8171-002d9db26366"
   },
   "outputs": [
    {
     "name": "stdout",
     "output_type": "stream",
     "text": [
      "[2 5 4 9 1]\n"
     ]
    }
   ],
   "source": [
    "# 일차원 표본추출 배열 형성\n",
    "표본추출_배열 = np.random.choice(10, 5)  # 모집단은 0~9, 벡터 크기는 5\n",
    "print(표본추출_배열)"
   ]
  },
  {
   "cell_type": "code",
   "execution_count": null,
   "metadata": {
    "colab": {
     "base_uri": "https://localhost:8080/"
    },
    "executionInfo": {
     "elapsed": 268,
     "status": "ok",
     "timestamp": 1629915516003,
     "user": {
      "displayName": "박진수",
      "photoUrl": "https://lh3.googleusercontent.com/a-/AOh14Givt_n9gun5TCzjvq5ASwWr2b4FAUXE7mJI_JAt1g=s64",
      "userId": "04216559503906939593"
     },
     "user_tz": -540
    },
    "id": "9YPcMVO3mQ1-",
    "outputId": "118fcd43-0044-420d-e828-7cf810555e7b"
   },
   "outputs": [
    {
     "name": "stdout",
     "output_type": "stream",
     "text": [
      "[[5 9 4 5 7]\n",
      " [4 4 2 2 1]\n",
      " [3 0 1 9 1]\n",
      " [6 9 8 6 3]\n",
      " [0 7 3 2 5]]\n"
     ]
    }
   ],
   "source": [
    "# 이차원 표본추출 배열 형성\n",
    "표본추출_배열 = np.random.choice(10, (5, 5))  # 모집단은 0~9, 행렬 크기는 3X5\n",
    "print(표본추출_배열)"
   ]
  },
  {
   "cell_type": "code",
   "execution_count": null,
   "metadata": {
    "colab": {
     "base_uri": "https://localhost:8080/"
    },
    "executionInfo": {
     "elapsed": 8,
     "status": "ok",
     "timestamp": 1629915517741,
     "user": {
      "displayName": "박진수",
      "photoUrl": "https://lh3.googleusercontent.com/a-/AOh14Givt_n9gun5TCzjvq5ASwWr2b4FAUXE7mJI_JAt1g=s64",
      "userId": "04216559503906939593"
     },
     "user_tz": -540
    },
    "id": "0TkMjVsJONKH",
    "outputId": "57f0eab6-21e4-409d-c0f9-255274b9b61d"
   },
   "outputs": [
    {
     "name": "stdout",
     "output_type": "stream",
     "text": [
      "[5 9 4 5 7 4 4 2 2 1 3 0 1 9 1 6 9 8 6 3 0 7 3 2 5]\n"
     ]
    }
   ],
   "source": [
    "# [참고] flatten() 메서드를 사용해 행렬을 벡터로 만들기  = 시계열  \n",
    "print(표본추출_배열.flatten()) # 행렬  -> 벡터       평탄화     flattening  한줄로 늘여 뜨린다. "
   ]
  },
  {
   "cell_type": "code",
   "execution_count": null,
   "metadata": {
    "colab": {
     "base_uri": "https://localhost:8080/"
    },
    "executionInfo": {
     "elapsed": 253,
     "status": "ok",
     "timestamp": 1629915521764,
     "user": {
      "displayName": "박진수",
      "photoUrl": "https://lh3.googleusercontent.com/a-/AOh14Givt_n9gun5TCzjvq5ASwWr2b4FAUXE7mJI_JAt1g=s64",
      "userId": "04216559503906939593"
     },
     "user_tz": -540
    },
    "id": "O52UCRgYmm79",
    "outputId": "79229846-6b7d-408b-8eda-2f6bb89b72a4"
   },
   "outputs": [
    {
     "name": "stdout",
     "output_type": "stream",
     "text": [
      "[[2 6 1 5 0]\n",
      " [2 3 2 3 4]\n",
      " [3 2 8 0 5]]\n"
     ]
    }
   ],
   "source": [
    "# 기존 행렬을 모집단으로 사용하는 경우\n",
    "# ***위에 출력되지 않은 값이 전혀 나오지 않는다는 점을 잘 살펴보자.***\n",
    "새_표본추출_배열 = np.random.choice(표본추출_배열.flatten(), (3, 5))  # 모집단은 0~9, 행렬 크기는 3X5\n",
    "print(새_표본추출_배열)"
   ]
  },
  {
   "cell_type": "code",
   "execution_count": null,
   "metadata": {
    "colab": {
     "base_uri": "https://localhost:8080/"
    },
    "executionInfo": {
     "elapsed": 361,
     "status": "ok",
     "timestamp": 1629915619461,
     "user": {
      "displayName": "박진수",
      "photoUrl": "https://lh3.googleusercontent.com/a-/AOh14Givt_n9gun5TCzjvq5ASwWr2b4FAUXE7mJI_JAt1g=s64",
      "userId": "04216559503906939593"
     },
     "user_tz": -540
    },
    "id": "_jhqF5aCnlkS",
    "outputId": "bfaeefe3-64e6-45e3-cf28-1610ec86b875"
   },
   "outputs": [
    {
     "name": "stdout",
     "output_type": "stream",
     "text": [
      "[[1 1 0 1 1 1 2 1 2 1]\n",
      " [1 1 1 1 1 1 1 1 1 0]\n",
      " [1 0 2 1 1 1 1 1 1 1]\n",
      " [2 1 1 1 1 1 1 0 1 1]\n",
      " [1 1 2 1 1 0 1 1 1 1]\n",
      " [1 1 1 1 1 0 0 2 1 1]\n",
      " [1 1 2 1 1 0 1 1 1 1]\n",
      " [1 0 2 1 1 0 2 0 1 1]\n",
      " [1 1 1 1 1 1 1 1 1 2]\n",
      " [1 1 1 2 1 1 1 2 0 1]]\n"
     ]
    }
   ],
   "source": [
    "# 각 데이터의 선택 확률을 지정해 표본추출해서 배열을 형성하기\n",
    "# 모집단은 0~2, 행렬 크기는 10 X 10\n",
    "# p(0)=0.0, p(1)=0.9, p(2)=0.1\n",
    "표본추출_배열 = np.random.choice(3, size=(10, 10), p=[0.1, 0.8, 0.1])    #0이 뽑힐 확률 10%   1이 출력될 확률은 80%  2가 출력될 확률은 10%\n",
    "print(표본추출_배열)                       "
   ]
  },
  {
   "cell_type": "markdown",
   "metadata": {
    "id": "Pv_4oIc2hVA-"
   },
   "source": [
    "출력 결과를 보면 0이 표본추출되지 않고 주로 1이 표본추출되며, 간간이 2가 표본추출된 것을 볼 수 있습니다."
   ]
  },
  {
   "cell_type": "markdown",
   "metadata": {
    "id": "G-AqpQH7vLpX"
   },
   "source": [
    "## 3.6 정수 데이터 분석\n",
    "우리는 앞에서 정수 성분으로 이뤄진 분포를 형성해 본 적이 있다. 그런데 성분의 개수가 굉장히 많다면 해당 분포에서 다시 데이터를 추출해 탐색해 보는 일이 필요\n",
    "\n",
    "파이썬  -> 넘파이 . 파이썬 ->머신러닝/ 딥러닝  -> 머신 -> 딥러닝 \n"
   ]
  },
  {
   "cell_type": "code",
   "execution_count": null,
   "metadata": {
    "colab": {
     "base_uri": "https://localhost:8080/"
    },
    "executionInfo": {
     "elapsed": 260,
     "status": "ok",
     "timestamp": 1629916266238,
     "user": {
      "displayName": "박진수",
      "photoUrl": "https://lh3.googleusercontent.com/a-/AOh14Givt_n9gun5TCzjvq5ASwWr2b4FAUXE7mJI_JAt1g=s64",
      "userId": "04216559503906939593"
     },
     "user_tz": -540
    },
    "id": "BcdhlGF60HMn",
    "outputId": "b86fcf94-3fd9-4614-90a0-a232e2aa044d"
   },
   "outputs": [
    {
     "name": "stdout",
     "output_type": "stream",
     "text": [
      "[[ 3 53 37  7 80 75 11  2 54  5 17 78  5 78 81 30 98  3  0 93 44 44 61  0\n",
      "  17 29 91 34 59 21 63 94 17 38 79  1 15 86 17 53 22 77 47 66 11  9 40 54\n",
      "  51 47  4 10  6 44 72  8 72 18  2 69 93 29 27 17 58 11 49 72 88  3 11 57\n",
      "  50 15 57  3 60 39 85 29 53 67 56 75 79 45 90 79 97 11  5 30 58 68 59]\n",
      " [32 37 43 60 45 29 27 27 29 72 75 97 78 38 11 74 89 32 50 40 70 30 22 75\n",
      "  35 84 68 63  4 49 29 63 61 91 83 90 26 73 50 95 94 17 71 56 35 73 92 47\n",
      "  48 71 67 71 62 72 37  5 97 55 92 46 38 49  8 65 66 62 16 61 66 11 31 10\n",
      "  20 14 52 71 29  5 14 79 51 32 23 91  6 73 65 75 87 70 40 60 36 12 35]\n",
      " [62 69 62 58 76 18  0  1 84 77 90 21 78 13 67 17  5 26 63 27 41 13 45 48\n",
      "  56 58 17 86 95 89 92 77  7 26 17 68 43 47 94 92 72 58 27  6  7 53 26 75\n",
      "  37 93 49 20 93 56 61 55 92 23 57  9  0 19 71 50 38 67 30 37 56  5 59 80\n",
      "  90 61 31 70 89 75 17 31 31 84 90 39 50 74 38 68 39 79 13 35 11 75 54]\n",
      " [36 82 75 51 34 58 80 28  9  8 17 92 25 94 59 94 59 58 18 12  1 27 10 67\n",
      "  61 16 27  6  0  7 25 67 59 36 44 85 72 38 42 97 36 68 91 13 13 41 72  6\n",
      "  94 12 98  3 16  5 40 55 29 53 22 23 36 59 34 70  6 88 76 17 95 48 37  0\n",
      "  74  4 95 60 10 29 97 13 19 41 76 44 51 16 37 14 36  4 47  0 49 37 75]\n",
      " [44 69 16 16 10  5 23 47 67 38 18 94 80 31 42 47 21 97 55 74 31 83 66 19\n",
      "  31 19 39 39 61 97 44 54 94 62 76 16 80  6 68 45 84 30 76 53 33 90 18  6\n",
      "   2 26 25 13 63 91 62 57 37 45 21 69 49 25 12 52 70 47 73 10 72 90 16 95\n",
      "  94 38 48 60  6 70  1 63 65 21 46  0 86 36 26 20 84 34 61 30 27 73 72]]\n"
     ]
    }
   ],
   "source": [
    "# 크기가 5 X 95인 2차원 배열 형성\n",
    "새_분포 = np.random.randint(100, size=(5, 95))  # 모집단 0~ 99  에서 중복 추출 후 새로운 분포를 만들자 정수형 균일 분포 , 복원 추출 \n",
    "print(새_분포)"
   ]
  },
  {
   "cell_type": "code",
   "execution_count": null,
   "metadata": {
    "colab": {
     "base_uri": "https://localhost:8080/"
    },
    "executionInfo": {
     "elapsed": 260,
     "status": "ok",
     "timestamp": 1629916267683,
     "user": {
      "displayName": "박진수",
      "photoUrl": "https://lh3.googleusercontent.com/a-/AOh14Givt_n9gun5TCzjvq5ASwWr2b4FAUXE7mJI_JAt1g=s64",
      "userId": "04216559503906939593"
     },
     "user_tz": -540
    },
    "id": "j5wqwKj1QFwl",
    "outputId": "a3116202-b9bd-4645-94fa-45c27a4cb70a"
   },
   "outputs": [
    {
     "name": "stdout",
     "output_type": "stream",
     "text": [
      "[ 0  1  2  3  4  5  6  7  8  9 10 11 12 13 14 15 16 17 18 19 20 21 22 23\n",
      " 25 26 27 28 29 30 31 32 33 34 35 36 37 38 39 40 41 42 43 44 45 46 47 48\n",
      " 49 50 51 52 53 54 55 56 57 58 59 60 61 62 63 65 66 67 68 69 70 71 72 73\n",
      " 74 75 76 77 78 79 80 81 82 83 84 85 86 87 88 89 90 91 92 93 94 95 97 98]\n",
      "[ 8  4  3  5  4  9  9  4  3  3  6  8  4  7  3  2  8 12  5  4  3  5  3  4\n",
      "  4  6  8  1  9  6  7  3  1  4  4  7  9  8  5  4  3  2  2  7  5  2  8  4\n",
      "  6  5  4  2  6  4  4  5  4  7  7  5  8  6  6  3  4  7  6  4  6  5 10  5\n",
      "  4 10  5  3  4  5  5  1  1  2  5  2  3  1  2  3  7  5  6  4  9  5  7  2]\n"
     ]
    }
   ],
   "source": [
    "# 고윳값(unique value, 중복되지 않은 값) 찾기 \n",
    "# 주의: 차원축소 방법에서 말하는 고윳값(eigenvalue)과 혼동하지 말 것\n",
    "성분_값, 성분별_개수 = np.unique(새_분포, return_counts=True)\n",
    "print(성분_값)\n",
    "print(성분별_개수) # 자연어 처리시에  추출 중복되지 않은 어절 "
   ]
  },
  {
   "cell_type": "code",
   "execution_count": null,
   "metadata": {
    "colab": {
     "base_uri": "https://localhost:8080/"
    },
    "executionInfo": {
     "elapsed": 256,
     "status": "ok",
     "timestamp": 1629916269199,
     "user": {
      "displayName": "박진수",
      "photoUrl": "https://lh3.googleusercontent.com/a-/AOh14Givt_n9gun5TCzjvq5ASwWr2b4FAUXE7mJI_JAt1g=s64",
      "userId": "04216559503906939593"
     },
     "user_tz": -540
    },
    "id": "72YSud2bTpzX",
    "outputId": "2c083d7b-b9df-4ef0-c24d-25de8a8982a4"
   },
   "outputs": [
    {
     "name": "stdout",
     "output_type": "stream",
     "text": [
      "[ 0  1  2  3  4  5  6  7  8  9 10 11 12 13 14 15 16 17 18 19 20 21 22 23\n",
      " 25 26 27 28 29 30 31 32 33 34 35 36 37 38 39 40 41 42 43 44 45 46 47 48\n",
      " 49 50 51 52 53 54 55 56 57 58 59 60 61 62 63 65 66 67 68 69 70 71 72 73\n",
      " 74 75 76 77 78 79 80 81 82 83 84 85 86 87 88 89 90 91 92 93 94 95 97 98]\n"
     ]
    }
   ],
   "source": [
    "# 성분별 개수를 알고 싶지 않은 경우에는 return_counts=False라고 지정하거나\n",
    "# return_counts를 지운다. \n",
    "성분_값 = np.unique(새_분포)\n",
    "print(성분_값)"
   ]
  },
  {
   "cell_type": "code",
   "execution_count": null,
   "metadata": {
    "colab": {
     "base_uri": "https://localhost:8080/"
    },
    "executionInfo": {
     "elapsed": 269,
     "status": "ok",
     "timestamp": 1629916301832,
     "user": {
      "displayName": "박진수",
      "photoUrl": "https://lh3.googleusercontent.com/a-/AOh14Givt_n9gun5TCzjvq5ASwWr2b4FAUXE7mJI_JAt1g=s64",
      "userId": "04216559503906939593"
     },
     "user_tz": -540
    },
    "id": "FsQ7VviD0g7S",
    "outputId": "49fef7a8-d2de-47cd-a7f7-d83c39fcbf7f"
   },
   "outputs": [
    {
     "name": "stdout",
     "output_type": "stream",
     "text": [
      "[(0, 8), (1, 4), (2, 3), (3, 5), (4, 4), (5, 9), (6, 9), (7, 4), (8, 3), (9, 3), (10, 6), (11, 8), (12, 4), (13, 7), (14, 3), (15, 2), (16, 8), (17, 12), (18, 5), (19, 4), (20, 3), (21, 5), (22, 3), (23, 4), (25, 4), (26, 6), (27, 8), (28, 1), (29, 9), (30, 6), (31, 7), (32, 3), (33, 1), (34, 4), (35, 4), (36, 7), (37, 9), (38, 8), (39, 5), (40, 4), (41, 3), (42, 2), (43, 2), (44, 7), (45, 5), (46, 2), (47, 8), (48, 4), (49, 6), (50, 5), (51, 4), (52, 2), (53, 6), (54, 4), (55, 4), (56, 5), (57, 4), (58, 7), (59, 7), (60, 5), (61, 8), (62, 6), (63, 6), (65, 3), (66, 4), (67, 7), (68, 6), (69, 4), (70, 6), (71, 5), (72, 10), (73, 5), (74, 4), (75, 10), (76, 5), (77, 3), (78, 4), (79, 5), (80, 5), (81, 1), (82, 1), (83, 2), (84, 5), (85, 2), (86, 3), (87, 1), (88, 2), (89, 3), (90, 7), (91, 5), (92, 6), (93, 4), (94, 9), (95, 5), (97, 7), (98, 2)]\n"
     ]
    }
   ],
   "source": [
    "# [참고 코드] 성분 값과 성분별 개수를 튜플 형태로 짝을 짓기\n",
    "# list 함수를 사용해 행렬(넘파이 배열)을 리스트로 캐스팅하고\n",
    "# zip 함수를 사용해 두 리스트를 튜플 형태로 짝 지은 다음에\n",
    "# 다시 리스트 형태로 만들어(파이썬 3에서는 이렇게 한 단계 더 거쳐야 함)\n",
    "# 출력한다.\n",
    "print(list(zip(list(성분_값), list(성분별_개수)))) "
   ]
  },
  {
   "cell_type": "markdown",
   "metadata": {
    "id": "yHDFnWcKez5J"
   },
   "source": [
    "## 3.7 데이터 섞기\n",
    "수치 처리를 하다 보면 난수 형성만으로는 충분하지 않을 때가 있다. 우리가 만든 데이터나 난수를 아무렇게나 섞어야 할 때가 있다. 넘파이의 numpy.random.shuffle()을 사용하면 이렇게 할 수 있다"
   ]
  },
  {
   "cell_type": "code",
   "execution_count": null,
   "metadata": {
    "colab": {
     "base_uri": "https://localhost:8080/"
    },
    "executionInfo": {
     "elapsed": 255,
     "status": "ok",
     "timestamp": 1629916777808,
     "user": {
      "displayName": "박진수",
      "photoUrl": "https://lh3.googleusercontent.com/a-/AOh14Givt_n9gun5TCzjvq5ASwWr2b4FAUXE7mJI_JAt1g=s64",
      "userId": "04216559503906939593"
     },
     "user_tz": -540
    },
    "id": "gmIcyRv9gUbZ",
    "outputId": "946a6f6c-07dd-4f9d-8879-ab294a7d1ae5"
   },
   "outputs": [
    {
     "name": "stdout",
     "output_type": "stream",
     "text": [
      "[0 1 2 3 4 5 6 7 8 9] \n",
      "\n",
      "[0 4 5 1 3 2 9 8 6 7] \n",
      "\n"
     ]
    }
   ],
   "source": [
    "# 1차원 배열 섞기\n",
    "\n",
    "# 먼저 1차원 배열을 만들어 보자. \n",
    "배열 = np.arange(10)\n",
    "print(배열, '\\n')\n",
    "\n",
    "# 그리고 이 행렬을 섞어 보자.\n",
    "np.random.shuffle(배열)\n",
    "print(배열, '\\n')"
   ]
  },
  {
   "cell_type": "code",
   "execution_count": null,
   "metadata": {
    "colab": {
     "base_uri": "https://localhost:8080/"
    },
    "executionInfo": {
     "elapsed": 245,
     "status": "ok",
     "timestamp": 1629916812212,
     "user": {
      "displayName": "박진수",
      "photoUrl": "https://lh3.googleusercontent.com/a-/AOh14Givt_n9gun5TCzjvq5ASwWr2b4FAUXE7mJI_JAt1g=s64",
      "userId": "04216559503906939593"
     },
     "user_tz": -540
    },
    "id": "CgJ6hyxlfpnb",
    "outputId": "e0b999cc-522f-43d1-a36a-2e5dfe48f90e"
   },
   "outputs": [
    {
     "name": "stdout",
     "output_type": "stream",
     "text": [
      "[[ 0  1  2  3  4]\n",
      " [ 5  6  7  8  9]\n",
      " [10 11 12 13 14]\n",
      " [15 16 17 18 19]\n",
      " [20 21 22 23 24]] \n",
      "\n",
      "[[10 11 12 13 14]\n",
      " [20 21 22 23 24]\n",
      " [ 0  1  2  3  4]\n",
      " [15 16 17 18 19]\n",
      " [ 5  6  7  8  9]] \n",
      "\n"
     ]
    }
   ],
   "source": [
    "# 2차원 이상인 배열 섞기 \n",
    "배열 = np.arange(25).reshape(5, 5)\n",
    "print(배열, '\\n')\n",
    "\n",
    "np.random.shuffle(배열)\n",
    "print(배열, '\\n')"
   ]
  },
  {
   "cell_type": "markdown",
   "metadata": {
    "id": "qh2MnFDMl7V4"
   },
   "source": [
    "출력 결과를 통해서 2차원 이상인 행렬의 경우에는 첫 번째 축(여기서는 행)에 대해서만 무작위 섞기(임의 재편성)가 진행된다는 점을 알 수 있다. "
   ]
  },
  {
   "cell_type": "code",
   "execution_count": null,
   "metadata": {
    "colab": {
     "base_uri": "https://localhost:8080/"
    },
    "executionInfo": {
     "elapsed": 251,
     "status": "ok",
     "timestamp": 1629916815720,
     "user": {
      "displayName": "박진수",
      "photoUrl": "https://lh3.googleusercontent.com/a-/AOh14Givt_n9gun5TCzjvq5ASwWr2b4FAUXE7mJI_JAt1g=s64",
      "userId": "04216559503906939593"
     },
     "user_tz": -540
    },
    "id": "zAVzWo2khxuO",
    "outputId": "4bc7830a-f500-4209-f945-15f77840a2ce"
   },
   "outputs": [
    {
     "name": "stdout",
     "output_type": "stream",
     "text": [
      "[10 11 12 13 14 20 21 22 23 24  0  1  2  3  4 15 16 17 18 19  5  6  7  8\n",
      "  9] \n",
      "\n",
      "[ 1 10  2 14  7 17  8 23 15  6  0 20 22  9 18 19  3 16  4 21 11 12  5 24\n",
      " 13] \n",
      "\n",
      "[[ 1 10  2 14  7]\n",
      " [17  8 23 15  6]\n",
      " [ 0 20 22  9 18]\n",
      " [19  3 16  4 21]\n",
      " [11 12  5 24 13]] \n",
      "\n"
     ]
    }
   ],
   "source": [
    "# [참고 코드] 2차원 이상인 배열에 대해서 그 성분을 온전히 다 섞어야 한다면?\n",
    "# 이럴 때는 배열을 1차원으로 만들어(평탄화를 해서) 섞은 다음에 \n",
    "# 다시 3차원 꼴로 편성하는 요령을 발휘하면 된다.\n",
    "일차원_배열 = 배열.flatten()\n",
    "print(일차원_배열, '\\n')\n",
    "\n",
    "np.random.shuffle(일차원_배열)\n",
    "print(일차원_배열, '\\n')\n",
    "\n",
    "이차원_배열 = 일차원_배열.reshape(5, 5)\n",
    "print(이차원_배열, '\\n')"
   ]
  },
  {
   "cell_type": "markdown",
   "metadata": {
    "id": "y1Qwq6Pd7lK7"
   },
   "source": [
    "## 3.8 기타 연산 "
   ]
  },
  {
   "cell_type": "code",
   "execution_count": null,
   "metadata": {
    "colab": {
     "base_uri": "https://localhost:8080/"
    },
    "executionInfo": {
     "elapsed": 268,
     "status": "ok",
     "timestamp": 1629916895641,
     "user": {
      "displayName": "박진수",
      "photoUrl": "https://lh3.googleusercontent.com/a-/AOh14Givt_n9gun5TCzjvq5ASwWr2b4FAUXE7mJI_JAt1g=s64",
      "userId": "04216559503906939593"
     },
     "user_tz": -540
    },
    "id": "td5mHWaA5zK0",
    "outputId": "adeaf0e7-c178-4964-d845-a5c485072445"
   },
   "outputs": [
    {
     "name": "stdout",
     "output_type": "stream",
     "text": [
      "[[-0.85491288 -0.55919488  0.02285489]\n",
      " [-0.93630383 -0.20387702  1.12518905]\n",
      " [ 0.56205436 -0.34517926  0.01140603]]\n"
     ]
    }
   ],
   "source": [
    "# 그 밖의 연산에 쓸 새 난수를 생성해 두자. \n",
    "새_난수_배열 = np.random.randn(3, 3)\n",
    "print(새_난수_배열)"
   ]
  },
  {
   "cell_type": "code",
   "execution_count": null,
   "metadata": {
    "colab": {
     "base_uri": "https://localhost:8080/"
    },
    "executionInfo": {
     "elapsed": 6,
     "status": "ok",
     "timestamp": 1629916898654,
     "user": {
      "displayName": "박진수",
      "photoUrl": "https://lh3.googleusercontent.com/a-/AOh14Givt_n9gun5TCzjvq5ASwWr2b4FAUXE7mJI_JAt1g=s64",
      "userId": "04216559503906939593"
     },
     "user_tz": -540
    },
    "id": "2n_wvdsZ6Xr8",
    "outputId": "2b4e3aa2-b301-4bbe-df4d-63c4f7542457"
   },
   "outputs": [
    {
     "name": "stdout",
     "output_type": "stream",
     "text": [
      "[[-1. -1.  1.]\n",
      " [-1. -1.  1.]\n",
      " [ 1. -1.  1.]]\n"
     ]
    }
   ],
   "source": [
    "# 각 성분의 부호 알아내기\n",
    "# 음수는 -1, 영은 0, 양수는 1로 나옴\n",
    "print(np.sign(새_난수_배열))  "
   ]
  },
  {
   "cell_type": "code",
   "execution_count": null,
   "metadata": {
    "colab": {
     "base_uri": "https://localhost:8080/"
    },
    "executionInfo": {
     "elapsed": 5,
     "status": "ok",
     "timestamp": 1629916898654,
     "user": {
      "displayName": "박진수",
      "photoUrl": "https://lh3.googleusercontent.com/a-/AOh14Givt_n9gun5TCzjvq5ASwWr2b4FAUXE7mJI_JAt1g=s64",
      "userId": "04216559503906939593"
     },
     "user_tz": -540
    },
    "id": "wkMVTbrN__Pm",
    "outputId": "d4efbeed-ff56-4d00-826b-b704bf3d453a"
   },
   "outputs": [
    {
     "name": "stdout",
     "output_type": "stream",
     "text": [
      "[[-0. -0.  1.]\n",
      " [-0. -0.  2.]\n",
      " [ 1. -0.  1.]] \n",
      "\n",
      "[[-1. -1.  0.]\n",
      " [-1. -1.  1.]\n",
      " [ 0. -1.  0.]] \n",
      "\n"
     ]
    }
   ],
   "source": [
    "# 올림과 내림 \n",
    "print(np.ceil(새_난수_배열), '\\n')    # 소수점 이하 첫 번째 자리에서 올림\n",
    "print(np.floor(새_난수_배열), '\\n')   # 소수점 이하 첫 번쨰 자리에서 내림"
   ]
  },
  {
   "cell_type": "code",
   "execution_count": null,
   "metadata": {
    "colab": {
     "base_uri": "https://localhost:8080/"
    },
    "executionInfo": {
     "elapsed": 270,
     "status": "ok",
     "timestamp": 1629916902564,
     "user": {
      "displayName": "박진수",
      "photoUrl": "https://lh3.googleusercontent.com/a-/AOh14Givt_n9gun5TCzjvq5ASwWr2b4FAUXE7mJI_JAt1g=s64",
      "userId": "04216559503906939593"
     },
     "user_tz": -540
    },
    "id": "FoSdVinLAfx9",
    "outputId": "2d9316aa-6032-4fc1-949c-f2083aec640f"
   },
   "outputs": [
    {
     "name": "stdout",
     "output_type": "stream",
     "text": [
      "[[       nan        nan 0.15117834]\n",
      " [       nan        nan 1.06074929]\n",
      " [0.74970285        nan 0.10679901]] \n",
      "\n",
      "[[ True  True False]\n",
      " [ True  True False]\n",
      " [False  True False]] \n",
      "\n"
     ]
    },
    {
     "name": "stderr",
     "output_type": "stream",
     "text": [
      "/usr/local/lib/python3.7/dist-packages/ipykernel_launcher.py:4: RuntimeWarning: invalid value encountered in sqrt\n",
      "  after removing the cwd from sys.path.\n",
      "/usr/local/lib/python3.7/dist-packages/ipykernel_launcher.py:7: RuntimeWarning: invalid value encountered in sqrt\n",
      "  import sys\n"
     ]
    }
   ],
   "source": [
    "# 성분이 NaN(수치가 아님)인 경우 알아내기\n",
    "\n",
    "# 먼저 NaN이 나올 만한 연산을 한다.\n",
    "print(np.sqrt(새_난수_배열), '\\n') \n",
    "\n",
    "# NaN 성분을 알아낸다. \n",
    "print(np.isnan(np.sqrt(새_난수_배열)), '\\n')"
   ]
  },
  {
   "cell_type": "markdown",
   "metadata": {
    "id": "qUyntKSPrYYe"
   },
   "source": [
    "https://numpy.org/devdocs/index.html"
   ]
  },
  {
   "cell_type": "code",
   "execution_count": null,
   "metadata": {
    "id": "3J5EP54IWj5V"
   },
   "outputs": [],
   "source": []
  }
 ],
 "metadata": {
  "colab": {
   "collapsed_sections": [],
   "name": "02_넘파이[데이터처리].ipynb",
   "provenance": []
  },
  "kernelspec": {
   "display_name": "Python 3 (ipykernel)",
   "language": "python",
   "name": "python3"
  },
  "language_info": {
   "codemirror_mode": {
    "name": "ipython",
    "version": 3
   },
   "file_extension": ".py",
   "mimetype": "text/x-python",
   "name": "python",
   "nbconvert_exporter": "python",
   "pygments_lexer": "ipython3",
   "version": "3.9.7"
  }
 },
 "nbformat": 4,
 "nbformat_minor": 1
}
