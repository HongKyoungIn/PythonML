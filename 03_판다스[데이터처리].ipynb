{
 "cells": [
  {
   "cell_type": "markdown",
   "metadata": {
    "id": "nkJQJNB7fEBe"
   },
   "source": [
    "# **[판다스란?]**\n",
    "판다스(pandas)는 데이터를 표(table) 형태로 다루는 데 필요한 라이브러리이다\n",
    "원어 발음은 **팬더스**에 가깝지만 우리나라에서는 판다스로 부르는 경향이 있다. \n",
    "\n",
    "* 여러 가지 데이터 형식을  읽어와 가공할 수 있다.\n",
    "* 가공한 데이터를 여러 가지 형식으로 저장할 수 있다.\n",
    "  * CSV 형식: 쉼표로 구분한 파일\n",
    "  * XLS 형식: 엑셀 파일\n",
    "  * 기타 등등. \n",
    "* 복잡한 그래프 표시 코드를 작성하지 않고도 간단히 그래프를 그릴 수 있다.\n",
    "* 여러 가지 통계량을 계산할 수 있다.\n"
   ]
  },
  {
   "cell_type": "markdown",
   "metadata": {
    "id": "fCv-vNaqOKIZ"
   },
   "source": [
    "# 1. 환경 구성\n",
    "판다스를 사용하려면 기본적으로 판다스, 넘파이, 맷플롯립이라는 패키지들을 가져온다."
   ]
  },
  {
   "cell_type": "code",
   "execution_count": 1,
   "metadata": {
    "id": "LI3SUOGaS8yr"
   },
   "outputs": [],
   "source": [
    "import pandas as pd"
   ]
  },
  {
   "cell_type": "code",
   "execution_count": 2,
   "metadata": {
    "id": "8MtaGQx7S_Ni"
   },
   "outputs": [],
   "source": [
    "import numpy as np"
   ]
  },
  {
   "cell_type": "markdown",
   "metadata": {
    "id": "mz-zsioHQRS2"
   },
   "source": [
    "# 2. 기본 기능\n"
   ]
  },
  {
   "cell_type": "markdown",
   "metadata": {
    "id": "2xqq7FOPOW8U"
   },
   "source": [
    "## 2.1 데이터 생성(C)\n",
    "."
   ]
  },
  {
   "cell_type": "markdown",
   "metadata": {
    "id": "LZe5KojdO1RM"
   },
   "source": [
    "### 2.1.1 데이터 시리즈 생성\n",
    " \n",
    "\n",
    "데이터 시리즈에 관한 공식 설명서: https://pandas.pydata.org/pandas-docs/stable/reference/api/pandas.Series.html?highlight=pandas%20series#pandas.Series"
   ]
  },
  {
   "cell_type": "code",
   "execution_count": 3,
   "metadata": {
    "id": "CgM8UlnSf3-D"
   },
   "outputs": [],
   "source": [
    "수열 = pd.Series([10, 20])"
   ]
  },
  {
   "cell_type": "code",
   "execution_count": 4,
   "metadata": {
    "colab": {
     "base_uri": "https://localhost:8080/"
    },
    "executionInfo": {
     "elapsed": 83,
     "status": "ok",
     "timestamp": 1631897054254,
     "user": {
      "displayName": "박진수",
      "photoUrl": "https://lh3.googleusercontent.com/a-/AOh14Givt_n9gun5TCzjvq5ASwWr2b4FAUXE7mJI_JAt1g=s64",
      "userId": "04216559503906939593"
     },
     "user_tz": -540
    },
    "id": "rLTjftSDhtOq",
    "outputId": "e20146fe-389b-47e2-93f4-9b5bf205a5ce"
   },
   "outputs": [
    {
     "data": {
      "text/plain": [
       "pandas.core.series.Series"
      ]
     },
     "execution_count": 4,
     "metadata": {},
     "output_type": "execute_result"
    }
   ],
   "source": [
    "type(수열)"
   ]
  },
  {
   "cell_type": "code",
   "execution_count": 5,
   "metadata": {
    "id": "3e_CkMgZh4m3"
   },
   "outputs": [],
   "source": [
    "수 = 1"
   ]
  },
  {
   "cell_type": "code",
   "execution_count": 6,
   "metadata": {
    "colab": {
     "base_uri": "https://localhost:8080/"
    },
    "executionInfo": {
     "elapsed": 80,
     "status": "ok",
     "timestamp": 1631897054256,
     "user": {
      "displayName": "박진수",
      "photoUrl": "https://lh3.googleusercontent.com/a-/AOh14Givt_n9gun5TCzjvq5ASwWr2b4FAUXE7mJI_JAt1g=s64",
      "userId": "04216559503906939593"
     },
     "user_tz": -540
    },
    "id": "HfcNlzxJh93N",
    "outputId": "ba770c64-a3ab-4c78-9030-289b17b55be6"
   },
   "outputs": [
    {
     "data": {
      "text/plain": [
       "int"
      ]
     },
     "execution_count": 6,
     "metadata": {},
     "output_type": "execute_result"
    }
   ],
   "source": [
    "type(수)"
   ]
  },
  {
   "cell_type": "code",
   "execution_count": 7,
   "metadata": {
    "colab": {
     "base_uri": "https://localhost:8080/"
    },
    "executionInfo": {
     "elapsed": 77,
     "status": "ok",
     "timestamp": 1631897054256,
     "user": {
      "displayName": "박진수",
      "photoUrl": "https://lh3.googleusercontent.com/a-/AOh14Givt_n9gun5TCzjvq5ASwWr2b4FAUXE7mJI_JAt1g=s64",
      "userId": "04216559503906939593"
     },
     "user_tz": -540
    },
    "id": "olI00wxbh94-",
    "outputId": "1484f4a1-8519-46d0-a7aa-8cb638d576b7"
   },
   "outputs": [
    {
     "data": {
      "text/plain": [
       "str"
      ]
     },
     "execution_count": 7,
     "metadata": {},
     "output_type": "execute_result"
    }
   ],
   "source": [
    "문자 = 'A'\n",
    "type(문자)"
   ]
  },
  {
   "cell_type": "code",
   "execution_count": 8,
   "metadata": {
    "colab": {
     "base_uri": "https://localhost:8080/"
    },
    "executionInfo": {
     "elapsed": 75,
     "status": "ok",
     "timestamp": 1631897054257,
     "user": {
      "displayName": "박진수",
      "photoUrl": "https://lh3.googleusercontent.com/a-/AOh14Givt_n9gun5TCzjvq5ASwWr2b4FAUXE7mJI_JAt1g=s64",
      "userId": "04216559503906939593"
     },
     "user_tz": -540
    },
    "id": "HpyK3m7SikNn",
    "outputId": "c3727b62-1c31-4947-b569-103da444ef35"
   },
   "outputs": [
    {
     "data": {
      "text/plain": [
       "float"
      ]
     },
     "execution_count": 8,
     "metadata": {},
     "output_type": "execute_result"
    }
   ],
   "source": [
    "소수 = 0.1234\n",
    "type(소수)"
   ]
  },
  {
   "cell_type": "code",
   "execution_count": 9,
   "metadata": {
    "colab": {
     "base_uri": "https://localhost:8080/"
    },
    "executionInfo": {
     "elapsed": 74,
     "status": "ok",
     "timestamp": 1631897054258,
     "user": {
      "displayName": "박진수",
      "photoUrl": "https://lh3.googleusercontent.com/a-/AOh14Givt_n9gun5TCzjvq5ASwWr2b4FAUXE7mJI_JAt1g=s64",
      "userId": "04216559503906939593"
     },
     "user_tz": -540
    },
    "id": "rs-H9IyUgb0J",
    "outputId": "df3ecfac-5016-4c49-85b0-c6161ae93cf6"
   },
   "outputs": [
    {
     "data": {
      "text/plain": [
       "0    10\n",
       "1    20\n",
       "dtype: int64"
      ]
     },
     "execution_count": 9,
     "metadata": {},
     "output_type": "execute_result"
    }
   ],
   "source": [
    "수열"
   ]
  },
  {
   "cell_type": "code",
   "execution_count": 10,
   "metadata": {
    "colab": {
     "base_uri": "https://localhost:8080/"
    },
    "executionInfo": {
     "elapsed": 71,
     "status": "ok",
     "timestamp": 1631897054258,
     "user": {
      "displayName": "박진수",
      "photoUrl": "https://lh3.googleusercontent.com/a-/AOh14Givt_n9gun5TCzjvq5ASwWr2b4FAUXE7mJI_JAt1g=s64",
      "userId": "04216559503906939593"
     },
     "user_tz": -540
    },
    "id": "R-BsPN9hjiEa",
    "outputId": "66d365ff-2704-4bc9-a862-865fa61b1591"
   },
   "outputs": [
    {
     "data": {
      "text/plain": [
       "array([20, 21, 22, 23, 24, 25, 26, 27, 28, 29])"
      ]
     },
     "execution_count": 10,
     "metadata": {},
     "output_type": "execute_result"
    }
   ],
   "source": [
    "# import numpy as np\n",
    "np.arange(20, 30)"
   ]
  },
  {
   "cell_type": "code",
   "execution_count": 11,
   "metadata": {
    "id": "1iX0BiSsacUV"
   },
   "outputs": [],
   "source": [
    "데이터_시리즈 = pd.Series(np.arange(20, 30))"
   ]
  },
  {
   "cell_type": "code",
   "execution_count": 12,
   "metadata": {
    "colab": {
     "base_uri": "https://localhost:8080/"
    },
    "executionInfo": {
     "elapsed": 69,
     "status": "ok",
     "timestamp": 1631897054259,
     "user": {
      "displayName": "박진수",
      "photoUrl": "https://lh3.googleusercontent.com/a-/AOh14Givt_n9gun5TCzjvq5ASwWr2b4FAUXE7mJI_JAt1g=s64",
      "userId": "04216559503906939593"
     },
     "user_tz": -540
    },
    "id": "Wixm7SoxaAFV",
    "outputId": "745a7e34-bc36-453e-f25c-fa6595e5a7ef"
   },
   "outputs": [
    {
     "data": {
      "text/plain": [
       "0    20\n",
       "1    21\n",
       "2    22\n",
       "3    23\n",
       "4    24\n",
       "5    25\n",
       "6    26\n",
       "7    27\n",
       "8    28\n",
       "9    29\n",
       "dtype: int32"
      ]
     },
     "execution_count": 12,
     "metadata": {},
     "output_type": "execute_result"
    }
   ],
   "source": [
    "데이터_시리즈"
   ]
  },
  {
   "cell_type": "markdown",
   "metadata": {
    "id": "Q24x6mApO3L2"
   },
   "source": [
    "### 2.1.2 프레임 생성\n"
   ]
  },
  {
   "cell_type": "code",
   "execution_count": 13,
   "metadata": {
    "id": "cC5CKC44bUml"
   },
   "outputs": [],
   "source": [
    "np.random.seed(300)\n",
    "데이터_프레임 = pd.DataFrame(np.random.randn(20, 3),\n",
    "                            index = pd.date_range('20210101', periods = 20),\n",
    "                            columns=['갑이네', '을이네', '병이네'])"
   ]
  },
  {
   "cell_type": "code",
   "execution_count": 14,
   "metadata": {
    "colab": {
     "base_uri": "https://localhost:8080/",
     "height": 142
    },
    "executionInfo": {
     "elapsed": 70,
     "status": "ok",
     "timestamp": 1631897054263,
     "user": {
      "displayName": "박진수",
      "photoUrl": "https://lh3.googleusercontent.com/a-/AOh14Givt_n9gun5TCzjvq5ASwWr2b4FAUXE7mJI_JAt1g=s64",
      "userId": "04216559503906939593"
     },
     "user_tz": -540
    },
    "id": "_AKRmuScrDAR",
    "outputId": "5f99f362-501c-47bd-fbd4-c8fa17bb3902"
   },
   "outputs": [
    {
     "data": {
      "text/html": [
       "<div>\n",
       "<style scoped>\n",
       "    .dataframe tbody tr th:only-of-type {\n",
       "        vertical-align: middle;\n",
       "    }\n",
       "\n",
       "    .dataframe tbody tr th {\n",
       "        vertical-align: top;\n",
       "    }\n",
       "\n",
       "    .dataframe thead th {\n",
       "        text-align: right;\n",
       "    }\n",
       "</style>\n",
       "<table border=\"1\" class=\"dataframe\">\n",
       "  <thead>\n",
       "    <tr style=\"text-align: right;\">\n",
       "      <th></th>\n",
       "      <th>갑이네</th>\n",
       "      <th>을이네</th>\n",
       "      <th>병이네</th>\n",
       "    </tr>\n",
       "  </thead>\n",
       "  <tbody>\n",
       "    <tr>\n",
       "      <th>2021-01-01</th>\n",
       "      <td>-1.485170</td>\n",
       "      <td>-0.260205</td>\n",
       "      <td>-1.424565</td>\n",
       "    </tr>\n",
       "    <tr>\n",
       "      <th>2021-01-02</th>\n",
       "      <td>-0.891399</td>\n",
       "      <td>0.761163</td>\n",
       "      <td>-0.698757</td>\n",
       "    </tr>\n",
       "    <tr>\n",
       "      <th>2021-01-03</th>\n",
       "      <td>-0.396650</td>\n",
       "      <td>1.243787</td>\n",
       "      <td>0.074518</td>\n",
       "    </tr>\n",
       "  </tbody>\n",
       "</table>\n",
       "</div>"
      ],
      "text/plain": [
       "                 갑이네       을이네       병이네\n",
       "2021-01-01 -1.485170 -0.260205 -1.424565\n",
       "2021-01-02 -0.891399  0.761163 -0.698757\n",
       "2021-01-03 -0.396650  1.243787  0.074518"
      ]
     },
     "execution_count": 14,
     "metadata": {},
     "output_type": "execute_result"
    }
   ],
   "source": [
    "데이터_프레임.head(3)  # print(데이터_프레임) 문과 비교해 보자."
   ]
  },
  {
   "cell_type": "code",
   "execution_count": 15,
   "metadata": {
    "id": "L-_s781WvoCc"
   },
   "outputs": [],
   "source": [
    "np.random.seed(300)\n",
    "붕어빵_2호 = pd.DataFrame(np.random.randn(20, 4),\n",
    "                            index = pd.date_range('20210101', periods = 20),\n",
    "                            columns=['갑이네', '을이네', '정이네', '진이네'])"
   ]
  },
  {
   "cell_type": "code",
   "execution_count": 16,
   "metadata": {
    "colab": {
     "base_uri": "https://localhost:8080/",
     "height": 142
    },
    "executionInfo": {
     "elapsed": 70,
     "status": "ok",
     "timestamp": 1631897054264,
     "user": {
      "displayName": "박진수",
      "photoUrl": "https://lh3.googleusercontent.com/a-/AOh14Givt_n9gun5TCzjvq5ASwWr2b4FAUXE7mJI_JAt1g=s64",
      "userId": "04216559503906939593"
     },
     "user_tz": -540
    },
    "id": "d6oSYW32vu0a",
    "outputId": "a913a32f-72e1-43b8-b9d0-3ffb8917dca5"
   },
   "outputs": [
    {
     "data": {
      "text/html": [
       "<div>\n",
       "<style scoped>\n",
       "    .dataframe tbody tr th:only-of-type {\n",
       "        vertical-align: middle;\n",
       "    }\n",
       "\n",
       "    .dataframe tbody tr th {\n",
       "        vertical-align: top;\n",
       "    }\n",
       "\n",
       "    .dataframe thead th {\n",
       "        text-align: right;\n",
       "    }\n",
       "</style>\n",
       "<table border=\"1\" class=\"dataframe\">\n",
       "  <thead>\n",
       "    <tr style=\"text-align: right;\">\n",
       "      <th></th>\n",
       "      <th>갑이네</th>\n",
       "      <th>을이네</th>\n",
       "      <th>정이네</th>\n",
       "      <th>진이네</th>\n",
       "    </tr>\n",
       "  </thead>\n",
       "  <tbody>\n",
       "    <tr>\n",
       "      <th>2021-01-01</th>\n",
       "      <td>-1.485170</td>\n",
       "      <td>-0.260205</td>\n",
       "      <td>-1.424565</td>\n",
       "      <td>-0.891399</td>\n",
       "    </tr>\n",
       "    <tr>\n",
       "      <th>2021-01-02</th>\n",
       "      <td>0.761163</td>\n",
       "      <td>-0.698757</td>\n",
       "      <td>-0.396650</td>\n",
       "      <td>1.243787</td>\n",
       "    </tr>\n",
       "    <tr>\n",
       "      <th>2021-01-03</th>\n",
       "      <td>0.074518</td>\n",
       "      <td>-0.322948</td>\n",
       "      <td>1.461472</td>\n",
       "      <td>1.241821</td>\n",
       "    </tr>\n",
       "  </tbody>\n",
       "</table>\n",
       "</div>"
      ],
      "text/plain": [
       "                 갑이네       을이네       정이네       진이네\n",
       "2021-01-01 -1.485170 -0.260205 -1.424565 -0.891399\n",
       "2021-01-02  0.761163 -0.698757 -0.396650  1.243787\n",
       "2021-01-03  0.074518 -0.322948  1.461472  1.241821"
      ]
     },
     "execution_count": 16,
     "metadata": {},
     "output_type": "execute_result"
    }
   ],
   "source": [
    "붕어빵_2호.head(3)"
   ]
  },
  {
   "cell_type": "code",
   "execution_count": 17,
   "metadata": {
    "id": "qUQAeOjSxayi"
   },
   "outputs": [],
   "source": [
    "np.random.seed(300)\n",
    "붕어빵_3호 = pd.DataFrame(np.random.randn(20, 3),\n",
    "                            index = pd.date_range('20210101', periods = 20),\n",
    "                            columns=['갑이네', '을이네', '병이네'])"
   ]
  },
  {
   "cell_type": "code",
   "execution_count": 18,
   "metadata": {
    "colab": {
     "base_uri": "https://localhost:8080/",
     "height": 142
    },
    "executionInfo": {
     "elapsed": 70,
     "status": "ok",
     "timestamp": 1631897054265,
     "user": {
      "displayName": "박진수",
      "photoUrl": "https://lh3.googleusercontent.com/a-/AOh14Givt_n9gun5TCzjvq5ASwWr2b4FAUXE7mJI_JAt1g=s64",
      "userId": "04216559503906939593"
     },
     "user_tz": -540
    },
    "id": "pqFQNRWHxiDa",
    "outputId": "61614d90-c535-4abc-84b7-27c54cb6c589"
   },
   "outputs": [
    {
     "data": {
      "text/html": [
       "<div>\n",
       "<style scoped>\n",
       "    .dataframe tbody tr th:only-of-type {\n",
       "        vertical-align: middle;\n",
       "    }\n",
       "\n",
       "    .dataframe tbody tr th {\n",
       "        vertical-align: top;\n",
       "    }\n",
       "\n",
       "    .dataframe thead th {\n",
       "        text-align: right;\n",
       "    }\n",
       "</style>\n",
       "<table border=\"1\" class=\"dataframe\">\n",
       "  <thead>\n",
       "    <tr style=\"text-align: right;\">\n",
       "      <th></th>\n",
       "      <th>갑이네</th>\n",
       "      <th>을이네</th>\n",
       "      <th>병이네</th>\n",
       "    </tr>\n",
       "  </thead>\n",
       "  <tbody>\n",
       "    <tr>\n",
       "      <th>2021-01-01</th>\n",
       "      <td>-1.485170</td>\n",
       "      <td>-0.260205</td>\n",
       "      <td>-1.424565</td>\n",
       "    </tr>\n",
       "    <tr>\n",
       "      <th>2021-01-02</th>\n",
       "      <td>-0.891399</td>\n",
       "      <td>0.761163</td>\n",
       "      <td>-0.698757</td>\n",
       "    </tr>\n",
       "    <tr>\n",
       "      <th>2021-01-03</th>\n",
       "      <td>-0.396650</td>\n",
       "      <td>1.243787</td>\n",
       "      <td>0.074518</td>\n",
       "    </tr>\n",
       "    <tr>\n",
       "      <th>2021-01-04</th>\n",
       "      <td>-0.322948</td>\n",
       "      <td>1.461472</td>\n",
       "      <td>1.241821</td>\n",
       "    </tr>\n",
       "    <tr>\n",
       "      <th>2021-01-05</th>\n",
       "      <td>0.259419</td>\n",
       "      <td>1.071688</td>\n",
       "      <td>-0.130218</td>\n",
       "    </tr>\n",
       "    <tr>\n",
       "      <th>2021-01-06</th>\n",
       "      <td>1.885784</td>\n",
       "      <td>-0.705359</td>\n",
       "      <td>0.335575</td>\n",
       "    </tr>\n",
       "    <tr>\n",
       "      <th>2021-01-07</th>\n",
       "      <td>0.568752</td>\n",
       "      <td>-0.916734</td>\n",
       "      <td>-1.059760</td>\n",
       "    </tr>\n",
       "    <tr>\n",
       "      <th>2021-01-08</th>\n",
       "      <td>-1.918972</td>\n",
       "      <td>1.679736</td>\n",
       "      <td>-1.131580</td>\n",
       "    </tr>\n",
       "    <tr>\n",
       "      <th>2021-01-09</th>\n",
       "      <td>-1.168810</td>\n",
       "      <td>-0.301069</td>\n",
       "      <td>3.244311</td>\n",
       "    </tr>\n",
       "    <tr>\n",
       "      <th>2021-01-10</th>\n",
       "      <td>1.609465</td>\n",
       "      <td>-1.323539</td>\n",
       "      <td>-1.015974</td>\n",
       "    </tr>\n",
       "    <tr>\n",
       "      <th>2021-01-11</th>\n",
       "      <td>-0.859412</td>\n",
       "      <td>1.091355</td>\n",
       "      <td>-0.047849</td>\n",
       "    </tr>\n",
       "    <tr>\n",
       "      <th>2021-01-12</th>\n",
       "      <td>0.167719</td>\n",
       "      <td>1.658327</td>\n",
       "      <td>-0.051820</td>\n",
       "    </tr>\n",
       "    <tr>\n",
       "      <th>2021-01-13</th>\n",
       "      <td>-1.070045</td>\n",
       "      <td>0.012548</td>\n",
       "      <td>-0.466637</td>\n",
       "    </tr>\n",
       "    <tr>\n",
       "      <th>2021-01-14</th>\n",
       "      <td>1.137368</td>\n",
       "      <td>0.718743</td>\n",
       "      <td>-0.597138</td>\n",
       "    </tr>\n",
       "    <tr>\n",
       "      <th>2021-01-15</th>\n",
       "      <td>-0.764962</td>\n",
       "      <td>-0.835288</td>\n",
       "      <td>1.229626</td>\n",
       "    </tr>\n",
       "    <tr>\n",
       "      <th>2021-01-16</th>\n",
       "      <td>-0.236132</td>\n",
       "      <td>1.353989</td>\n",
       "      <td>0.889956</td>\n",
       "    </tr>\n",
       "    <tr>\n",
       "      <th>2021-01-17</th>\n",
       "      <td>0.976284</td>\n",
       "      <td>0.737673</td>\n",
       "      <td>1.320201</td>\n",
       "    </tr>\n",
       "    <tr>\n",
       "      <th>2021-01-18</th>\n",
       "      <td>-1.177552</td>\n",
       "      <td>1.581147</td>\n",
       "      <td>0.817255</td>\n",
       "    </tr>\n",
       "    <tr>\n",
       "      <th>2021-01-19</th>\n",
       "      <td>2.351578</td>\n",
       "      <td>-0.114442</td>\n",
       "      <td>0.205780</td>\n",
       "    </tr>\n",
       "    <tr>\n",
       "      <th>2021-01-20</th>\n",
       "      <td>-2.414536</td>\n",
       "      <td>-0.437477</td>\n",
       "      <td>0.605718</td>\n",
       "    </tr>\n",
       "  </tbody>\n",
       "</table>\n",
       "</div>"
      ],
      "text/plain": [
       "                 갑이네       을이네       병이네\n",
       "2021-01-01 -1.485170 -0.260205 -1.424565\n",
       "2021-01-02 -0.891399  0.761163 -0.698757\n",
       "2021-01-03 -0.396650  1.243787  0.074518\n",
       "2021-01-04 -0.322948  1.461472  1.241821\n",
       "2021-01-05  0.259419  1.071688 -0.130218\n",
       "2021-01-06  1.885784 -0.705359  0.335575\n",
       "2021-01-07  0.568752 -0.916734 -1.059760\n",
       "2021-01-08 -1.918972  1.679736 -1.131580\n",
       "2021-01-09 -1.168810 -0.301069  3.244311\n",
       "2021-01-10  1.609465 -1.323539 -1.015974\n",
       "2021-01-11 -0.859412  1.091355 -0.047849\n",
       "2021-01-12  0.167719  1.658327 -0.051820\n",
       "2021-01-13 -1.070045  0.012548 -0.466637\n",
       "2021-01-14  1.137368  0.718743 -0.597138\n",
       "2021-01-15 -0.764962 -0.835288  1.229626\n",
       "2021-01-16 -0.236132  1.353989  0.889956\n",
       "2021-01-17  0.976284  0.737673  1.320201\n",
       "2021-01-18 -1.177552  1.581147  0.817255\n",
       "2021-01-19  2.351578 -0.114442  0.205780\n",
       "2021-01-20 -2.414536 -0.437477  0.605718"
      ]
     },
     "execution_count": 18,
     "metadata": {},
     "output_type": "execute_result"
    }
   ],
   "source": [
    "붕어빵_3호.head(20)"
   ]
  },
  {
   "cell_type": "code",
   "execution_count": null,
   "metadata": {
    "colab": {
     "base_uri": "https://localhost:8080/",
     "height": 142
    },
    "executionInfo": {
     "elapsed": 69,
     "status": "ok",
     "timestamp": 1631897054265,
     "user": {
      "displayName": "박진수",
      "photoUrl": "https://lh3.googleusercontent.com/a-/AOh14Givt_n9gun5TCzjvq5ASwWr2b4FAUXE7mJI_JAt1g=s64",
      "userId": "04216559503906939593"
     },
     "user_tz": -540
    },
    "id": "VLOwadQOVQH-",
    "outputId": "08b057ef-7324-4f13-cba0-6963df456eb9"
   },
   "outputs": [
    {
     "data": {
      "text/html": [
       "<div>\n",
       "<style scoped>\n",
       "    .dataframe tbody tr th:only-of-type {\n",
       "        vertical-align: middle;\n",
       "    }\n",
       "\n",
       "    .dataframe tbody tr th {\n",
       "        vertical-align: top;\n",
       "    }\n",
       "\n",
       "    .dataframe thead th {\n",
       "        text-align: right;\n",
       "    }\n",
       "</style>\n",
       "<table border=\"1\" class=\"dataframe\">\n",
       "  <thead>\n",
       "    <tr style=\"text-align: right;\">\n",
       "      <th></th>\n",
       "      <th>가</th>\n",
       "      <th>나</th>\n",
       "      <th>다</th>\n",
       "    </tr>\n",
       "  </thead>\n",
       "  <tbody>\n",
       "    <tr>\n",
       "      <th>0</th>\n",
       "      <td>-0.669635</td>\n",
       "      <td>-1.709492</td>\n",
       "      <td>0.553939</td>\n",
       "    </tr>\n",
       "    <tr>\n",
       "      <th>1</th>\n",
       "      <td>0.030330</td>\n",
       "      <td>-1.301331</td>\n",
       "      <td>2.085743</td>\n",
       "    </tr>\n",
       "    <tr>\n",
       "      <th>2</th>\n",
       "      <td>-0.442907</td>\n",
       "      <td>0.411660</td>\n",
       "      <td>-1.358745</td>\n",
       "    </tr>\n",
       "  </tbody>\n",
       "</table>\n",
       "</div>"
      ],
      "text/plain": [
       "          가         나         다\n",
       "0 -0.669635 -1.709492  0.553939\n",
       "1  0.030330 -1.301331  2.085743\n",
       "2 -0.442907  0.411660 -1.358745"
      ]
     },
     "execution_count": 20,
     "metadata": {},
     "output_type": "execute_result"
    }
   ],
   "source": [
    "# [보충] 데이터프레임 구성체를 새로 생성하기\n",
    "np.random.seed(299)\n",
    "계란빵_1호 = pd.DataFrame(np.random.randn(20, 3), columns=['가', '나', '다'])\n",
    "계란빵_1호.head(3) "
   ]
  },
  {
   "cell_type": "code",
   "execution_count": null,
   "metadata": {
    "colab": {
     "base_uri": "https://localhost:8080/",
     "height": 142
    },
    "executionInfo": {
     "elapsed": 68,
     "status": "ok",
     "timestamp": 1631897054265,
     "user": {
      "displayName": "박진수",
      "photoUrl": "https://lh3.googleusercontent.com/a-/AOh14Givt_n9gun5TCzjvq5ASwWr2b4FAUXE7mJI_JAt1g=s64",
      "userId": "04216559503906939593"
     },
     "user_tz": -540
    },
    "id": "tms_S2cRV73e",
    "outputId": "924076f3-6e03-4ef0-bd0f-48f702aff992"
   },
   "outputs": [
    {
     "data": {
      "text/html": [
       "<div>\n",
       "<style scoped>\n",
       "    .dataframe tbody tr th:only-of-type {\n",
       "        vertical-align: middle;\n",
       "    }\n",
       "\n",
       "    .dataframe tbody tr th {\n",
       "        vertical-align: top;\n",
       "    }\n",
       "\n",
       "    .dataframe thead th {\n",
       "        text-align: right;\n",
       "    }\n",
       "</style>\n",
       "<table border=\"1\" class=\"dataframe\">\n",
       "  <thead>\n",
       "    <tr style=\"text-align: right;\">\n",
       "      <th></th>\n",
       "      <th>가</th>\n",
       "      <th>나</th>\n",
       "      <th>다</th>\n",
       "    </tr>\n",
       "  </thead>\n",
       "  <tbody>\n",
       "    <tr>\n",
       "      <th>0</th>\n",
       "      <td>-0.669635</td>\n",
       "      <td>-1.709492</td>\n",
       "      <td>0.553939</td>\n",
       "    </tr>\n",
       "    <tr>\n",
       "      <th>1</th>\n",
       "      <td>0.030330</td>\n",
       "      <td>-1.301331</td>\n",
       "      <td>2.085743</td>\n",
       "    </tr>\n",
       "    <tr>\n",
       "      <th>2</th>\n",
       "      <td>-0.442907</td>\n",
       "      <td>0.411660</td>\n",
       "      <td>-1.358745</td>\n",
       "    </tr>\n",
       "  </tbody>\n",
       "</table>\n",
       "</div>"
      ],
      "text/plain": [
       "          가         나         다\n",
       "0 -0.669635 -1.709492  0.553939\n",
       "1  0.030330 -1.301331  2.085743\n",
       "2 -0.442907  0.411660 -1.358745"
      ]
     },
     "execution_count": 21,
     "metadata": {},
     "output_type": "execute_result"
    }
   ],
   "source": [
    "# [보충] 데이터프레임 구성체를 그대로 두고 인스턴스만 바꿔 보기\n",
    "\n",
    "np.random.seed(299)\n",
    "계란빵_2호 = pd.DataFrame(np.random.randn(20, 3), columns=['가', '나', '다'])\n",
    "계란빵_2호.head(3)"
   ]
  },
  {
   "cell_type": "code",
   "execution_count": null,
   "metadata": {
    "colab": {
     "base_uri": "https://localhost:8080/",
     "height": 142
    },
    "executionInfo": {
     "elapsed": 69,
     "status": "ok",
     "timestamp": 1631897054266,
     "user": {
      "displayName": "박진수",
      "photoUrl": "https://lh3.googleusercontent.com/a-/AOh14Givt_n9gun5TCzjvq5ASwWr2b4FAUXE7mJI_JAt1g=s64",
      "userId": "04216559503906939593"
     },
     "user_tz": -540
    },
    "id": "vTKVPMKfWL_7",
    "outputId": "bc838071-3ffe-4742-d9f0-20f74a80b4f6"
   },
   "outputs": [
    {
     "data": {
      "text/html": [
       "<div>\n",
       "<style scoped>\n",
       "    .dataframe tbody tr th:only-of-type {\n",
       "        vertical-align: middle;\n",
       "    }\n",
       "\n",
       "    .dataframe tbody tr th {\n",
       "        vertical-align: top;\n",
       "    }\n",
       "\n",
       "    .dataframe thead th {\n",
       "        text-align: right;\n",
       "    }\n",
       "</style>\n",
       "<table border=\"1\" class=\"dataframe\">\n",
       "  <thead>\n",
       "    <tr style=\"text-align: right;\">\n",
       "      <th></th>\n",
       "      <th>가</th>\n",
       "      <th>나</th>\n",
       "      <th>다</th>\n",
       "    </tr>\n",
       "  </thead>\n",
       "  <tbody>\n",
       "    <tr>\n",
       "      <th>0</th>\n",
       "      <td>0.0</td>\n",
       "      <td>0.0</td>\n",
       "      <td>0.0</td>\n",
       "    </tr>\n",
       "    <tr>\n",
       "      <th>1</th>\n",
       "      <td>0.0</td>\n",
       "      <td>0.0</td>\n",
       "      <td>0.0</td>\n",
       "    </tr>\n",
       "    <tr>\n",
       "      <th>2</th>\n",
       "      <td>0.0</td>\n",
       "      <td>0.0</td>\n",
       "      <td>0.0</td>\n",
       "    </tr>\n",
       "  </tbody>\n",
       "</table>\n",
       "</div>"
      ],
      "text/plain": [
       "     가    나    다\n",
       "0  0.0  0.0  0.0\n",
       "1  0.0  0.0  0.0\n",
       "2  0.0  0.0  0.0"
      ]
     },
     "execution_count": 22,
     "metadata": {},
     "output_type": "execute_result"
    }
   ],
   "source": [
    "#  데이터프레임 구성체를 바꿔 보기\n",
    "# \n",
    "공갈빵_1호 = pd.DataFrame(np.zeros(shape=(20, 3)), columns=['가', '나', '다'])\n",
    "공갈빵_1호.head(3) "
   ]
  },
  {
   "cell_type": "code",
   "execution_count": null,
   "metadata": {
    "colab": {
     "base_uri": "https://localhost:8080/",
     "height": 142
    },
    "executionInfo": {
     "elapsed": 68,
     "status": "ok",
     "timestamp": 1631897054266,
     "user": {
      "displayName": "박진수",
      "photoUrl": "https://lh3.googleusercontent.com/a-/AOh14Givt_n9gun5TCzjvq5ASwWr2b4FAUXE7mJI_JAt1g=s64",
      "userId": "04216559503906939593"
     },
     "user_tz": -540
    },
    "id": "-LUbdJzJXEb_",
    "outputId": "be9eb896-1e49-431a-f5e1-adc2b49df170"
   },
   "outputs": [
    {
     "data": {
      "text/html": [
       "<div>\n",
       "<style scoped>\n",
       "    .dataframe tbody tr th:only-of-type {\n",
       "        vertical-align: middle;\n",
       "    }\n",
       "\n",
       "    .dataframe tbody tr th {\n",
       "        vertical-align: top;\n",
       "    }\n",
       "\n",
       "    .dataframe thead th {\n",
       "        text-align: right;\n",
       "    }\n",
       "</style>\n",
       "<table border=\"1\" class=\"dataframe\">\n",
       "  <thead>\n",
       "    <tr style=\"text-align: right;\">\n",
       "      <th></th>\n",
       "      <th>가</th>\n",
       "      <th>나</th>\n",
       "      <th>다</th>\n",
       "    </tr>\n",
       "  </thead>\n",
       "  <tbody>\n",
       "    <tr>\n",
       "      <th>0</th>\n",
       "      <td>0.0</td>\n",
       "      <td>0.0</td>\n",
       "      <td>0.0</td>\n",
       "    </tr>\n",
       "    <tr>\n",
       "      <th>1</th>\n",
       "      <td>0.0</td>\n",
       "      <td>0.0</td>\n",
       "      <td>0.0</td>\n",
       "    </tr>\n",
       "    <tr>\n",
       "      <th>2</th>\n",
       "      <td>0.0</td>\n",
       "      <td>0.0</td>\n",
       "      <td>0.0</td>\n",
       "    </tr>\n",
       "  </tbody>\n",
       "</table>\n",
       "</div>"
      ],
      "text/plain": [
       "     가    나    다\n",
       "0  0.0  0.0  0.0\n",
       "1  0.0  0.0  0.0\n",
       "2  0.0  0.0  0.0"
      ]
     },
     "execution_count": 23,
     "metadata": {},
     "output_type": "execute_result"
    }
   ],
   "source": [
    "#  데이터프레임 구성체를 그대로 두고 인스턴스만 바꿔 보기\n",
    "#.\n",
    "공갈빵_2호 = pd.DataFrame(np.zeros(shape=(20, 3)), columns=['가', '나', '다'])\n",
    "공갈빵_2호.head(3)"
   ]
  },
  {
   "cell_type": "code",
   "execution_count": null,
   "metadata": {
    "colab": {
     "base_uri": "https://localhost:8080/",
     "height": 173
    },
    "executionInfo": {
     "elapsed": 68,
     "status": "ok",
     "timestamp": 1631897054266,
     "user": {
      "displayName": "박진수",
      "photoUrl": "https://lh3.googleusercontent.com/a-/AOh14Givt_n9gun5TCzjvq5ASwWr2b4FAUXE7mJI_JAt1g=s64",
      "userId": "04216559503906939593"
     },
     "user_tz": -540
    },
    "id": "vXlhlWcE8T1U",
    "outputId": "4cbdd61b-1703-46a4-91fc-426e322d2808"
   },
   "outputs": [
    {
     "data": {
      "text/html": [
       "<div>\n",
       "<style scoped>\n",
       "    .dataframe tbody tr th:only-of-type {\n",
       "        vertical-align: middle;\n",
       "    }\n",
       "\n",
       "    .dataframe tbody tr th {\n",
       "        vertical-align: top;\n",
       "    }\n",
       "\n",
       "    .dataframe thead th {\n",
       "        text-align: right;\n",
       "    }\n",
       "</style>\n",
       "<table border=\"1\" class=\"dataframe\">\n",
       "  <thead>\n",
       "    <tr style=\"text-align: right;\">\n",
       "      <th></th>\n",
       "      <th>가</th>\n",
       "      <th>나</th>\n",
       "      <th>다</th>\n",
       "    </tr>\n",
       "    <tr>\n",
       "      <th>순번</th>\n",
       "      <th></th>\n",
       "      <th></th>\n",
       "      <th></th>\n",
       "    </tr>\n",
       "  </thead>\n",
       "  <tbody>\n",
       "    <tr>\n",
       "      <th>0</th>\n",
       "      <td>0.0</td>\n",
       "      <td>0.0</td>\n",
       "      <td>0.0</td>\n",
       "    </tr>\n",
       "    <tr>\n",
       "      <th>1</th>\n",
       "      <td>0.0</td>\n",
       "      <td>0.0</td>\n",
       "      <td>0.0</td>\n",
       "    </tr>\n",
       "    <tr>\n",
       "      <th>2</th>\n",
       "      <td>0.0</td>\n",
       "      <td>0.0</td>\n",
       "      <td>0.0</td>\n",
       "    </tr>\n",
       "  </tbody>\n",
       "</table>\n",
       "</div>"
      ],
      "text/plain": [
       "      가    나    다\n",
       "순번               \n",
       "0   0.0  0.0  0.0\n",
       "1   0.0  0.0  0.0\n",
       "2   0.0  0.0  0.0"
      ]
     },
     "execution_count": 24,
     "metadata": {},
     "output_type": "execute_result"
    }
   ],
   "source": [
    "# 인덱스 제목 부여\n",
    "공갈빵_2호.index.name = \"순번\"\n",
    "공갈빵_2호.head(3)"
   ]
  },
  {
   "cell_type": "markdown",
   "metadata": {
    "id": "LfxmCCnxPody"
   },
   "source": [
    "## 2.2 데이터 탐색과 선택(R)\n",
    " "
   ]
  },
  {
   "cell_type": "markdown",
   "metadata": {
    "id": "akdfOGRLe3oN"
   },
   "source": [
    "### 2.2.1 프레임의 앞뒤 보기"
   ]
  },
  {
   "cell_type": "code",
   "execution_count": null,
   "metadata": {
    "colab": {
     "base_uri": "https://localhost:8080/",
     "height": 204
    },
    "executionInfo": {
     "elapsed": 68,
     "status": "ok",
     "timestamp": 1631897054267,
     "user": {
      "displayName": "박진수",
      "photoUrl": "https://lh3.googleusercontent.com/a-/AOh14Givt_n9gun5TCzjvq5ASwWr2b4FAUXE7mJI_JAt1g=s64",
      "userId": "04216559503906939593"
     },
     "user_tz": -540
    },
    "id": "MCeUXZ4heNIS",
    "outputId": "1953a9fa-73d0-466d-83ca-51550b4120cc"
   },
   "outputs": [
    {
     "data": {
      "text/html": [
       "<div>\n",
       "<style scoped>\n",
       "    .dataframe tbody tr th:only-of-type {\n",
       "        vertical-align: middle;\n",
       "    }\n",
       "\n",
       "    .dataframe tbody tr th {\n",
       "        vertical-align: top;\n",
       "    }\n",
       "\n",
       "    .dataframe thead th {\n",
       "        text-align: right;\n",
       "    }\n",
       "</style>\n",
       "<table border=\"1\" class=\"dataframe\">\n",
       "  <thead>\n",
       "    <tr style=\"text-align: right;\">\n",
       "      <th></th>\n",
       "      <th>갑이네</th>\n",
       "      <th>을이네</th>\n",
       "      <th>병이네</th>\n",
       "    </tr>\n",
       "  </thead>\n",
       "  <tbody>\n",
       "    <tr>\n",
       "      <th>2021-01-01</th>\n",
       "      <td>-1.485170</td>\n",
       "      <td>-0.260205</td>\n",
       "      <td>-1.424565</td>\n",
       "    </tr>\n",
       "    <tr>\n",
       "      <th>2021-01-02</th>\n",
       "      <td>-0.891399</td>\n",
       "      <td>0.761163</td>\n",
       "      <td>-0.698757</td>\n",
       "    </tr>\n",
       "    <tr>\n",
       "      <th>2021-01-03</th>\n",
       "      <td>-0.396650</td>\n",
       "      <td>1.243787</td>\n",
       "      <td>0.074518</td>\n",
       "    </tr>\n",
       "    <tr>\n",
       "      <th>2021-01-04</th>\n",
       "      <td>-0.322948</td>\n",
       "      <td>1.461472</td>\n",
       "      <td>1.241821</td>\n",
       "    </tr>\n",
       "    <tr>\n",
       "      <th>2021-01-05</th>\n",
       "      <td>0.259419</td>\n",
       "      <td>1.071688</td>\n",
       "      <td>-0.130218</td>\n",
       "    </tr>\n",
       "  </tbody>\n",
       "</table>\n",
       "</div>"
      ],
      "text/plain": [
       "                 갑이네       을이네       병이네\n",
       "2021-01-01 -1.485170 -0.260205 -1.424565\n",
       "2021-01-02 -0.891399  0.761163 -0.698757\n",
       "2021-01-03 -0.396650  1.243787  0.074518\n",
       "2021-01-04 -0.322948  1.461472  1.241821\n",
       "2021-01-05  0.259419  1.071688 -0.130218"
      ]
     },
     "execution_count": 25,
     "metadata": {},
     "output_type": "execute_result"
    }
   ],
   "source": [
    "# 데이터 프레임의 앞 부분만 보기\n",
    "데이터_프레임.head()  # 기본적으로 다섯 줄만 보여준다."
   ]
  },
  {
   "cell_type": "code",
   "execution_count": null,
   "metadata": {
    "colab": {
     "base_uri": "https://localhost:8080/",
     "height": 266
    },
    "executionInfo": {
     "elapsed": 67,
     "status": "ok",
     "timestamp": 1631897054267,
     "user": {
      "displayName": "박진수",
      "photoUrl": "https://lh3.googleusercontent.com/a-/AOh14Givt_n9gun5TCzjvq5ASwWr2b4FAUXE7mJI_JAt1g=s64",
      "userId": "04216559503906939593"
     },
     "user_tz": -540
    },
    "id": "ax4ssrRHeYET",
    "outputId": "c842eda2-6480-4d11-cdd6-9e99a9e82080"
   },
   "outputs": [
    {
     "data": {
      "text/html": [
       "<div>\n",
       "<style scoped>\n",
       "    .dataframe tbody tr th:only-of-type {\n",
       "        vertical-align: middle;\n",
       "    }\n",
       "\n",
       "    .dataframe tbody tr th {\n",
       "        vertical-align: top;\n",
       "    }\n",
       "\n",
       "    .dataframe thead th {\n",
       "        text-align: right;\n",
       "    }\n",
       "</style>\n",
       "<table border=\"1\" class=\"dataframe\">\n",
       "  <thead>\n",
       "    <tr style=\"text-align: right;\">\n",
       "      <th></th>\n",
       "      <th>갑이네</th>\n",
       "      <th>을이네</th>\n",
       "      <th>병이네</th>\n",
       "    </tr>\n",
       "  </thead>\n",
       "  <tbody>\n",
       "    <tr>\n",
       "      <th>2021-01-01</th>\n",
       "      <td>-1.485170</td>\n",
       "      <td>-0.260205</td>\n",
       "      <td>-1.424565</td>\n",
       "    </tr>\n",
       "    <tr>\n",
       "      <th>2021-01-02</th>\n",
       "      <td>-0.891399</td>\n",
       "      <td>0.761163</td>\n",
       "      <td>-0.698757</td>\n",
       "    </tr>\n",
       "    <tr>\n",
       "      <th>2021-01-03</th>\n",
       "      <td>-0.396650</td>\n",
       "      <td>1.243787</td>\n",
       "      <td>0.074518</td>\n",
       "    </tr>\n",
       "    <tr>\n",
       "      <th>2021-01-04</th>\n",
       "      <td>-0.322948</td>\n",
       "      <td>1.461472</td>\n",
       "      <td>1.241821</td>\n",
       "    </tr>\n",
       "    <tr>\n",
       "      <th>2021-01-05</th>\n",
       "      <td>0.259419</td>\n",
       "      <td>1.071688</td>\n",
       "      <td>-0.130218</td>\n",
       "    </tr>\n",
       "    <tr>\n",
       "      <th>2021-01-06</th>\n",
       "      <td>1.885784</td>\n",
       "      <td>-0.705359</td>\n",
       "      <td>0.335575</td>\n",
       "    </tr>\n",
       "    <tr>\n",
       "      <th>2021-01-07</th>\n",
       "      <td>0.568752</td>\n",
       "      <td>-0.916734</td>\n",
       "      <td>-1.059760</td>\n",
       "    </tr>\n",
       "  </tbody>\n",
       "</table>\n",
       "</div>"
      ],
      "text/plain": [
       "                 갑이네       을이네       병이네\n",
       "2021-01-01 -1.485170 -0.260205 -1.424565\n",
       "2021-01-02 -0.891399  0.761163 -0.698757\n",
       "2021-01-03 -0.396650  1.243787  0.074518\n",
       "2021-01-04 -0.322948  1.461472  1.241821\n",
       "2021-01-05  0.259419  1.071688 -0.130218\n",
       "2021-01-06  1.885784 -0.705359  0.335575\n",
       "2021-01-07  0.568752 -0.916734 -1.059760"
      ]
     },
     "execution_count": 26,
     "metadata": {},
     "output_type": "execute_result"
    }
   ],
   "source": [
    "데이터_프레임.head(7) # 보고 싶은 줄 개수를 지정할 수 있다."
   ]
  },
  {
   "cell_type": "code",
   "execution_count": null,
   "metadata": {
    "colab": {
     "base_uri": "https://localhost:8080/",
     "height": 204
    },
    "executionInfo": {
     "elapsed": 66,
     "status": "ok",
     "timestamp": 1631897054267,
     "user": {
      "displayName": "박진수",
      "photoUrl": "https://lh3.googleusercontent.com/a-/AOh14Givt_n9gun5TCzjvq5ASwWr2b4FAUXE7mJI_JAt1g=s64",
      "userId": "04216559503906939593"
     },
     "user_tz": -540
    },
    "id": "XDuoyK4uehKd",
    "outputId": "c72176d5-3d34-442e-e05e-bf911cee3c72"
   },
   "outputs": [
    {
     "data": {
      "text/html": [
       "<div>\n",
       "<style scoped>\n",
       "    .dataframe tbody tr th:only-of-type {\n",
       "        vertical-align: middle;\n",
       "    }\n",
       "\n",
       "    .dataframe tbody tr th {\n",
       "        vertical-align: top;\n",
       "    }\n",
       "\n",
       "    .dataframe thead th {\n",
       "        text-align: right;\n",
       "    }\n",
       "</style>\n",
       "<table border=\"1\" class=\"dataframe\">\n",
       "  <thead>\n",
       "    <tr style=\"text-align: right;\">\n",
       "      <th></th>\n",
       "      <th>갑이네</th>\n",
       "      <th>을이네</th>\n",
       "      <th>병이네</th>\n",
       "    </tr>\n",
       "  </thead>\n",
       "  <tbody>\n",
       "    <tr>\n",
       "      <th>2021-01-16</th>\n",
       "      <td>-0.236132</td>\n",
       "      <td>1.353989</td>\n",
       "      <td>0.889956</td>\n",
       "    </tr>\n",
       "    <tr>\n",
       "      <th>2021-01-17</th>\n",
       "      <td>0.976284</td>\n",
       "      <td>0.737673</td>\n",
       "      <td>1.320201</td>\n",
       "    </tr>\n",
       "    <tr>\n",
       "      <th>2021-01-18</th>\n",
       "      <td>-1.177552</td>\n",
       "      <td>1.581147</td>\n",
       "      <td>0.817255</td>\n",
       "    </tr>\n",
       "    <tr>\n",
       "      <th>2021-01-19</th>\n",
       "      <td>2.351578</td>\n",
       "      <td>-0.114442</td>\n",
       "      <td>0.205780</td>\n",
       "    </tr>\n",
       "    <tr>\n",
       "      <th>2021-01-20</th>\n",
       "      <td>-2.414536</td>\n",
       "      <td>-0.437477</td>\n",
       "      <td>0.605718</td>\n",
       "    </tr>\n",
       "  </tbody>\n",
       "</table>\n",
       "</div>"
      ],
      "text/plain": [
       "                 갑이네       을이네       병이네\n",
       "2021-01-16 -0.236132  1.353989  0.889956\n",
       "2021-01-17  0.976284  0.737673  1.320201\n",
       "2021-01-18 -1.177552  1.581147  0.817255\n",
       "2021-01-19  2.351578 -0.114442  0.205780\n",
       "2021-01-20 -2.414536 -0.437477  0.605718"
      ]
     },
     "execution_count": 27,
     "metadata": {},
     "output_type": "execute_result"
    }
   ],
   "source": [
    "# 데이터 프레임의 뒷 부분만 보기\n",
    "데이터_프레임.tail()  # 기본적으로 다섯 줄만 보여준다."
   ]
  },
  {
   "cell_type": "code",
   "execution_count": null,
   "metadata": {
    "colab": {
     "base_uri": "https://localhost:8080/",
     "height": 142
    },
    "executionInfo": {
     "elapsed": 68,
     "status": "ok",
     "timestamp": 1631897054269,
     "user": {
      "displayName": "박진수",
      "photoUrl": "https://lh3.googleusercontent.com/a-/AOh14Givt_n9gun5TCzjvq5ASwWr2b4FAUXE7mJI_JAt1g=s64",
      "userId": "04216559503906939593"
     },
     "user_tz": -540
    },
    "id": "OfnPYLmxep6j",
    "outputId": "247f3e64-64b9-476e-f898-bbd74645a5ea"
   },
   "outputs": [
    {
     "data": {
      "text/html": [
       "<div>\n",
       "<style scoped>\n",
       "    .dataframe tbody tr th:only-of-type {\n",
       "        vertical-align: middle;\n",
       "    }\n",
       "\n",
       "    .dataframe tbody tr th {\n",
       "        vertical-align: top;\n",
       "    }\n",
       "\n",
       "    .dataframe thead th {\n",
       "        text-align: right;\n",
       "    }\n",
       "</style>\n",
       "<table border=\"1\" class=\"dataframe\">\n",
       "  <thead>\n",
       "    <tr style=\"text-align: right;\">\n",
       "      <th></th>\n",
       "      <th>갑이네</th>\n",
       "      <th>을이네</th>\n",
       "      <th>병이네</th>\n",
       "    </tr>\n",
       "  </thead>\n",
       "  <tbody>\n",
       "    <tr>\n",
       "      <th>2021-01-18</th>\n",
       "      <td>-1.177552</td>\n",
       "      <td>1.581147</td>\n",
       "      <td>0.817255</td>\n",
       "    </tr>\n",
       "    <tr>\n",
       "      <th>2021-01-19</th>\n",
       "      <td>2.351578</td>\n",
       "      <td>-0.114442</td>\n",
       "      <td>0.205780</td>\n",
       "    </tr>\n",
       "    <tr>\n",
       "      <th>2021-01-20</th>\n",
       "      <td>-2.414536</td>\n",
       "      <td>-0.437477</td>\n",
       "      <td>0.605718</td>\n",
       "    </tr>\n",
       "  </tbody>\n",
       "</table>\n",
       "</div>"
      ],
      "text/plain": [
       "                 갑이네       을이네       병이네\n",
       "2021-01-18 -1.177552  1.581147  0.817255\n",
       "2021-01-19  2.351578 -0.114442  0.205780\n",
       "2021-01-20 -2.414536 -0.437477  0.605718"
      ]
     },
     "execution_count": 28,
     "metadata": {},
     "output_type": "execute_result"
    }
   ],
   "source": [
    "데이터_프레임.tail(3) # 줄 개수를 지정해 볼 수 있다."
   ]
  },
  {
   "cell_type": "markdown",
   "metadata": {
    "id": "l-f6xzTWe9J5"
   },
   "source": [
    "### 2.2.2 프레임의 인덱스, 열,내용 보기"
   ]
  },
  {
   "cell_type": "code",
   "execution_count": null,
   "metadata": {
    "id": "vT-8KTV284ll"
   },
   "outputs": [],
   "source": [
    "np.random.seed(300)\n",
    "데이터_프레임 = pd.DataFrame(np.random.randn(20, 3),\n",
    "                            index = pd.date_range('20210101', periods = 20),\n",
    "                            columns=['갑이네', '을이네', '병이네'])"
   ]
  },
  {
   "cell_type": "code",
   "execution_count": null,
   "metadata": {
    "colab": {
     "base_uri": "https://localhost:8080/"
    },
    "executionInfo": {
     "elapsed": 69,
     "status": "ok",
     "timestamp": 1631897054271,
     "user": {
      "displayName": "박진수",
      "photoUrl": "https://lh3.googleusercontent.com/a-/AOh14Givt_n9gun5TCzjvq5ASwWr2b4FAUXE7mJI_JAt1g=s64",
      "userId": "04216559503906939593"
     },
     "user_tz": -540
    },
    "id": "_fhjIxENfCTy",
    "outputId": "e9cd779c-aff1-49e6-ba0e-ce3b376df4f2"
   },
   "outputs": [
    {
     "data": {
      "text/plain": [
       "DatetimeIndex(['2021-01-01', '2021-01-02', '2021-01-03', '2021-01-04',\n",
       "               '2021-01-05', '2021-01-06', '2021-01-07', '2021-01-08',\n",
       "               '2021-01-09', '2021-01-10', '2021-01-11', '2021-01-12',\n",
       "               '2021-01-13', '2021-01-14', '2021-01-15', '2021-01-16',\n",
       "               '2021-01-17', '2021-01-18', '2021-01-19', '2021-01-20'],\n",
       "              dtype='datetime64[ns]', freq='D')"
      ]
     },
     "execution_count": 30,
     "metadata": {},
     "output_type": "execute_result"
    }
   ],
   "source": [
    "# 인덱스만 보기\n",
    "# print(데이터_프레임.index)\n",
    "데이터_프레임.index"
   ]
  },
  {
   "cell_type": "code",
   "execution_count": null,
   "metadata": {
    "colab": {
     "base_uri": "https://localhost:8080/",
     "height": 142
    },
    "executionInfo": {
     "elapsed": 66,
     "status": "ok",
     "timestamp": 1631897054272,
     "user": {
      "displayName": "박진수",
      "photoUrl": "https://lh3.googleusercontent.com/a-/AOh14Givt_n9gun5TCzjvq5ASwWr2b4FAUXE7mJI_JAt1g=s64",
      "userId": "04216559503906939593"
     },
     "user_tz": -540
    },
    "id": "8Ht3AIP4fMAh",
    "outputId": "26cff866-f4c2-444a-cc70-ab8d7db17852"
   },
   "outputs": [
    {
     "data": {
      "text/html": [
       "<div>\n",
       "<style scoped>\n",
       "    .dataframe tbody tr th:only-of-type {\n",
       "        vertical-align: middle;\n",
       "    }\n",
       "\n",
       "    .dataframe tbody tr th {\n",
       "        vertical-align: top;\n",
       "    }\n",
       "\n",
       "    .dataframe thead th {\n",
       "        text-align: right;\n",
       "    }\n",
       "</style>\n",
       "<table border=\"1\" class=\"dataframe\">\n",
       "  <thead>\n",
       "    <tr style=\"text-align: right;\">\n",
       "      <th></th>\n",
       "      <th>0</th>\n",
       "    </tr>\n",
       "  </thead>\n",
       "  <tbody>\n",
       "    <tr>\n",
       "      <th>0</th>\n",
       "      <td>갑이네</td>\n",
       "    </tr>\n",
       "    <tr>\n",
       "      <th>1</th>\n",
       "      <td>을이네</td>\n",
       "    </tr>\n",
       "    <tr>\n",
       "      <th>2</th>\n",
       "      <td>병이네</td>\n",
       "    </tr>\n",
       "  </tbody>\n",
       "</table>\n",
       "</div>"
      ],
      "text/plain": [
       "     0\n",
       "0  갑이네\n",
       "1  을이네\n",
       "2  병이네"
      ]
     },
     "execution_count": 31,
     "metadata": {},
     "output_type": "execute_result"
    }
   ],
   "source": [
    "# 열 제목만 보기\n",
    "# print(데이터_프레임.columns)\n",
    "pd.DataFrame(데이터_프레임.columns)"
   ]
  },
  {
   "cell_type": "code",
   "execution_count": null,
   "metadata": {
    "colab": {
     "base_uri": "https://localhost:8080/",
     "height": 204
    },
    "executionInfo": {
     "elapsed": 65,
     "status": "ok",
     "timestamp": 1631897054272,
     "user": {
      "displayName": "박진수",
      "photoUrl": "https://lh3.googleusercontent.com/a-/AOh14Givt_n9gun5TCzjvq5ASwWr2b4FAUXE7mJI_JAt1g=s64",
      "userId": "04216559503906939593"
     },
     "user_tz": -540
    },
    "id": "wY4RIRcifW92",
    "outputId": "1d06ec98-aac2-4830-a084-0919c9a3d417"
   },
   "outputs": [
    {
     "data": {
      "text/html": [
       "<div>\n",
       "<style scoped>\n",
       "    .dataframe tbody tr th:only-of-type {\n",
       "        vertical-align: middle;\n",
       "    }\n",
       "\n",
       "    .dataframe tbody tr th {\n",
       "        vertical-align: top;\n",
       "    }\n",
       "\n",
       "    .dataframe thead th {\n",
       "        text-align: right;\n",
       "    }\n",
       "</style>\n",
       "<table border=\"1\" class=\"dataframe\">\n",
       "  <thead>\n",
       "    <tr style=\"text-align: right;\">\n",
       "      <th></th>\n",
       "      <th>0</th>\n",
       "      <th>1</th>\n",
       "      <th>2</th>\n",
       "    </tr>\n",
       "  </thead>\n",
       "  <tbody>\n",
       "    <tr>\n",
       "      <th>0</th>\n",
       "      <td>-1.485170</td>\n",
       "      <td>-0.260205</td>\n",
       "      <td>-1.424565</td>\n",
       "    </tr>\n",
       "    <tr>\n",
       "      <th>1</th>\n",
       "      <td>-0.891399</td>\n",
       "      <td>0.761163</td>\n",
       "      <td>-0.698757</td>\n",
       "    </tr>\n",
       "    <tr>\n",
       "      <th>2</th>\n",
       "      <td>-0.396650</td>\n",
       "      <td>1.243787</td>\n",
       "      <td>0.074518</td>\n",
       "    </tr>\n",
       "    <tr>\n",
       "      <th>3</th>\n",
       "      <td>-0.322948</td>\n",
       "      <td>1.461472</td>\n",
       "      <td>1.241821</td>\n",
       "    </tr>\n",
       "    <tr>\n",
       "      <th>4</th>\n",
       "      <td>0.259419</td>\n",
       "      <td>1.071688</td>\n",
       "      <td>-0.130218</td>\n",
       "    </tr>\n",
       "  </tbody>\n",
       "</table>\n",
       "</div>"
      ],
      "text/plain": [
       "          0         1         2\n",
       "0 -1.485170 -0.260205 -1.424565\n",
       "1 -0.891399  0.761163 -0.698757\n",
       "2 -0.396650  1.243787  0.074518\n",
       "3 -0.322948  1.461472  1.241821\n",
       "4  0.259419  1.071688 -0.130218"
      ]
     },
     "execution_count": 32,
     "metadata": {},
     "output_type": "execute_result"
    }
   ],
   "source": [
    "# 내용만 보기 \n",
    "# print(데이터_프레임.values)\n",
    "pd.DataFrame(데이터_프레임.values).head()"
   ]
  },
  {
   "cell_type": "markdown",
   "metadata": {
    "id": "_6h92tatjMRR"
   },
   "source": [
    "### 2.2.3 특정 열만 선택하기\n"
   ]
  },
  {
   "cell_type": "code",
   "execution_count": null,
   "metadata": {
    "colab": {
     "base_uri": "https://localhost:8080/",
     "height": 142
    },
    "executionInfo": {
     "elapsed": 64,
     "status": "ok",
     "timestamp": 1631897054272,
     "user": {
      "displayName": "박진수",
      "photoUrl": "https://lh3.googleusercontent.com/a-/AOh14Givt_n9gun5TCzjvq5ASwWr2b4FAUXE7mJI_JAt1g=s64",
      "userId": "04216559503906939593"
     },
     "user_tz": -540
    },
    "id": "xIB1QlbGjWNd",
    "outputId": "10bce408-b6dc-4ec7-fa8c-8d85aadfffe6"
   },
   "outputs": [
    {
     "data": {
      "text/html": [
       "<div>\n",
       "<style scoped>\n",
       "    .dataframe tbody tr th:only-of-type {\n",
       "        vertical-align: middle;\n",
       "    }\n",
       "\n",
       "    .dataframe tbody tr th {\n",
       "        vertical-align: top;\n",
       "    }\n",
       "\n",
       "    .dataframe thead th {\n",
       "        text-align: right;\n",
       "    }\n",
       "</style>\n",
       "<table border=\"1\" class=\"dataframe\">\n",
       "  <thead>\n",
       "    <tr style=\"text-align: right;\">\n",
       "      <th></th>\n",
       "      <th>갑이네</th>\n",
       "    </tr>\n",
       "  </thead>\n",
       "  <tbody>\n",
       "    <tr>\n",
       "      <th>2021-01-01</th>\n",
       "      <td>-1.485170</td>\n",
       "    </tr>\n",
       "    <tr>\n",
       "      <th>2021-01-02</th>\n",
       "      <td>-0.891399</td>\n",
       "    </tr>\n",
       "    <tr>\n",
       "      <th>2021-01-03</th>\n",
       "      <td>-0.396650</td>\n",
       "    </tr>\n",
       "  </tbody>\n",
       "</table>\n",
       "</div>"
      ],
      "text/plain": [
       "                 갑이네\n",
       "2021-01-01 -1.485170\n",
       "2021-01-02 -0.891399\n",
       "2021-01-03 -0.396650"
      ]
     },
     "execution_count": 33,
     "metadata": {},
     "output_type": "execute_result"
    }
   ],
   "source": [
    "# 특정 열 전체 보기\n",
    "# 데이터_프레임['갑이네']\n",
    "pd.DataFrame(데이터_프레임['갑이네']).head(3)"
   ]
  },
  {
   "cell_type": "code",
   "execution_count": null,
   "metadata": {
    "colab": {
     "base_uri": "https://localhost:8080/",
     "height": 142
    },
    "executionInfo": {
     "elapsed": 1084,
     "status": "ok",
     "timestamp": 1631897055292,
     "user": {
      "displayName": "박진수",
      "photoUrl": "https://lh3.googleusercontent.com/a-/AOh14Givt_n9gun5TCzjvq5ASwWr2b4FAUXE7mJI_JAt1g=s64",
      "userId": "04216559503906939593"
     },
     "user_tz": -540
    },
    "id": "ovcfhF17jls8",
    "outputId": "fb34cd3e-3f4f-4a00-c315-a39eedfa368e"
   },
   "outputs": [
    {
     "data": {
      "text/html": [
       "<div>\n",
       "<style scoped>\n",
       "    .dataframe tbody tr th:only-of-type {\n",
       "        vertical-align: middle;\n",
       "    }\n",
       "\n",
       "    .dataframe tbody tr th {\n",
       "        vertical-align: top;\n",
       "    }\n",
       "\n",
       "    .dataframe thead th {\n",
       "        text-align: right;\n",
       "    }\n",
       "</style>\n",
       "<table border=\"1\" class=\"dataframe\">\n",
       "  <thead>\n",
       "    <tr style=\"text-align: right;\">\n",
       "      <th></th>\n",
       "      <th>병이네</th>\n",
       "    </tr>\n",
       "  </thead>\n",
       "  <tbody>\n",
       "    <tr>\n",
       "      <th>2021-01-01</th>\n",
       "      <td>-1.424565</td>\n",
       "    </tr>\n",
       "    <tr>\n",
       "      <th>2021-01-02</th>\n",
       "      <td>-0.698757</td>\n",
       "    </tr>\n",
       "    <tr>\n",
       "      <th>2021-01-03</th>\n",
       "      <td>0.074518</td>\n",
       "    </tr>\n",
       "  </tbody>\n",
       "</table>\n",
       "</div>"
      ],
      "text/plain": [
       "                 병이네\n",
       "2021-01-01 -1.424565\n",
       "2021-01-02 -0.698757\n",
       "2021-01-03  0.074518"
      ]
     },
     "execution_count": 34,
     "metadata": {},
     "output_type": "execute_result"
    }
   ],
   "source": [
    "# 특정 열의 일부 행만 선택하기\n",
    "pd.DataFrame(데이터_프레임['병이네'].head(3))"
   ]
  },
  {
   "cell_type": "markdown",
   "metadata": {
    "id": "PF9UIr8zkHhp"
   },
   "source": [
    "### 2.2.4 특정 행만 선택하기"
   ]
  },
  {
   "cell_type": "code",
   "execution_count": null,
   "metadata": {
    "colab": {
     "base_uri": "https://localhost:8080/",
     "height": 173
    },
    "executionInfo": {
     "elapsed": 44,
     "status": "ok",
     "timestamp": 1631897055292,
     "user": {
      "displayName": "박진수",
      "photoUrl": "https://lh3.googleusercontent.com/a-/AOh14Givt_n9gun5TCzjvq5ASwWr2b4FAUXE7mJI_JAt1g=s64",
      "userId": "04216559503906939593"
     },
     "user_tz": -540
    },
    "id": "qr8bSaMFkLqw",
    "outputId": "fbe8bdc1-1550-486c-f6e5-ad6cc6657bbb"
   },
   "outputs": [
    {
     "data": {
      "text/html": [
       "<div>\n",
       "<style scoped>\n",
       "    .dataframe tbody tr th:only-of-type {\n",
       "        vertical-align: middle;\n",
       "    }\n",
       "\n",
       "    .dataframe tbody tr th {\n",
       "        vertical-align: top;\n",
       "    }\n",
       "\n",
       "    .dataframe thead th {\n",
       "        text-align: right;\n",
       "    }\n",
       "</style>\n",
       "<table border=\"1\" class=\"dataframe\">\n",
       "  <thead>\n",
       "    <tr style=\"text-align: right;\">\n",
       "      <th></th>\n",
       "      <th>갑이네</th>\n",
       "      <th>을이네</th>\n",
       "      <th>병이네</th>\n",
       "    </tr>\n",
       "  </thead>\n",
       "  <tbody>\n",
       "    <tr>\n",
       "      <th>2021-01-04</th>\n",
       "      <td>-0.322948</td>\n",
       "      <td>1.461472</td>\n",
       "      <td>1.241821</td>\n",
       "    </tr>\n",
       "    <tr>\n",
       "      <th>2021-01-05</th>\n",
       "      <td>0.259419</td>\n",
       "      <td>1.071688</td>\n",
       "      <td>-0.130218</td>\n",
       "    </tr>\n",
       "    <tr>\n",
       "      <th>2021-01-06</th>\n",
       "      <td>1.885784</td>\n",
       "      <td>-0.705359</td>\n",
       "      <td>0.335575</td>\n",
       "    </tr>\n",
       "    <tr>\n",
       "      <th>2021-01-07</th>\n",
       "      <td>0.568752</td>\n",
       "      <td>-0.916734</td>\n",
       "      <td>-1.059760</td>\n",
       "    </tr>\n",
       "  </tbody>\n",
       "</table>\n",
       "</div>"
      ],
      "text/plain": [
       "                 갑이네       을이네       병이네\n",
       "2021-01-04 -0.322948  1.461472  1.241821\n",
       "2021-01-05  0.259419  1.071688 -0.130218\n",
       "2021-01-06  1.885784 -0.705359  0.335575\n",
       "2021-01-07  0.568752 -0.916734 -1.059760"
      ]
     },
     "execution_count": 35,
     "metadata": {},
     "output_type": "execute_result"
    }
   ],
   "source": [
    "# 위치 기준으로 특정 행을 선택하기\n",
    "pd.DataFrame(데이터_프레임[3:7])  # 리스트의 인덱싱 방법과 같다는 점에 주목"
   ]
  },
  {
   "cell_type": "code",
   "execution_count": null,
   "metadata": {
    "colab": {
     "base_uri": "https://localhost:8080/",
     "height": 173
    },
    "executionInfo": {
     "elapsed": 44,
     "status": "ok",
     "timestamp": 1631897055293,
     "user": {
      "displayName": "박진수",
      "photoUrl": "https://lh3.googleusercontent.com/a-/AOh14Givt_n9gun5TCzjvq5ASwWr2b4FAUXE7mJI_JAt1g=s64",
      "userId": "04216559503906939593"
     },
     "user_tz": -540
    },
    "id": "GDRj1YwCkdcA",
    "outputId": "93c7ccd2-46dc-4810-b386-596ad9cc8a63"
   },
   "outputs": [
    {
     "data": {
      "text/html": [
       "<div>\n",
       "<style scoped>\n",
       "    .dataframe tbody tr th:only-of-type {\n",
       "        vertical-align: middle;\n",
       "    }\n",
       "\n",
       "    .dataframe tbody tr th {\n",
       "        vertical-align: top;\n",
       "    }\n",
       "\n",
       "    .dataframe thead th {\n",
       "        text-align: right;\n",
       "    }\n",
       "</style>\n",
       "<table border=\"1\" class=\"dataframe\">\n",
       "  <thead>\n",
       "    <tr style=\"text-align: right;\">\n",
       "      <th></th>\n",
       "      <th>갑이네</th>\n",
       "      <th>을이네</th>\n",
       "      <th>병이네</th>\n",
       "    </tr>\n",
       "  </thead>\n",
       "  <tbody>\n",
       "    <tr>\n",
       "      <th>2021-01-07</th>\n",
       "      <td>0.568752</td>\n",
       "      <td>-0.916734</td>\n",
       "      <td>-1.059760</td>\n",
       "    </tr>\n",
       "    <tr>\n",
       "      <th>2021-01-08</th>\n",
       "      <td>-1.918972</td>\n",
       "      <td>1.679736</td>\n",
       "      <td>-1.131580</td>\n",
       "    </tr>\n",
       "    <tr>\n",
       "      <th>2021-01-09</th>\n",
       "      <td>-1.168810</td>\n",
       "      <td>-0.301069</td>\n",
       "      <td>3.244311</td>\n",
       "    </tr>\n",
       "    <tr>\n",
       "      <th>2021-01-10</th>\n",
       "      <td>1.609465</td>\n",
       "      <td>-1.323539</td>\n",
       "      <td>-1.015974</td>\n",
       "    </tr>\n",
       "  </tbody>\n",
       "</table>\n",
       "</div>"
      ],
      "text/plain": [
       "                 갑이네       을이네       병이네\n",
       "2021-01-07  0.568752 -0.916734 -1.059760\n",
       "2021-01-08 -1.918972  1.679736 -1.131580\n",
       "2021-01-09 -1.168810 -0.301069  3.244311\n",
       "2021-01-10  1.609465 -1.323539 -1.015974"
      ]
     },
     "execution_count": 36,
     "metadata": {},
     "output_type": "execute_result"
    }
   ],
   "source": [
    "# 인덱스명(색인명) 기준으로 특정 행을 선택하기\n",
    "pd.DataFrame(데이터_프레임['20210107':'20210110'])"
   ]
  },
  {
   "cell_type": "markdown",
   "metadata": {
    "id": "cG-n26Nypqwk"
   },
   "source": [
    "### 2.2.5 인덱스 값을 기준으로 특정 행을 선택하기"
   ]
  },
  {
   "cell_type": "code",
   "execution_count": null,
   "metadata": {
    "colab": {
     "base_uri": "https://localhost:8080/",
     "height": 111
    },
    "executionInfo": {
     "elapsed": 43,
     "status": "ok",
     "timestamp": 1631897055293,
     "user": {
      "displayName": "박진수",
      "photoUrl": "https://lh3.googleusercontent.com/a-/AOh14Givt_n9gun5TCzjvq5ASwWr2b4FAUXE7mJI_JAt1g=s64",
      "userId": "04216559503906939593"
     },
     "user_tz": -540
    },
    "id": "1rHXhuk1obWn",
    "outputId": "3958c393-2711-4dfd-8d84-130f4accad64"
   },
   "outputs": [
    {
     "data": {
      "text/html": [
       "<div>\n",
       "<style scoped>\n",
       "    .dataframe tbody tr th:only-of-type {\n",
       "        vertical-align: middle;\n",
       "    }\n",
       "\n",
       "    .dataframe tbody tr th {\n",
       "        vertical-align: top;\n",
       "    }\n",
       "\n",
       "    .dataframe thead th {\n",
       "        text-align: right;\n",
       "    }\n",
       "</style>\n",
       "<table border=\"1\" class=\"dataframe\">\n",
       "  <thead>\n",
       "    <tr style=\"text-align: right;\">\n",
       "      <th></th>\n",
       "      <th>을이네</th>\n",
       "      <th>병이네</th>\n",
       "    </tr>\n",
       "  </thead>\n",
       "  <tbody>\n",
       "    <tr>\n",
       "      <th>2021-01-04</th>\n",
       "      <td>1.461472</td>\n",
       "      <td>1.241821</td>\n",
       "    </tr>\n",
       "    <tr>\n",
       "      <th>2021-01-05</th>\n",
       "      <td>1.071688</td>\n",
       "      <td>-0.130218</td>\n",
       "    </tr>\n",
       "  </tbody>\n",
       "</table>\n",
       "</div>"
      ],
      "text/plain": [
       "                 을이네       병이네\n",
       "2021-01-04  1.461472  1.241821\n",
       "2021-01-05  1.071688 -0.130218"
      ]
     },
     "execution_count": 37,
     "metadata": {},
     "output_type": "execute_result"
    }
   ],
   "source": [
    "# 특정 열들의 일부 행만 선택하기\n",
    "pd.DataFrame(데이터_프레임.loc['20210104':'20210105', ['을이네', '병이네']])"
   ]
  },
  {
   "cell_type": "markdown",
   "metadata": {
    "id": "AiqztJK1pxSJ"
   },
   "source": [
    "### 2.2.6 위치를 기준으로 데이터를 선택하기\n",
    " "
   ]
  },
  {
   "cell_type": "code",
   "execution_count": null,
   "metadata": {
    "colab": {
     "base_uri": "https://localhost:8080/",
     "height": 204
    },
    "executionInfo": {
     "elapsed": 43,
     "status": "ok",
     "timestamp": 1631897055294,
     "user": {
      "displayName": "박진수",
      "photoUrl": "https://lh3.googleusercontent.com/a-/AOh14Givt_n9gun5TCzjvq5ASwWr2b4FAUXE7mJI_JAt1g=s64",
      "userId": "04216559503906939593"
     },
     "user_tz": -540
    },
    "id": "O1FRCtqpqWKw",
    "outputId": "dfdb9ea4-b6cd-4082-ffff-d2e98ccf1472"
   },
   "outputs": [
    {
     "data": {
      "text/html": [
       "<div>\n",
       "<style scoped>\n",
       "    .dataframe tbody tr th:only-of-type {\n",
       "        vertical-align: middle;\n",
       "    }\n",
       "\n",
       "    .dataframe tbody tr th {\n",
       "        vertical-align: top;\n",
       "    }\n",
       "\n",
       "    .dataframe thead th {\n",
       "        text-align: right;\n",
       "    }\n",
       "</style>\n",
       "<table border=\"1\" class=\"dataframe\">\n",
       "  <thead>\n",
       "    <tr style=\"text-align: right;\">\n",
       "      <th></th>\n",
       "      <th>갑이네</th>\n",
       "      <th>을이네</th>\n",
       "      <th>병이네</th>\n",
       "    </tr>\n",
       "  </thead>\n",
       "  <tbody>\n",
       "    <tr>\n",
       "      <th>2021-01-01</th>\n",
       "      <td>-1.485170</td>\n",
       "      <td>-0.260205</td>\n",
       "      <td>-1.424565</td>\n",
       "    </tr>\n",
       "    <tr>\n",
       "      <th>2021-01-02</th>\n",
       "      <td>-0.891399</td>\n",
       "      <td>0.761163</td>\n",
       "      <td>-0.698757</td>\n",
       "    </tr>\n",
       "    <tr>\n",
       "      <th>2021-01-03</th>\n",
       "      <td>-0.396650</td>\n",
       "      <td>1.243787</td>\n",
       "      <td>0.074518</td>\n",
       "    </tr>\n",
       "    <tr>\n",
       "      <th>2021-01-04</th>\n",
       "      <td>-0.322948</td>\n",
       "      <td>1.461472</td>\n",
       "      <td>1.241821</td>\n",
       "    </tr>\n",
       "    <tr>\n",
       "      <th>2021-01-05</th>\n",
       "      <td>0.259419</td>\n",
       "      <td>1.071688</td>\n",
       "      <td>-0.130218</td>\n",
       "    </tr>\n",
       "  </tbody>\n",
       "</table>\n",
       "</div>"
      ],
      "text/plain": [
       "                 갑이네       을이네       병이네\n",
       "2021-01-01 -1.485170 -0.260205 -1.424565\n",
       "2021-01-02 -0.891399  0.761163 -0.698757\n",
       "2021-01-03 -0.396650  1.243787  0.074518\n",
       "2021-01-04 -0.322948  1.461472  1.241821\n",
       "2021-01-05  0.259419  1.071688 -0.130218"
      ]
     },
     "execution_count": 38,
     "metadata": {},
     "output_type": "execute_result"
    }
   ],
   "source": [
    "# 먼저 현재 데이터 프레임의 내용을 보자.\n",
    "데이터_프레임.head()"
   ]
  },
  {
   "cell_type": "code",
   "execution_count": null,
   "metadata": {
    "colab": {
     "base_uri": "https://localhost:8080/",
     "height": 111
    },
    "executionInfo": {
     "elapsed": 42,
     "status": "ok",
     "timestamp": 1631897055294,
     "user": {
      "displayName": "박진수",
      "photoUrl": "https://lh3.googleusercontent.com/a-/AOh14Givt_n9gun5TCzjvq5ASwWr2b4FAUXE7mJI_JAt1g=s64",
      "userId": "04216559503906939593"
     },
     "user_tz": -540
    },
    "id": "iF9w2mIpqIkb",
    "outputId": "c9a042da-5b75-4337-edcf-810e6c7e46cd"
   },
   "outputs": [
    {
     "data": {
      "text/html": [
       "<div>\n",
       "<style scoped>\n",
       "    .dataframe tbody tr th:only-of-type {\n",
       "        vertical-align: middle;\n",
       "    }\n",
       "\n",
       "    .dataframe tbody tr th {\n",
       "        vertical-align: top;\n",
       "    }\n",
       "\n",
       "    .dataframe thead th {\n",
       "        text-align: right;\n",
       "    }\n",
       "</style>\n",
       "<table border=\"1\" class=\"dataframe\">\n",
       "  <thead>\n",
       "    <tr style=\"text-align: right;\">\n",
       "      <th></th>\n",
       "      <th>을이네</th>\n",
       "      <th>병이네</th>\n",
       "    </tr>\n",
       "  </thead>\n",
       "  <tbody>\n",
       "    <tr>\n",
       "      <th>2021-01-03</th>\n",
       "      <td>1.243787</td>\n",
       "      <td>0.074518</td>\n",
       "    </tr>\n",
       "    <tr>\n",
       "      <th>2021-01-04</th>\n",
       "      <td>1.461472</td>\n",
       "      <td>1.241821</td>\n",
       "    </tr>\n",
       "  </tbody>\n",
       "</table>\n",
       "</div>"
      ],
      "text/plain": [
       "                 을이네       병이네\n",
       "2021-01-03  1.243787  0.074518\n",
       "2021-01-04  1.461472  1.241821"
      ]
     },
     "execution_count": 39,
     "metadata": {},
     "output_type": "execute_result"
    }
   ],
   "source": [
    "# 덩어리째(블록) 선택하기\n",
    "pd.DataFrame(데이터_프레임.iloc[2:4, 1:3])"
   ]
  },
  {
   "cell_type": "code",
   "execution_count": null,
   "metadata": {
    "colab": {
     "base_uri": "https://localhost:8080/",
     "height": 111
    },
    "executionInfo": {
     "elapsed": 42,
     "status": "ok",
     "timestamp": 1631897055295,
     "user": {
      "displayName": "박진수",
      "photoUrl": "https://lh3.googleusercontent.com/a-/AOh14Givt_n9gun5TCzjvq5ASwWr2b4FAUXE7mJI_JAt1g=s64",
      "userId": "04216559503906939593"
     },
     "user_tz": -540
    },
    "id": "cYkRndy9q17L",
    "outputId": "6f31d0e8-eec8-466d-8c5d-a4daa06bc760"
   },
   "outputs": [
    {
     "data": {
      "text/html": [
       "<div>\n",
       "<style scoped>\n",
       "    .dataframe tbody tr th:only-of-type {\n",
       "        vertical-align: middle;\n",
       "    }\n",
       "\n",
       "    .dataframe tbody tr th {\n",
       "        vertical-align: top;\n",
       "    }\n",
       "\n",
       "    .dataframe thead th {\n",
       "        text-align: right;\n",
       "    }\n",
       "</style>\n",
       "<table border=\"1\" class=\"dataframe\">\n",
       "  <thead>\n",
       "    <tr style=\"text-align: right;\">\n",
       "      <th></th>\n",
       "      <th>갑이네</th>\n",
       "      <th>병이네</th>\n",
       "    </tr>\n",
       "  </thead>\n",
       "  <tbody>\n",
       "    <tr>\n",
       "      <th>2021-01-03</th>\n",
       "      <td>-0.396650</td>\n",
       "      <td>0.074518</td>\n",
       "    </tr>\n",
       "    <tr>\n",
       "      <th>2021-01-05</th>\n",
       "      <td>0.259419</td>\n",
       "      <td>-0.130218</td>\n",
       "    </tr>\n",
       "  </tbody>\n",
       "</table>\n",
       "</div>"
      ],
      "text/plain": [
       "                 갑이네       병이네\n",
       "2021-01-03 -0.396650  0.074518\n",
       "2021-01-05  0.259419 -0.130218"
      ]
     },
     "execution_count": 40,
     "metadata": {},
     "output_type": "execute_result"
    }
   ],
   "source": [
    "# 띄엄띄엄 선택하기\n",
    "pd.DataFrame(데이터_프레임.iloc[[2,4],[0,2]])"
   ]
  },
  {
   "cell_type": "markdown",
   "metadata": {
    "id": "xf6NWY-8rflF"
   },
   "source": [
    "### 2.2.7 조건에 맞춰 선택하기\n"
   ]
  },
  {
   "cell_type": "code",
   "execution_count": null,
   "metadata": {
    "colab": {
     "base_uri": "https://localhost:8080/",
     "height": 204
    },
    "executionInfo": {
     "elapsed": 41,
     "status": "ok",
     "timestamp": 1631897055295,
     "user": {
      "displayName": "박진수",
      "photoUrl": "https://lh3.googleusercontent.com/a-/AOh14Givt_n9gun5TCzjvq5ASwWr2b4FAUXE7mJI_JAt1g=s64",
      "userId": "04216559503906939593"
     },
     "user_tz": -540
    },
    "id": "AEdgKLmas-1F",
    "outputId": "f69bc9ae-f938-4bcd-9f29-d60f8a2aed13"
   },
   "outputs": [
    {
     "data": {
      "text/html": [
       "<div>\n",
       "<style scoped>\n",
       "    .dataframe tbody tr th:only-of-type {\n",
       "        vertical-align: middle;\n",
       "    }\n",
       "\n",
       "    .dataframe tbody tr th {\n",
       "        vertical-align: top;\n",
       "    }\n",
       "\n",
       "    .dataframe thead th {\n",
       "        text-align: right;\n",
       "    }\n",
       "</style>\n",
       "<table border=\"1\" class=\"dataframe\">\n",
       "  <thead>\n",
       "    <tr style=\"text-align: right;\">\n",
       "      <th></th>\n",
       "      <th>갑이네</th>\n",
       "      <th>을이네</th>\n",
       "      <th>병이네</th>\n",
       "    </tr>\n",
       "  </thead>\n",
       "  <tbody>\n",
       "    <tr>\n",
       "      <th>2021-01-01</th>\n",
       "      <td>-1.485170</td>\n",
       "      <td>-0.260205</td>\n",
       "      <td>-1.424565</td>\n",
       "    </tr>\n",
       "    <tr>\n",
       "      <th>2021-01-02</th>\n",
       "      <td>-0.891399</td>\n",
       "      <td>0.761163</td>\n",
       "      <td>-0.698757</td>\n",
       "    </tr>\n",
       "    <tr>\n",
       "      <th>2021-01-03</th>\n",
       "      <td>-0.396650</td>\n",
       "      <td>1.243787</td>\n",
       "      <td>0.074518</td>\n",
       "    </tr>\n",
       "    <tr>\n",
       "      <th>2021-01-04</th>\n",
       "      <td>-0.322948</td>\n",
       "      <td>1.461472</td>\n",
       "      <td>1.241821</td>\n",
       "    </tr>\n",
       "    <tr>\n",
       "      <th>2021-01-05</th>\n",
       "      <td>0.259419</td>\n",
       "      <td>1.071688</td>\n",
       "      <td>-0.130218</td>\n",
       "    </tr>\n",
       "  </tbody>\n",
       "</table>\n",
       "</div>"
      ],
      "text/plain": [
       "                 갑이네       을이네       병이네\n",
       "2021-01-01 -1.485170 -0.260205 -1.424565\n",
       "2021-01-02 -0.891399  0.761163 -0.698757\n",
       "2021-01-03 -0.396650  1.243787  0.074518\n",
       "2021-01-04 -0.322948  1.461472  1.241821\n",
       "2021-01-05  0.259419  1.071688 -0.130218"
      ]
     },
     "execution_count": 41,
     "metadata": {},
     "output_type": "execute_result"
    }
   ],
   "source": [
    "# 먼저 원래의 데이터 프레임을 보자.\n",
    "데이터_프레임.head()"
   ]
  },
  {
   "cell_type": "code",
   "execution_count": null,
   "metadata": {
    "colab": {
     "base_uri": "https://localhost:8080/",
     "height": 204
    },
    "executionInfo": {
     "elapsed": 42,
     "status": "ok",
     "timestamp": 1631897055296,
     "user": {
      "displayName": "박진수",
      "photoUrl": "https://lh3.googleusercontent.com/a-/AOh14Givt_n9gun5TCzjvq5ASwWr2b4FAUXE7mJI_JAt1g=s64",
      "userId": "04216559503906939593"
     },
     "user_tz": -540
    },
    "id": "DSoP7YeXst5C",
    "outputId": "039ef2bf-e9bc-45b9-a4f9-bc158da72886"
   },
   "outputs": [
    {
     "data": {
      "text/html": [
       "<div>\n",
       "<style scoped>\n",
       "    .dataframe tbody tr th:only-of-type {\n",
       "        vertical-align: middle;\n",
       "    }\n",
       "\n",
       "    .dataframe tbody tr th {\n",
       "        vertical-align: top;\n",
       "    }\n",
       "\n",
       "    .dataframe thead th {\n",
       "        text-align: right;\n",
       "    }\n",
       "</style>\n",
       "<table border=\"1\" class=\"dataframe\">\n",
       "  <thead>\n",
       "    <tr style=\"text-align: right;\">\n",
       "      <th></th>\n",
       "      <th>갑이네</th>\n",
       "      <th>을이네</th>\n",
       "      <th>병이네</th>\n",
       "    </tr>\n",
       "  </thead>\n",
       "  <tbody>\n",
       "    <tr>\n",
       "      <th>2021-01-01</th>\n",
       "      <td>NaN</td>\n",
       "      <td>NaN</td>\n",
       "      <td>NaN</td>\n",
       "    </tr>\n",
       "    <tr>\n",
       "      <th>2021-01-02</th>\n",
       "      <td>NaN</td>\n",
       "      <td>0.761163</td>\n",
       "      <td>NaN</td>\n",
       "    </tr>\n",
       "    <tr>\n",
       "      <th>2021-01-03</th>\n",
       "      <td>NaN</td>\n",
       "      <td>1.243787</td>\n",
       "      <td>0.074518</td>\n",
       "    </tr>\n",
       "    <tr>\n",
       "      <th>2021-01-04</th>\n",
       "      <td>NaN</td>\n",
       "      <td>1.461472</td>\n",
       "      <td>1.241821</td>\n",
       "    </tr>\n",
       "    <tr>\n",
       "      <th>2021-01-05</th>\n",
       "      <td>0.259419</td>\n",
       "      <td>1.071688</td>\n",
       "      <td>NaN</td>\n",
       "    </tr>\n",
       "  </tbody>\n",
       "</table>\n",
       "</div>"
      ],
      "text/plain": [
       "                 갑이네       을이네       병이네\n",
       "2021-01-01       NaN       NaN       NaN\n",
       "2021-01-02       NaN  0.761163       NaN\n",
       "2021-01-03       NaN  1.243787  0.074518\n",
       "2021-01-04       NaN  1.461472  1.241821\n",
       "2021-01-05  0.259419  1.071688       NaN"
      ]
     },
     "execution_count": 42,
     "metadata": {},
     "output_type": "execute_result"
    }
   ],
   "source": [
    "# 이번에는 이 중에서 0보다 큰 값만 골라 본다.\n",
    "# 그러면 0 이하인 값은 결측 처리된다(NaN으로 표시).\n",
    "pd.DataFrame(데이터_프레임[데이터_프레임 > 0].head())"
   ]
  },
  {
   "cell_type": "code",
   "execution_count": null,
   "metadata": {
    "colab": {
     "base_uri": "https://localhost:8080/",
     "height": 173
    },
    "executionInfo": {
     "elapsed": 41,
     "status": "ok",
     "timestamp": 1631897055296,
     "user": {
      "displayName": "박진수",
      "photoUrl": "https://lh3.googleusercontent.com/a-/AOh14Givt_n9gun5TCzjvq5ASwWr2b4FAUXE7mJI_JAt1g=s64",
      "userId": "04216559503906939593"
     },
     "user_tz": -540
    },
    "id": "vhZopnYhtXKp",
    "outputId": "bbadac22-516a-40e1-b3e6-96b8c7ba795e"
   },
   "outputs": [
    {
     "data": {
      "text/html": [
       "<div>\n",
       "<style scoped>\n",
       "    .dataframe tbody tr th:only-of-type {\n",
       "        vertical-align: middle;\n",
       "    }\n",
       "\n",
       "    .dataframe tbody tr th {\n",
       "        vertical-align: top;\n",
       "    }\n",
       "\n",
       "    .dataframe thead th {\n",
       "        text-align: right;\n",
       "    }\n",
       "</style>\n",
       "<table border=\"1\" class=\"dataframe\">\n",
       "  <thead>\n",
       "    <tr style=\"text-align: right;\">\n",
       "      <th></th>\n",
       "      <th>갑이네</th>\n",
       "      <th>을이네</th>\n",
       "      <th>병이네</th>\n",
       "    </tr>\n",
       "  </thead>\n",
       "  <tbody>\n",
       "    <tr>\n",
       "      <th>2021-01-06</th>\n",
       "      <td>1.885784</td>\n",
       "      <td>-0.705359</td>\n",
       "      <td>0.335575</td>\n",
       "    </tr>\n",
       "    <tr>\n",
       "      <th>2021-01-10</th>\n",
       "      <td>1.609465</td>\n",
       "      <td>-1.323539</td>\n",
       "      <td>-1.015974</td>\n",
       "    </tr>\n",
       "    <tr>\n",
       "      <th>2021-01-14</th>\n",
       "      <td>1.137368</td>\n",
       "      <td>0.718743</td>\n",
       "      <td>-0.597138</td>\n",
       "    </tr>\n",
       "    <tr>\n",
       "      <th>2021-01-19</th>\n",
       "      <td>2.351578</td>\n",
       "      <td>-0.114442</td>\n",
       "      <td>0.205780</td>\n",
       "    </tr>\n",
       "  </tbody>\n",
       "</table>\n",
       "</div>"
      ],
      "text/plain": [
       "                 갑이네       을이네       병이네\n",
       "2021-01-06  1.885784 -0.705359  0.335575\n",
       "2021-01-10  1.609465 -1.323539 -1.015974\n",
       "2021-01-14  1.137368  0.718743 -0.597138\n",
       "2021-01-19  2.351578 -0.114442  0.205780"
      ]
     },
     "execution_count": 43,
     "metadata": {},
     "output_type": "execute_result"
    }
   ],
   "source": [
    "# 이번에는 '갑이네' 값이 1인상인 경우만 골라 보자.\n",
    "pd.DataFrame(데이터_프레임[데이터_프레임.갑이네 > 1].head())"
   ]
  },
  {
   "cell_type": "markdown",
   "metadata": {
    "id": "li16aR-oP3F2"
   },
   "source": [
    "## 2.3 데이터 변경(U)"
   ]
  },
  {
   "cell_type": "code",
   "execution_count": null,
   "metadata": {
    "colab": {
     "base_uri": "https://localhost:8080/",
     "height": 204
    },
    "executionInfo": {
     "elapsed": 41,
     "status": "ok",
     "timestamp": 1631897055297,
     "user": {
      "displayName": "박진수",
      "photoUrl": "https://lh3.googleusercontent.com/a-/AOh14Givt_n9gun5TCzjvq5ASwWr2b4FAUXE7mJI_JAt1g=s64",
      "userId": "04216559503906939593"
     },
     "user_tz": -540
    },
    "id": "CbyUex02kcin",
    "outputId": "3d394057-dab0-451a-ceb2-f9934fa4bca0"
   },
   "outputs": [
    {
     "data": {
      "text/html": [
       "<div>\n",
       "<style scoped>\n",
       "    .dataframe tbody tr th:only-of-type {\n",
       "        vertical-align: middle;\n",
       "    }\n",
       "\n",
       "    .dataframe tbody tr th {\n",
       "        vertical-align: top;\n",
       "    }\n",
       "\n",
       "    .dataframe thead th {\n",
       "        text-align: right;\n",
       "    }\n",
       "</style>\n",
       "<table border=\"1\" class=\"dataframe\">\n",
       "  <thead>\n",
       "    <tr style=\"text-align: right;\">\n",
       "      <th></th>\n",
       "      <th>갑이네</th>\n",
       "      <th>을이네</th>\n",
       "      <th>병이네</th>\n",
       "    </tr>\n",
       "  </thead>\n",
       "  <tbody>\n",
       "    <tr>\n",
       "      <th>2021-01-01</th>\n",
       "      <td>-1.485170</td>\n",
       "      <td>-0.260205</td>\n",
       "      <td>-1.424565</td>\n",
       "    </tr>\n",
       "    <tr>\n",
       "      <th>2021-01-02</th>\n",
       "      <td>-0.891399</td>\n",
       "      <td>0.000000</td>\n",
       "      <td>-0.698757</td>\n",
       "    </tr>\n",
       "    <tr>\n",
       "      <th>2021-01-03</th>\n",
       "      <td>-0.396650</td>\n",
       "      <td>1.243787</td>\n",
       "      <td>0.074518</td>\n",
       "    </tr>\n",
       "    <tr>\n",
       "      <th>2021-01-04</th>\n",
       "      <td>-0.322948</td>\n",
       "      <td>1.461472</td>\n",
       "      <td>1.241821</td>\n",
       "    </tr>\n",
       "    <tr>\n",
       "      <th>2021-01-05</th>\n",
       "      <td>0.259419</td>\n",
       "      <td>1.071688</td>\n",
       "      <td>-0.130218</td>\n",
       "    </tr>\n",
       "  </tbody>\n",
       "</table>\n",
       "</div>"
      ],
      "text/plain": [
       "                 갑이네       을이네       병이네\n",
       "2021-01-01 -1.485170 -0.260205 -1.424565\n",
       "2021-01-02 -0.891399  0.000000 -0.698757\n",
       "2021-01-03 -0.396650  1.243787  0.074518\n",
       "2021-01-04 -0.322948  1.461472  1.241821\n",
       "2021-01-05  0.259419  1.071688 -0.130218"
      ]
     },
     "execution_count": 44,
     "metadata": {},
     "output_type": "execute_result"
    }
   ],
   "source": [
    "# 성분 위치를 지정해 데이터 변경\n",
    "데이터_프레임.iat[1, 1] = 0        # iat을 사용해 행/열 번호를 지정\n",
    "데이터_프레임.head()"
   ]
  },
  {
   "cell_type": "code",
   "execution_count": null,
   "metadata": {
    "colab": {
     "base_uri": "https://localhost:8080/",
     "height": 204
    },
    "executionInfo": {
     "elapsed": 41,
     "status": "ok",
     "timestamp": 1631897055297,
     "user": {
      "displayName": "박진수",
      "photoUrl": "https://lh3.googleusercontent.com/a-/AOh14Givt_n9gun5TCzjvq5ASwWr2b4FAUXE7mJI_JAt1g=s64",
      "userId": "04216559503906939593"
     },
     "user_tz": -540
    },
    "id": "11zdJbURyJo6",
    "outputId": "8e024201-46f7-4ca8-bf45-b160f67cd551"
   },
   "outputs": [
    {
     "data": {
      "text/html": [
       "<div>\n",
       "<style scoped>\n",
       "    .dataframe tbody tr th:only-of-type {\n",
       "        vertical-align: middle;\n",
       "    }\n",
       "\n",
       "    .dataframe tbody tr th {\n",
       "        vertical-align: top;\n",
       "    }\n",
       "\n",
       "    .dataframe thead th {\n",
       "        text-align: right;\n",
       "    }\n",
       "</style>\n",
       "<table border=\"1\" class=\"dataframe\">\n",
       "  <thead>\n",
       "    <tr style=\"text-align: right;\">\n",
       "      <th></th>\n",
       "      <th>갑이네</th>\n",
       "      <th>을이네</th>\n",
       "      <th>병이네</th>\n",
       "    </tr>\n",
       "  </thead>\n",
       "  <tbody>\n",
       "    <tr>\n",
       "      <th>2021-01-01</th>\n",
       "      <td>0.000000</td>\n",
       "      <td>-0.260205</td>\n",
       "      <td>-1.424565</td>\n",
       "    </tr>\n",
       "    <tr>\n",
       "      <th>2021-01-02</th>\n",
       "      <td>-0.891399</td>\n",
       "      <td>0.000000</td>\n",
       "      <td>-0.698757</td>\n",
       "    </tr>\n",
       "    <tr>\n",
       "      <th>2021-01-03</th>\n",
       "      <td>-0.396650</td>\n",
       "      <td>1.243787</td>\n",
       "      <td>0.074518</td>\n",
       "    </tr>\n",
       "    <tr>\n",
       "      <th>2021-01-04</th>\n",
       "      <td>-0.322948</td>\n",
       "      <td>1.461472</td>\n",
       "      <td>1.241821</td>\n",
       "    </tr>\n",
       "    <tr>\n",
       "      <th>2021-01-05</th>\n",
       "      <td>0.259419</td>\n",
       "      <td>1.071688</td>\n",
       "      <td>-0.130218</td>\n",
       "    </tr>\n",
       "  </tbody>\n",
       "</table>\n",
       "</div>"
      ],
      "text/plain": [
       "                 갑이네       을이네       병이네\n",
       "2021-01-01  0.000000 -0.260205 -1.424565\n",
       "2021-01-02 -0.891399  0.000000 -0.698757\n",
       "2021-01-03 -0.396650  1.243787  0.074518\n",
       "2021-01-04 -0.322948  1.461472  1.241821\n",
       "2021-01-05  0.259419  1.071688 -0.130218"
      ]
     },
     "execution_count": 45,
     "metadata": {},
     "output_type": "execute_result"
    }
   ],
   "source": [
    "# 열 이름을 지정해 데이터 변경\n",
    "데이터_프레임.at['20210101', '갑이네'] = 0  # at을 사용해 행/열 제목을 지정\n",
    "데이터_프레임.head()"
   ]
  },
  {
   "cell_type": "code",
   "execution_count": null,
   "metadata": {
    "colab": {
     "base_uri": "https://localhost:8080/",
     "height": 204
    },
    "executionInfo": {
     "elapsed": 40,
     "status": "ok",
     "timestamp": 1631897055297,
     "user": {
      "displayName": "박진수",
      "photoUrl": "https://lh3.googleusercontent.com/a-/AOh14Givt_n9gun5TCzjvq5ASwWr2b4FAUXE7mJI_JAt1g=s64",
      "userId": "04216559503906939593"
     },
     "user_tz": -540
    },
    "id": "Rn2ceuVxjlCf",
    "outputId": "051d5557-02ea-4942-b138-2a6adf73145f"
   },
   "outputs": [
    {
     "data": {
      "text/html": [
       "<div>\n",
       "<style scoped>\n",
       "    .dataframe tbody tr th:only-of-type {\n",
       "        vertical-align: middle;\n",
       "    }\n",
       "\n",
       "    .dataframe tbody tr th {\n",
       "        vertical-align: top;\n",
       "    }\n",
       "\n",
       "    .dataframe thead th {\n",
       "        text-align: right;\n",
       "    }\n",
       "</style>\n",
       "<table border=\"1\" class=\"dataframe\">\n",
       "  <thead>\n",
       "    <tr style=\"text-align: right;\">\n",
       "      <th></th>\n",
       "      <th>갑이네</th>\n",
       "      <th>을이네</th>\n",
       "      <th>병이네</th>\n",
       "    </tr>\n",
       "  </thead>\n",
       "  <tbody>\n",
       "    <tr>\n",
       "      <th>2021-01-01</th>\n",
       "      <td>0.000000</td>\n",
       "      <td>-0.260205</td>\n",
       "      <td>0</td>\n",
       "    </tr>\n",
       "    <tr>\n",
       "      <th>2021-01-02</th>\n",
       "      <td>-0.891399</td>\n",
       "      <td>0.000000</td>\n",
       "      <td>0</td>\n",
       "    </tr>\n",
       "    <tr>\n",
       "      <th>2021-01-03</th>\n",
       "      <td>-0.396650</td>\n",
       "      <td>1.243787</td>\n",
       "      <td>0</td>\n",
       "    </tr>\n",
       "    <tr>\n",
       "      <th>2021-01-04</th>\n",
       "      <td>-0.322948</td>\n",
       "      <td>1.461472</td>\n",
       "      <td>0</td>\n",
       "    </tr>\n",
       "    <tr>\n",
       "      <th>2021-01-05</th>\n",
       "      <td>0.259419</td>\n",
       "      <td>1.071688</td>\n",
       "      <td>0</td>\n",
       "    </tr>\n",
       "  </tbody>\n",
       "</table>\n",
       "</div>"
      ],
      "text/plain": [
       "                 갑이네       을이네  병이네\n",
       "2021-01-01  0.000000 -0.260205    0\n",
       "2021-01-02 -0.891399  0.000000    0\n",
       "2021-01-03 -0.396650  1.243787    0\n",
       "2021-01-04 -0.322948  1.461472    0\n",
       "2021-01-05  0.259419  1.071688    0"
      ]
     },
     "execution_count": 46,
     "metadata": {},
     "output_type": "execute_result"
    }
   ],
   "source": [
    "# 여러 값을 한 번에 변경\n",
    "데이터_프레임.loc[:, '병이네'] = 0  # loc를 사용해 범위를 지정\n",
    "데이터_프레임.head()"
   ]
  },
  {
   "cell_type": "markdown",
   "metadata": {
    "id": "gjE0h99zQKHA"
   },
   "source": [
    "## 2.4 데이터 삭제(D)\n"
   ]
  },
  {
   "cell_type": "code",
   "execution_count": null,
   "metadata": {
    "colab": {
     "base_uri": "https://localhost:8080/",
     "height": 204
    },
    "executionInfo": {
     "elapsed": 40,
     "status": "ok",
     "timestamp": 1631897055298,
     "user": {
      "displayName": "박진수",
      "photoUrl": "https://lh3.googleusercontent.com/a-/AOh14Givt_n9gun5TCzjvq5ASwWr2b4FAUXE7mJI_JAt1g=s64",
      "userId": "04216559503906939593"
     },
     "user_tz": -540
    },
    "id": "FBfYCaTc0aX3",
    "outputId": "0f7a64fc-aa2a-4e7c-942a-e26f16bd6c1b"
   },
   "outputs": [
    {
     "data": {
      "text/html": [
       "<div>\n",
       "<style scoped>\n",
       "    .dataframe tbody tr th:only-of-type {\n",
       "        vertical-align: middle;\n",
       "    }\n",
       "\n",
       "    .dataframe tbody tr th {\n",
       "        vertical-align: top;\n",
       "    }\n",
       "\n",
       "    .dataframe thead th {\n",
       "        text-align: right;\n",
       "    }\n",
       "</style>\n",
       "<table border=\"1\" class=\"dataframe\">\n",
       "  <thead>\n",
       "    <tr style=\"text-align: right;\">\n",
       "      <th></th>\n",
       "      <th>갑이네</th>\n",
       "      <th>을이네</th>\n",
       "      <th>병이네</th>\n",
       "    </tr>\n",
       "  </thead>\n",
       "  <tbody>\n",
       "    <tr>\n",
       "      <th>2021-01-01</th>\n",
       "      <td>0.000000</td>\n",
       "      <td>-0.260205</td>\n",
       "      <td>0</td>\n",
       "    </tr>\n",
       "    <tr>\n",
       "      <th>2021-01-02</th>\n",
       "      <td>-0.891399</td>\n",
       "      <td>0.000000</td>\n",
       "      <td>0</td>\n",
       "    </tr>\n",
       "    <tr>\n",
       "      <th>2021-01-03</th>\n",
       "      <td>-0.396650</td>\n",
       "      <td>1.243787</td>\n",
       "      <td>0</td>\n",
       "    </tr>\n",
       "    <tr>\n",
       "      <th>2021-01-04</th>\n",
       "      <td>-0.322948</td>\n",
       "      <td>1.461472</td>\n",
       "      <td>0</td>\n",
       "    </tr>\n",
       "    <tr>\n",
       "      <th>2021-01-05</th>\n",
       "      <td>0.259419</td>\n",
       "      <td>1.071688</td>\n",
       "      <td>0</td>\n",
       "    </tr>\n",
       "  </tbody>\n",
       "</table>\n",
       "</div>"
      ],
      "text/plain": [
       "                 갑이네       을이네  병이네\n",
       "2021-01-01  0.000000 -0.260205    0\n",
       "2021-01-02 -0.891399  0.000000    0\n",
       "2021-01-03 -0.396650  1.243787    0\n",
       "2021-01-04 -0.322948  1.461472    0\n",
       "2021-01-05  0.259419  1.071688    0"
      ]
     },
     "execution_count": 47,
     "metadata": {},
     "output_type": "execute_result"
    }
   ],
   "source": [
    "# 먼저 현재 데이터 프레임 내용을 확인해 보자.\n",
    "데이터_프레임.head()"
   ]
  },
  {
   "cell_type": "code",
   "execution_count": null,
   "metadata": {
    "colab": {
     "base_uri": "https://localhost:8080/",
     "height": 204
    },
    "executionInfo": {
     "elapsed": 41,
     "status": "ok",
     "timestamp": 1631897055299,
     "user": {
      "displayName": "박진수",
      "photoUrl": "https://lh3.googleusercontent.com/a-/AOh14Givt_n9gun5TCzjvq5ASwWr2b4FAUXE7mJI_JAt1g=s64",
      "userId": "04216559503906939593"
     },
     "user_tz": -540
    },
    "id": "f8Mrtb_q0XGI",
    "outputId": "22132d33-bb30-40e8-dcd6-d0b548056cdf"
   },
   "outputs": [
    {
     "data": {
      "text/html": [
       "<div>\n",
       "<style scoped>\n",
       "    .dataframe tbody tr th:only-of-type {\n",
       "        vertical-align: middle;\n",
       "    }\n",
       "\n",
       "    .dataframe tbody tr th {\n",
       "        vertical-align: top;\n",
       "    }\n",
       "\n",
       "    .dataframe thead th {\n",
       "        text-align: right;\n",
       "    }\n",
       "</style>\n",
       "<table border=\"1\" class=\"dataframe\">\n",
       "  <thead>\n",
       "    <tr style=\"text-align: right;\">\n",
       "      <th></th>\n",
       "      <th>갑이네</th>\n",
       "      <th>을이네</th>\n",
       "    </tr>\n",
       "  </thead>\n",
       "  <tbody>\n",
       "    <tr>\n",
       "      <th>2021-01-01</th>\n",
       "      <td>0.000000</td>\n",
       "      <td>-0.260205</td>\n",
       "    </tr>\n",
       "    <tr>\n",
       "      <th>2021-01-02</th>\n",
       "      <td>-0.891399</td>\n",
       "      <td>0.000000</td>\n",
       "    </tr>\n",
       "    <tr>\n",
       "      <th>2021-01-03</th>\n",
       "      <td>-0.396650</td>\n",
       "      <td>1.243787</td>\n",
       "    </tr>\n",
       "    <tr>\n",
       "      <th>2021-01-04</th>\n",
       "      <td>-0.322948</td>\n",
       "      <td>1.461472</td>\n",
       "    </tr>\n",
       "    <tr>\n",
       "      <th>2021-01-05</th>\n",
       "      <td>0.259419</td>\n",
       "      <td>1.071688</td>\n",
       "    </tr>\n",
       "  </tbody>\n",
       "</table>\n",
       "</div>"
      ],
      "text/plain": [
       "                 갑이네       을이네\n",
       "2021-01-01  0.000000 -0.260205\n",
       "2021-01-02 -0.891399  0.000000\n",
       "2021-01-03 -0.396650  1.243787\n",
       "2021-01-04 -0.322948  1.461472\n",
       "2021-01-05  0.259419  1.071688"
      ]
     },
     "execution_count": 48,
     "metadata": {},
     "output_type": "execute_result"
    }
   ],
   "source": [
    "# 열 제목을 사용해 삭제하기 \n",
    "데이터_프레임 = 데이터_프레임.drop('병이네', axis = 1)  # 열 기준\n",
    "데이터_프레임.head()"
   ]
  },
  {
   "cell_type": "code",
   "execution_count": null,
   "metadata": {
    "colab": {
     "base_uri": "https://localhost:8080/",
     "height": 204
    },
    "executionInfo": {
     "elapsed": 41,
     "status": "ok",
     "timestamp": 1631897055300,
     "user": {
      "displayName": "박진수",
      "photoUrl": "https://lh3.googleusercontent.com/a-/AOh14Givt_n9gun5TCzjvq5ASwWr2b4FAUXE7mJI_JAt1g=s64",
      "userId": "04216559503906939593"
     },
     "user_tz": -540
    },
    "id": "usSLyJyZ1m23",
    "outputId": "0cbcb0ad-1189-4c0e-958a-a5db9547530a"
   },
   "outputs": [
    {
     "data": {
      "text/html": [
       "<div>\n",
       "<style scoped>\n",
       "    .dataframe tbody tr th:only-of-type {\n",
       "        vertical-align: middle;\n",
       "    }\n",
       "\n",
       "    .dataframe tbody tr th {\n",
       "        vertical-align: top;\n",
       "    }\n",
       "\n",
       "    .dataframe thead th {\n",
       "        text-align: right;\n",
       "    }\n",
       "</style>\n",
       "<table border=\"1\" class=\"dataframe\">\n",
       "  <thead>\n",
       "    <tr style=\"text-align: right;\">\n",
       "      <th></th>\n",
       "      <th>갑이네</th>\n",
       "      <th>을이네</th>\n",
       "    </tr>\n",
       "  </thead>\n",
       "  <tbody>\n",
       "    <tr>\n",
       "      <th>2021-01-02</th>\n",
       "      <td>-0.891399</td>\n",
       "      <td>0.000000</td>\n",
       "    </tr>\n",
       "    <tr>\n",
       "      <th>2021-01-03</th>\n",
       "      <td>-0.396650</td>\n",
       "      <td>1.243787</td>\n",
       "    </tr>\n",
       "    <tr>\n",
       "      <th>2021-01-04</th>\n",
       "      <td>-0.322948</td>\n",
       "      <td>1.461472</td>\n",
       "    </tr>\n",
       "    <tr>\n",
       "      <th>2021-01-05</th>\n",
       "      <td>0.259419</td>\n",
       "      <td>1.071688</td>\n",
       "    </tr>\n",
       "    <tr>\n",
       "      <th>2021-01-06</th>\n",
       "      <td>1.885784</td>\n",
       "      <td>-0.705359</td>\n",
       "    </tr>\n",
       "  </tbody>\n",
       "</table>\n",
       "</div>"
      ],
      "text/plain": [
       "                 갑이네       을이네\n",
       "2021-01-02 -0.891399  0.000000\n",
       "2021-01-03 -0.396650  1.243787\n",
       "2021-01-04 -0.322948  1.461472\n",
       "2021-01-05  0.259419  1.071688\n",
       "2021-01-06  1.885784 -0.705359"
      ]
     },
     "execution_count": 49,
     "metadata": {},
     "output_type": "execute_result"
    }
   ],
   "source": [
    "# 행 번호를 지정해 삭제하기 \n",
    "데이터_프레임 = 데이터_프레임.drop([데이터_프레임.index[0]])  # 행 기준\n",
    "데이터_프레임.head()"
   ]
  },
  {
   "cell_type": "markdown",
   "metadata": {
    "id": "mSe60eVTz1bY"
   },
   "source": [
    "## 2.5 데이터 추가(A)\n",
    "데이터를 추가하는 일은 데이터를 생성(create)하는 일에 속합니다."
   ]
  },
  {
   "cell_type": "code",
   "execution_count": null,
   "metadata": {
    "colab": {
     "base_uri": "https://localhost:8080/",
     "height": 204
    },
    "executionInfo": {
     "elapsed": 43,
     "status": "ok",
     "timestamp": 1631897055302,
     "user": {
      "displayName": "박진수",
      "photoUrl": "https://lh3.googleusercontent.com/a-/AOh14Givt_n9gun5TCzjvq5ASwWr2b4FAUXE7mJI_JAt1g=s64",
      "userId": "04216559503906939593"
     },
     "user_tz": -540
    },
    "id": "_E9Pc6Bv3m39",
    "outputId": "2c8fd95d-7f05-4d62-be70-76fd9c28b9d4"
   },
   "outputs": [
    {
     "data": {
      "text/html": [
       "<div>\n",
       "<style scoped>\n",
       "    .dataframe tbody tr th:only-of-type {\n",
       "        vertical-align: middle;\n",
       "    }\n",
       "\n",
       "    .dataframe tbody tr th {\n",
       "        vertical-align: top;\n",
       "    }\n",
       "\n",
       "    .dataframe thead th {\n",
       "        text-align: right;\n",
       "    }\n",
       "</style>\n",
       "<table border=\"1\" class=\"dataframe\">\n",
       "  <thead>\n",
       "    <tr style=\"text-align: right;\">\n",
       "      <th></th>\n",
       "      <th>갑이네</th>\n",
       "      <th>을이네</th>\n",
       "    </tr>\n",
       "  </thead>\n",
       "  <tbody>\n",
       "    <tr>\n",
       "      <th>2021-01-02</th>\n",
       "      <td>-0.891399</td>\n",
       "      <td>0.000000</td>\n",
       "    </tr>\n",
       "    <tr>\n",
       "      <th>2021-01-03</th>\n",
       "      <td>-0.396650</td>\n",
       "      <td>1.243787</td>\n",
       "    </tr>\n",
       "    <tr>\n",
       "      <th>2021-01-04</th>\n",
       "      <td>-0.322948</td>\n",
       "      <td>1.461472</td>\n",
       "    </tr>\n",
       "    <tr>\n",
       "      <th>2021-01-05</th>\n",
       "      <td>0.259419</td>\n",
       "      <td>1.071688</td>\n",
       "    </tr>\n",
       "    <tr>\n",
       "      <th>2021-01-06</th>\n",
       "      <td>1.885784</td>\n",
       "      <td>-0.705359</td>\n",
       "    </tr>\n",
       "  </tbody>\n",
       "</table>\n",
       "</div>"
      ],
      "text/plain": [
       "                 갑이네       을이네\n",
       "2021-01-02 -0.891399  0.000000\n",
       "2021-01-03 -0.396650  1.243787\n",
       "2021-01-04 -0.322948  1.461472\n",
       "2021-01-05  0.259419  1.071688\n",
       "2021-01-06  1.885784 -0.705359"
      ]
     },
     "execution_count": 50,
     "metadata": {},
     "output_type": "execute_result"
    }
   ],
   "source": [
    "# 먼저 현재 데이터 프레임 내용을 확인해 보자.\n",
    "데이터_프레임.head()"
   ]
  },
  {
   "cell_type": "code",
   "execution_count": null,
   "metadata": {
    "colab": {
     "base_uri": "https://localhost:8080/",
     "height": 204
    },
    "executionInfo": {
     "elapsed": 44,
     "status": "ok",
     "timestamp": 1631897055304,
     "user": {
      "displayName": "박진수",
      "photoUrl": "https://lh3.googleusercontent.com/a-/AOh14Givt_n9gun5TCzjvq5ASwWr2b4FAUXE7mJI_JAt1g=s64",
      "userId": "04216559503906939593"
     },
     "user_tz": -540
    },
    "id": "i599GvXr3VMF",
    "outputId": "21845b61-27bf-44b0-d010-bd6cc4a02a5d"
   },
   "outputs": [
    {
     "data": {
      "text/html": [
       "<div>\n",
       "<style scoped>\n",
       "    .dataframe tbody tr th:only-of-type {\n",
       "        vertical-align: middle;\n",
       "    }\n",
       "\n",
       "    .dataframe tbody tr th {\n",
       "        vertical-align: top;\n",
       "    }\n",
       "\n",
       "    .dataframe thead th {\n",
       "        text-align: right;\n",
       "    }\n",
       "</style>\n",
       "<table border=\"1\" class=\"dataframe\">\n",
       "  <thead>\n",
       "    <tr style=\"text-align: right;\">\n",
       "      <th></th>\n",
       "      <th>갑이네</th>\n",
       "      <th>을이네</th>\n",
       "      <th>정이네</th>\n",
       "    </tr>\n",
       "  </thead>\n",
       "  <tbody>\n",
       "    <tr>\n",
       "      <th>2021-01-02</th>\n",
       "      <td>-0.891399</td>\n",
       "      <td>0.000000</td>\n",
       "      <td>0.072284</td>\n",
       "    </tr>\n",
       "    <tr>\n",
       "      <th>2021-01-03</th>\n",
       "      <td>-0.396650</td>\n",
       "      <td>1.243787</td>\n",
       "      <td>-1.100239</td>\n",
       "    </tr>\n",
       "    <tr>\n",
       "      <th>2021-01-04</th>\n",
       "      <td>-0.322948</td>\n",
       "      <td>1.461472</td>\n",
       "      <td>-0.911431</td>\n",
       "    </tr>\n",
       "    <tr>\n",
       "      <th>2021-01-05</th>\n",
       "      <td>0.259419</td>\n",
       "      <td>1.071688</td>\n",
       "      <td>1.163676</td>\n",
       "    </tr>\n",
       "    <tr>\n",
       "      <th>2021-01-06</th>\n",
       "      <td>1.885784</td>\n",
       "      <td>-0.705359</td>\n",
       "      <td>-0.258884</td>\n",
       "    </tr>\n",
       "  </tbody>\n",
       "</table>\n",
       "</div>"
      ],
      "text/plain": [
       "                 갑이네       을이네       정이네\n",
       "2021-01-02 -0.891399  0.000000  0.072284\n",
       "2021-01-03 -0.396650  1.243787 -1.100239\n",
       "2021-01-04 -0.322948  1.461472 -0.911431\n",
       "2021-01-05  0.259419  1.071688  1.163676\n",
       "2021-01-06  1.885784 -0.705359 -0.258884"
      ]
     },
     "execution_count": 51,
     "metadata": {},
     "output_type": "execute_result"
    }
   ],
   "source": [
    "# 새로운 열을 추가하기\n",
    "데이터_프레임['정이네'] = np.random.randn(19) # 행 개수에 맞춰 준다.\n",
    "데이터_프레임.head()"
   ]
  },
  {
   "cell_type": "markdown",
   "metadata": {
    "id": "GPSHJWHURRmG"
   },
   "source": [
    "# 3. 통계 기능"
   ]
  },
  {
   "cell_type": "markdown",
   "metadata": {
    "id": "pqD3Ze_MfsL1"
   },
   "source": [
    "## 3.1 기초 통계 정보를 한 번에 보기 \n"
   ]
  },
  {
   "cell_type": "code",
   "execution_count": null,
   "metadata": {
    "colab": {
     "base_uri": "https://localhost:8080/",
     "height": 297
    },
    "executionInfo": {
     "elapsed": 44,
     "status": "ok",
     "timestamp": 1631897055305,
     "user": {
      "displayName": "박진수",
      "photoUrl": "https://lh3.googleusercontent.com/a-/AOh14Givt_n9gun5TCzjvq5ASwWr2b4FAUXE7mJI_JAt1g=s64",
      "userId": "04216559503906939593"
     },
     "user_tz": -540
    },
    "id": "NsOdtcSof0MY",
    "outputId": "844ff21f-8161-45f9-bd37-d82c71b3e611"
   },
   "outputs": [
    {
     "data": {
      "text/html": [
       "<div>\n",
       "<style scoped>\n",
       "    .dataframe tbody tr th:only-of-type {\n",
       "        vertical-align: middle;\n",
       "    }\n",
       "\n",
       "    .dataframe tbody tr th {\n",
       "        vertical-align: top;\n",
       "    }\n",
       "\n",
       "    .dataframe thead th {\n",
       "        text-align: right;\n",
       "    }\n",
       "</style>\n",
       "<table border=\"1\" class=\"dataframe\">\n",
       "  <thead>\n",
       "    <tr style=\"text-align: right;\">\n",
       "      <th></th>\n",
       "      <th>갑이네</th>\n",
       "      <th>을이네</th>\n",
       "      <th>정이네</th>\n",
       "    </tr>\n",
       "  </thead>\n",
       "  <tbody>\n",
       "    <tr>\n",
       "      <th>count</th>\n",
       "      <td>19.000000</td>\n",
       "      <td>19.000000</td>\n",
       "      <td>19.000000</td>\n",
       "    </tr>\n",
       "    <tr>\n",
       "      <th>mean</th>\n",
       "      <td>-0.119213</td>\n",
       "      <td>0.419819</td>\n",
       "      <td>0.227215</td>\n",
       "    </tr>\n",
       "    <tr>\n",
       "      <th>std</th>\n",
       "      <td>1.289229</td>\n",
       "      <td>0.992250</td>\n",
       "      <td>1.030693</td>\n",
       "    </tr>\n",
       "    <tr>\n",
       "      <th>min</th>\n",
       "      <td>-2.414536</td>\n",
       "      <td>-1.323539</td>\n",
       "      <td>-1.124825</td>\n",
       "    </tr>\n",
       "    <tr>\n",
       "      <th>25%</th>\n",
       "      <td>-0.980722</td>\n",
       "      <td>-0.369273</td>\n",
       "      <td>-0.358779</td>\n",
       "    </tr>\n",
       "    <tr>\n",
       "      <th>50%</th>\n",
       "      <td>-0.322948</td>\n",
       "      <td>0.718743</td>\n",
       "      <td>0.072284</td>\n",
       "    </tr>\n",
       "    <tr>\n",
       "      <th>75%</th>\n",
       "      <td>0.772518</td>\n",
       "      <td>1.298888</td>\n",
       "      <td>0.576400</td>\n",
       "    </tr>\n",
       "    <tr>\n",
       "      <th>max</th>\n",
       "      <td>2.351578</td>\n",
       "      <td>1.679736</td>\n",
       "      <td>3.069374</td>\n",
       "    </tr>\n",
       "  </tbody>\n",
       "</table>\n",
       "</div>"
      ],
      "text/plain": [
       "             갑이네        을이네        정이네\n",
       "count  19.000000  19.000000  19.000000\n",
       "mean   -0.119213   0.419819   0.227215\n",
       "std     1.289229   0.992250   1.030693\n",
       "min    -2.414536  -1.323539  -1.124825\n",
       "25%    -0.980722  -0.369273  -0.358779\n",
       "50%    -0.322948   0.718743   0.072284\n",
       "75%     0.772518   1.298888   0.576400\n",
       "max     2.351578   1.679736   3.069374"
      ]
     },
     "execution_count": 52,
     "metadata": {},
     "output_type": "execute_result"
    }
   ],
   "source": [
    "# 간단한 통계 정보 알아내기\n",
    "데이터_프레임.describe()"
   ]
  },
  {
   "cell_type": "markdown",
   "metadata": {
    "id": "kiEtm8JPgPEa"
   },
   "source": [
    "이 출력 내용의 각 의미는 이렇습니다.\n",
    "\n",
    "* count: 빈도(출현횟수)\n",
    "* mean: 평균\n",
    "* std: 표준편차\n",
    "* min: 최솟값\n",
    "* 25%: 1/4분위 수\n",
    "* 50%: 2/4분위 수\n",
    "* 75%: 3/4분위 수\n",
    "* max: 최댓값"
   ]
  },
  {
   "cell_type": "markdown",
   "metadata": {
    "id": "vxk_p_w5hYxq"
   },
   "source": [
    "## 3.2 통계 정보를 개별적으로 보기\n"
   ]
  },
  {
   "cell_type": "code",
   "execution_count": null,
   "metadata": {
    "colab": {
     "base_uri": "https://localhost:8080/",
     "height": 142
    },
    "executionInfo": {
     "elapsed": 45,
     "status": "ok",
     "timestamp": 1631897055306,
     "user": {
      "displayName": "박진수",
      "photoUrl": "https://lh3.googleusercontent.com/a-/AOh14Givt_n9gun5TCzjvq5ASwWr2b4FAUXE7mJI_JAt1g=s64",
      "userId": "04216559503906939593"
     },
     "user_tz": -540
    },
    "id": "Fqo8-QKlguaV",
    "outputId": "f4713eaa-26c3-459a-841f-853e2b1b6f6c"
   },
   "outputs": [
    {
     "data": {
      "text/html": [
       "<div>\n",
       "<style scoped>\n",
       "    .dataframe tbody tr th:only-of-type {\n",
       "        vertical-align: middle;\n",
       "    }\n",
       "\n",
       "    .dataframe tbody tr th {\n",
       "        vertical-align: top;\n",
       "    }\n",
       "\n",
       "    .dataframe thead th {\n",
       "        text-align: right;\n",
       "    }\n",
       "</style>\n",
       "<table border=\"1\" class=\"dataframe\">\n",
       "  <thead>\n",
       "    <tr style=\"text-align: right;\">\n",
       "      <th></th>\n",
       "      <th>0</th>\n",
       "    </tr>\n",
       "  </thead>\n",
       "  <tbody>\n",
       "    <tr>\n",
       "      <th>갑이네</th>\n",
       "      <td>-0.119213</td>\n",
       "    </tr>\n",
       "    <tr>\n",
       "      <th>을이네</th>\n",
       "      <td>0.419819</td>\n",
       "    </tr>\n",
       "    <tr>\n",
       "      <th>정이네</th>\n",
       "      <td>0.227215</td>\n",
       "    </tr>\n",
       "  </tbody>\n",
       "</table>\n",
       "</div>"
      ],
      "text/plain": [
       "            0\n",
       "갑이네 -0.119213\n",
       "을이네  0.419819\n",
       "정이네  0.227215"
      ]
     },
     "execution_count": 53,
     "metadata": {},
     "output_type": "execute_result"
    }
   ],
   "source": [
    "# 평균 구하기\n",
    "pd.DataFrame(데이터_프레임.mean())"
   ]
  },
  {
   "cell_type": "markdown",
   "metadata": {
    "id": "GZqJQuvRTNdr"
   },
   "source": [
    "# 4. 데이터 입출력 기능"
   ]
  },
  {
   "cell_type": "markdown",
   "metadata": {
    "id": "jsMlVh6mu5zw"
   },
   "source": [
    "## 4.1 코랩 드라이브 마운트"
   ]
  },
  {
   "cell_type": "code",
   "execution_count": null,
   "metadata": {
    "colab": {
     "base_uri": "https://localhost:8080/"
    },
    "executionInfo": {
     "elapsed": 30263,
     "status": "ok",
     "timestamp": 1631897085525,
     "user": {
      "displayName": "박진수",
      "photoUrl": "https://lh3.googleusercontent.com/a-/AOh14Givt_n9gun5TCzjvq5ASwWr2b4FAUXE7mJI_JAt1g=s64",
      "userId": "04216559503906939593"
     },
     "user_tz": -540
    },
    "id": "H3sNhPpN1X5z",
    "outputId": "d624592e-630c-404e-e50d-a8dd7c7d2418"
   },
   "outputs": [
    {
     "name": "stdout",
     "output_type": "stream",
     "text": [
      "Mounted at /content/gdrive\n"
     ]
    }
   ],
   "source": [
    "# 코랩에서 드라이브를 마운트한다.\n",
    "from google.colab import drive\n",
    "drive.mount('/content/gdrive')"
   ]
  },
  {
   "cell_type": "code",
   "execution_count": null,
   "metadata": {
    "colab": {
     "base_uri": "https://localhost:8080/"
    },
    "executionInfo": {
     "elapsed": 15,
     "status": "ok",
     "timestamp": 1631897085526,
     "user": {
      "displayName": "박진수",
      "photoUrl": "https://lh3.googleusercontent.com/a-/AOh14Givt_n9gun5TCzjvq5ASwWr2b4FAUXE7mJI_JAt1g=s64",
      "userId": "04216559503906939593"
     },
     "user_tz": -540
    },
    "id": "0Blgh7Zu5T2g",
    "outputId": "620754f0-0913-41b5-d7a5-83dae1b7297f"
   },
   "outputs": [
    {
     "name": "stdout",
     "output_type": "stream",
     "text": [
      "/content/gdrive/My Drive\n"
     ]
    }
   ],
   "source": [
    "%cd /content/gdrive/My Drive  "
   ]
  },
  {
   "cell_type": "markdown",
   "metadata": {
    "id": "K65wr6Uzu_ay"
   },
   "source": [
    "## 4.2 데이터 저장\n"
   ]
  },
  {
   "cell_type": "code",
   "execution_count": null,
   "metadata": {
    "id": "xxWqXXiivZdD"
   },
   "outputs": [],
   "source": [
    "# 먼저 파일을 저장해 보자.\n",
    "데이터_프레임.to_csv('데이터_프레임.csv')\n",
    "데이터_프레임.to_excel('데이터_프레임.xlsx', sheet_name='데이터_프레임')"
   ]
  },
  {
   "cell_type": "code",
   "execution_count": null,
   "metadata": {
    "id": "IjoU8abupXLN"
   },
   "outputs": [],
   "source": [
    "데이터_프레임.to_excel"
   ]
  },
  {
   "cell_type": "markdown",
   "metadata": {
    "id": "ZaU5bd8NwKum"
   },
   "source": [
    "파일을 저장했다면 MyDrive로 가서 파일이 있는지 확인해 보자"
   ]
  },
  {
   "cell_type": "code",
   "execution_count": null,
   "metadata": {
    "colab": {
     "base_uri": "https://localhost:8080/",
     "height": 204
    },
    "executionInfo": {
     "elapsed": 35,
     "status": "ok",
     "timestamp": 1631897086405,
     "user": {
      "displayName": "박진수",
      "photoUrl": "https://lh3.googleusercontent.com/a-/AOh14Givt_n9gun5TCzjvq5ASwWr2b4FAUXE7mJI_JAt1g=s64",
      "userId": "04216559503906939593"
     },
     "user_tz": -540
    },
    "id": "aVn_rAuiwBaX",
    "outputId": "98ba151a-8d2d-4018-eb28-944e068f048a"
   },
   "outputs": [
    {
     "data": {
      "text/html": [
       "<div>\n",
       "<style scoped>\n",
       "    .dataframe tbody tr th:only-of-type {\n",
       "        vertical-align: middle;\n",
       "    }\n",
       "\n",
       "    .dataframe tbody tr th {\n",
       "        vertical-align: top;\n",
       "    }\n",
       "\n",
       "    .dataframe thead th {\n",
       "        text-align: right;\n",
       "    }\n",
       "</style>\n",
       "<table border=\"1\" class=\"dataframe\">\n",
       "  <thead>\n",
       "    <tr style=\"text-align: right;\">\n",
       "      <th></th>\n",
       "      <th>Unnamed: 0</th>\n",
       "      <th>갑이네</th>\n",
       "      <th>을이네</th>\n",
       "      <th>정이네</th>\n",
       "    </tr>\n",
       "  </thead>\n",
       "  <tbody>\n",
       "    <tr>\n",
       "      <th>0</th>\n",
       "      <td>2021-01-02</td>\n",
       "      <td>-0.891399</td>\n",
       "      <td>0.000000</td>\n",
       "      <td>0.072284</td>\n",
       "    </tr>\n",
       "    <tr>\n",
       "      <th>1</th>\n",
       "      <td>2021-01-03</td>\n",
       "      <td>-0.396650</td>\n",
       "      <td>1.243787</td>\n",
       "      <td>-1.100239</td>\n",
       "    </tr>\n",
       "    <tr>\n",
       "      <th>2</th>\n",
       "      <td>2021-01-04</td>\n",
       "      <td>-0.322948</td>\n",
       "      <td>1.461472</td>\n",
       "      <td>-0.911431</td>\n",
       "    </tr>\n",
       "    <tr>\n",
       "      <th>3</th>\n",
       "      <td>2021-01-05</td>\n",
       "      <td>0.259419</td>\n",
       "      <td>1.071688</td>\n",
       "      <td>1.163676</td>\n",
       "    </tr>\n",
       "    <tr>\n",
       "      <th>4</th>\n",
       "      <td>2021-01-06</td>\n",
       "      <td>1.885784</td>\n",
       "      <td>-0.705359</td>\n",
       "      <td>-0.258884</td>\n",
       "    </tr>\n",
       "  </tbody>\n",
       "</table>\n",
       "</div>"
      ],
      "text/plain": [
       "   Unnamed: 0       갑이네       을이네       정이네\n",
       "0  2021-01-02 -0.891399  0.000000  0.072284\n",
       "1  2021-01-03 -0.396650  1.243787 -1.100239\n",
       "2  2021-01-04 -0.322948  1.461472 -0.911431\n",
       "3  2021-01-05  0.259419  1.071688  1.163676\n",
       "4  2021-01-06  1.885784 -0.705359 -0.258884"
      ]
     },
     "execution_count": 57,
     "metadata": {},
     "output_type": "execute_result"
    }
   ],
   "source": [
    "# 이번에는 csv 파일을 읽어와 다른 변수에 저장해 보자. \n",
    "csv_파일 = pd.read_csv('데이터_프레임.csv')\n",
    "pd.DataFrame(csv_파일).head()"
   ]
  },
  {
   "cell_type": "code",
   "execution_count": null,
   "metadata": {
    "colab": {
     "base_uri": "https://localhost:8080/",
     "height": 638
    },
    "executionInfo": {
     "elapsed": 36,
     "status": "ok",
     "timestamp": 1631897086407,
     "user": {
      "displayName": "박진수",
      "photoUrl": "https://lh3.googleusercontent.com/a-/AOh14Givt_n9gun5TCzjvq5ASwWr2b4FAUXE7mJI_JAt1g=s64",
      "userId": "04216559503906939593"
     },
     "user_tz": -540
    },
    "id": "4yggshJww8kP",
    "outputId": "6664c66f-2804-4272-f2bc-def0ed08a3ce"
   },
   "outputs": [
    {
     "data": {
      "text/html": [
       "<div>\n",
       "<style scoped>\n",
       "    .dataframe tbody tr th:only-of-type {\n",
       "        vertical-align: middle;\n",
       "    }\n",
       "\n",
       "    .dataframe tbody tr th {\n",
       "        vertical-align: top;\n",
       "    }\n",
       "\n",
       "    .dataframe thead th {\n",
       "        text-align: right;\n",
       "    }\n",
       "</style>\n",
       "<table border=\"1\" class=\"dataframe\">\n",
       "  <thead>\n",
       "    <tr style=\"text-align: right;\">\n",
       "      <th></th>\n",
       "      <th>Unnamed: 0</th>\n",
       "      <th>갑이네</th>\n",
       "      <th>을이네</th>\n",
       "      <th>정이네</th>\n",
       "    </tr>\n",
       "  </thead>\n",
       "  <tbody>\n",
       "    <tr>\n",
       "      <th>0</th>\n",
       "      <td>2021-01-02</td>\n",
       "      <td>-0.891399</td>\n",
       "      <td>0.000000</td>\n",
       "      <td>0.072284</td>\n",
       "    </tr>\n",
       "    <tr>\n",
       "      <th>1</th>\n",
       "      <td>2021-01-03</td>\n",
       "      <td>-0.396650</td>\n",
       "      <td>1.243787</td>\n",
       "      <td>-1.100239</td>\n",
       "    </tr>\n",
       "    <tr>\n",
       "      <th>2</th>\n",
       "      <td>2021-01-04</td>\n",
       "      <td>-0.322948</td>\n",
       "      <td>1.461472</td>\n",
       "      <td>-0.911431</td>\n",
       "    </tr>\n",
       "    <tr>\n",
       "      <th>3</th>\n",
       "      <td>2021-01-05</td>\n",
       "      <td>0.259419</td>\n",
       "      <td>1.071688</td>\n",
       "      <td>1.163676</td>\n",
       "    </tr>\n",
       "    <tr>\n",
       "      <th>4</th>\n",
       "      <td>2021-01-06</td>\n",
       "      <td>1.885784</td>\n",
       "      <td>-0.705359</td>\n",
       "      <td>-0.258884</td>\n",
       "    </tr>\n",
       "    <tr>\n",
       "      <th>5</th>\n",
       "      <td>2021-01-07</td>\n",
       "      <td>0.568752</td>\n",
       "      <td>-0.916734</td>\n",
       "      <td>3.069374</td>\n",
       "    </tr>\n",
       "    <tr>\n",
       "      <th>6</th>\n",
       "      <td>2021-01-08</td>\n",
       "      <td>-1.918972</td>\n",
       "      <td>1.679736</td>\n",
       "      <td>-0.470432</td>\n",
       "    </tr>\n",
       "    <tr>\n",
       "      <th>7</th>\n",
       "      <td>2021-01-09</td>\n",
       "      <td>-1.168810</td>\n",
       "      <td>-0.301069</td>\n",
       "      <td>1.610179</td>\n",
       "    </tr>\n",
       "    <tr>\n",
       "      <th>8</th>\n",
       "      <td>2021-01-10</td>\n",
       "      <td>1.609465</td>\n",
       "      <td>-1.323539</td>\n",
       "      <td>0.471421</td>\n",
       "    </tr>\n",
       "    <tr>\n",
       "      <th>9</th>\n",
       "      <td>2021-01-11</td>\n",
       "      <td>-0.859412</td>\n",
       "      <td>1.091355</td>\n",
       "      <td>0.606038</td>\n",
       "    </tr>\n",
       "    <tr>\n",
       "      <th>10</th>\n",
       "      <td>2021-01-12</td>\n",
       "      <td>0.167719</td>\n",
       "      <td>1.658327</td>\n",
       "      <td>-0.397210</td>\n",
       "    </tr>\n",
       "    <tr>\n",
       "      <th>11</th>\n",
       "      <td>2021-01-13</td>\n",
       "      <td>-1.070045</td>\n",
       "      <td>0.012548</td>\n",
       "      <td>-0.211773</td>\n",
       "    </tr>\n",
       "    <tr>\n",
       "      <th>12</th>\n",
       "      <td>2021-01-14</td>\n",
       "      <td>1.137368</td>\n",
       "      <td>0.718743</td>\n",
       "      <td>-1.124825</td>\n",
       "    </tr>\n",
       "    <tr>\n",
       "      <th>13</th>\n",
       "      <td>2021-01-15</td>\n",
       "      <td>-0.764962</td>\n",
       "      <td>-0.835288</td>\n",
       "      <td>0.546762</td>\n",
       "    </tr>\n",
       "    <tr>\n",
       "      <th>14</th>\n",
       "      <td>2021-01-16</td>\n",
       "      <td>-0.236132</td>\n",
       "      <td>1.353989</td>\n",
       "      <td>1.274149</td>\n",
       "    </tr>\n",
       "    <tr>\n",
       "      <th>15</th>\n",
       "      <td>2021-01-17</td>\n",
       "      <td>0.976284</td>\n",
       "      <td>0.737673</td>\n",
       "      <td>0.471424</td>\n",
       "    </tr>\n",
       "    <tr>\n",
       "      <th>16</th>\n",
       "      <td>2021-01-18</td>\n",
       "      <td>-1.177552</td>\n",
       "      <td>1.581147</td>\n",
       "      <td>-0.287229</td>\n",
       "    </tr>\n",
       "    <tr>\n",
       "      <th>17</th>\n",
       "      <td>2021-01-19</td>\n",
       "      <td>2.351578</td>\n",
       "      <td>-0.114442</td>\n",
       "      <td>-0.320347</td>\n",
       "    </tr>\n",
       "    <tr>\n",
       "      <th>18</th>\n",
       "      <td>2021-01-20</td>\n",
       "      <td>-2.414536</td>\n",
       "      <td>-0.437477</td>\n",
       "      <td>0.114156</td>\n",
       "    </tr>\n",
       "  </tbody>\n",
       "</table>\n",
       "</div>"
      ],
      "text/plain": [
       "   Unnamed: 0       갑이네       을이네       정이네\n",
       "0  2021-01-02 -0.891399  0.000000  0.072284\n",
       "1  2021-01-03 -0.396650  1.243787 -1.100239\n",
       "2  2021-01-04 -0.322948  1.461472 -0.911431\n",
       "3  2021-01-05  0.259419  1.071688  1.163676\n",
       "4  2021-01-06  1.885784 -0.705359 -0.258884\n",
       "5  2021-01-07  0.568752 -0.916734  3.069374\n",
       "6  2021-01-08 -1.918972  1.679736 -0.470432\n",
       "7  2021-01-09 -1.168810 -0.301069  1.610179\n",
       "8  2021-01-10  1.609465 -1.323539  0.471421\n",
       "9  2021-01-11 -0.859412  1.091355  0.606038\n",
       "10 2021-01-12  0.167719  1.658327 -0.397210\n",
       "11 2021-01-13 -1.070045  0.012548 -0.211773\n",
       "12 2021-01-14  1.137368  0.718743 -1.124825\n",
       "13 2021-01-15 -0.764962 -0.835288  0.546762\n",
       "14 2021-01-16 -0.236132  1.353989  1.274149\n",
       "15 2021-01-17  0.976284  0.737673  0.471424\n",
       "16 2021-01-18 -1.177552  1.581147 -0.287229\n",
       "17 2021-01-19  2.351578 -0.114442 -0.320347\n",
       "18 2021-01-20 -2.414536 -0.437477  0.114156"
      ]
     },
     "execution_count": 58,
     "metadata": {},
     "output_type": "execute_result"
    }
   ],
   "source": [
    "# 이번에는 엑셀 파일을 읽어와 다른 변수에 저장해 보자. \n",
    "엑셀_파일 = pd.read_excel('데이터_프레임.xlsx', sheet_name='데이터_프레임')\n",
    "# pd.DataFrame(엑셀_파일).head()\n",
    "엑셀_파일"
   ]
  },
  {
   "cell_type": "markdown",
   "metadata": {
    "id": "y6A7eSyIS1ba"
   },
   "source": [
    "# 5. 데이터 가시화 기능\n",
    "\n",
    "\n",
    "판다스의 공식 가시화 설명서: https://pandas.pydata.org/pandas-docs/stable/user_guide/visualization.html"
   ]
  },
  {
   "cell_type": "markdown",
   "metadata": {
    "id": "GdxrBGx8Wz0-"
   },
   "source": [
    "## 5.1 선 그래프"
   ]
  },
  {
   "cell_type": "code",
   "execution_count": null,
   "metadata": {
    "id": "xFYBz8NtTYxU"
   },
   "outputs": [],
   "source": [
    "# 시리즈 데이터로 데이터 그리기\n",
    "np.random.seed(3)\n",
    "시리즈_데이터 = pd.Series(np.random.randn(1000), \n",
    "                          index=pd.date_range('1/1/2020', periods=1000))\n"
   ]
  },
  {
   "cell_type": "code",
   "execution_count": null,
   "metadata": {
    "colab": {
     "base_uri": "https://localhost:8080/",
     "height": 266
    },
    "executionInfo": {
     "elapsed": 37,
     "status": "ok",
     "timestamp": 1631897086409,
     "user": {
      "displayName": "박진수",
      "photoUrl": "https://lh3.googleusercontent.com/a-/AOh14Givt_n9gun5TCzjvq5ASwWr2b4FAUXE7mJI_JAt1g=s64",
      "userId": "04216559503906939593"
     },
     "user_tz": -540
    },
    "id": "Zb57Ht932aEj",
    "outputId": "6318af9b-92d8-4da4-d8e1-6dd72da4d561"
   },
   "outputs": [
    {
     "data": {
      "text/html": [
       "<div>\n",
       "<style scoped>\n",
       "    .dataframe tbody tr th:only-of-type {\n",
       "        vertical-align: middle;\n",
       "    }\n",
       "\n",
       "    .dataframe tbody tr th {\n",
       "        vertical-align: top;\n",
       "    }\n",
       "\n",
       "    .dataframe thead th {\n",
       "        text-align: right;\n",
       "    }\n",
       "</style>\n",
       "<table border=\"1\" class=\"dataframe\">\n",
       "  <thead>\n",
       "    <tr style=\"text-align: right;\">\n",
       "      <th></th>\n",
       "      <th>0</th>\n",
       "    </tr>\n",
       "  </thead>\n",
       "  <tbody>\n",
       "    <tr>\n",
       "      <th>2020-01-01</th>\n",
       "      <td>1.788628</td>\n",
       "    </tr>\n",
       "    <tr>\n",
       "      <th>2020-01-02</th>\n",
       "      <td>0.436510</td>\n",
       "    </tr>\n",
       "    <tr>\n",
       "      <th>2020-01-03</th>\n",
       "      <td>0.096497</td>\n",
       "    </tr>\n",
       "    <tr>\n",
       "      <th>2020-01-04</th>\n",
       "      <td>-1.863493</td>\n",
       "    </tr>\n",
       "    <tr>\n",
       "      <th>2020-01-05</th>\n",
       "      <td>-0.277388</td>\n",
       "    </tr>\n",
       "    <tr>\n",
       "      <th>2020-01-06</th>\n",
       "      <td>-0.354759</td>\n",
       "    </tr>\n",
       "    <tr>\n",
       "      <th>2020-01-07</th>\n",
       "      <td>-0.082741</td>\n",
       "    </tr>\n",
       "  </tbody>\n",
       "</table>\n",
       "</div>"
      ],
      "text/plain": [
       "                   0\n",
       "2020-01-01  1.788628\n",
       "2020-01-02  0.436510\n",
       "2020-01-03  0.096497\n",
       "2020-01-04 -1.863493\n",
       "2020-01-05 -0.277388\n",
       "2020-01-06 -0.354759\n",
       "2020-01-07 -0.082741"
      ]
     },
     "execution_count": 60,
     "metadata": {},
     "output_type": "execute_result"
    }
   ],
   "source": [
    "pd.DataFrame(시리즈_데이터).head(7)"
   ]
  },
  {
   "cell_type": "code",
   "execution_count": null,
   "metadata": {
    "colab": {
     "base_uri": "https://localhost:8080/",
     "height": 266
    },
    "executionInfo": {
     "elapsed": 35,
     "status": "ok",
     "timestamp": 1631897086409,
     "user": {
      "displayName": "박진수",
      "photoUrl": "https://lh3.googleusercontent.com/a-/AOh14Givt_n9gun5TCzjvq5ASwWr2b4FAUXE7mJI_JAt1g=s64",
      "userId": "04216559503906939593"
     },
     "user_tz": -540
    },
    "id": "jQOqYEXc2Xc2",
    "outputId": "61a4954f-176b-4050-8f11-2ba38c053137"
   },
   "outputs": [
    {
     "data": {
      "text/html": [
       "<div>\n",
       "<style scoped>\n",
       "    .dataframe tbody tr th:only-of-type {\n",
       "        vertical-align: middle;\n",
       "    }\n",
       "\n",
       "    .dataframe tbody tr th {\n",
       "        vertical-align: top;\n",
       "    }\n",
       "\n",
       "    .dataframe thead th {\n",
       "        text-align: right;\n",
       "    }\n",
       "</style>\n",
       "<table border=\"1\" class=\"dataframe\">\n",
       "  <thead>\n",
       "    <tr style=\"text-align: right;\">\n",
       "      <th></th>\n",
       "      <th>0</th>\n",
       "    </tr>\n",
       "  </thead>\n",
       "  <tbody>\n",
       "    <tr>\n",
       "      <th>2020-01-01</th>\n",
       "      <td>1.788628</td>\n",
       "    </tr>\n",
       "    <tr>\n",
       "      <th>2020-01-02</th>\n",
       "      <td>2.225138</td>\n",
       "    </tr>\n",
       "    <tr>\n",
       "      <th>2020-01-03</th>\n",
       "      <td>2.321636</td>\n",
       "    </tr>\n",
       "    <tr>\n",
       "      <th>2020-01-04</th>\n",
       "      <td>0.458143</td>\n",
       "    </tr>\n",
       "    <tr>\n",
       "      <th>2020-01-05</th>\n",
       "      <td>0.180755</td>\n",
       "    </tr>\n",
       "    <tr>\n",
       "      <th>2020-01-06</th>\n",
       "      <td>-0.174004</td>\n",
       "    </tr>\n",
       "    <tr>\n",
       "      <th>2020-01-07</th>\n",
       "      <td>-0.256746</td>\n",
       "    </tr>\n",
       "  </tbody>\n",
       "</table>\n",
       "</div>"
      ],
      "text/plain": [
       "                   0\n",
       "2020-01-01  1.788628\n",
       "2020-01-02  2.225138\n",
       "2020-01-03  2.321636\n",
       "2020-01-04  0.458143\n",
       "2020-01-05  0.180755\n",
       "2020-01-06 -0.174004\n",
       "2020-01-07 -0.256746"
      ]
     },
     "execution_count": 61,
     "metadata": {},
     "output_type": "execute_result"
    }
   ],
   "source": [
    "누적_시리즈_데이터 = 시리즈_데이터.cumsum()  # 누적합(pandas.DataFram.cumsum) 계산\n",
    "pd.DataFrame(누적_시리즈_데이터).head(7)"
   ]
  },
  {
   "cell_type": "code",
   "execution_count": null,
   "metadata": {
    "colab": {
     "base_uri": "https://localhost:8080/",
     "height": 299
    },
    "executionInfo": {
     "elapsed": 35,
     "status": "ok",
     "timestamp": 1631897086410,
     "user": {
      "displayName": "박진수",
      "photoUrl": "https://lh3.googleusercontent.com/a-/AOh14Givt_n9gun5TCzjvq5ASwWr2b4FAUXE7mJI_JAt1g=s64",
      "userId": "04216559503906939593"
     },
     "user_tz": -540
    },
    "id": "6ChfHNRk3tpA",
    "outputId": "b637fd6a-508a-43f4-a582-0de567be9b05"
   },
   "outputs": [
    {
     "data": {
      "text/plain": [
       "<matplotlib.axes._subplots.AxesSubplot at 0x7fb503759dd0>"
      ]
     },
     "execution_count": 62,
     "metadata": {},
     "output_type": "execute_result"
    },
    {
     "data": {
      "image/png": "[encoded data removed]",
      "text/plain": [
       "<Figure size 432x288 with 1 Axes>"
      ]
     },
     "metadata": {
      "needs_background": "light"
     },
     "output_type": "display_data"
    }
   ],
   "source": [
    "누적_시리즈_데이터.plot()"
   ]
  },
  {
   "cell_type": "code",
   "execution_count": null,
   "metadata": {
    "id": "6nfXXLSrUDcB"
   },
   "outputs": [],
   "source": [
    "# 프레임 데이터로 그래프 그리기\n",
    "np.random.seed(3)\n",
    "\n",
    "프레임_데이터 = pd.DataFrame(np.random.randn(1000, 3), \n",
    "                                  index=pd.date_range('1/1/2020', periods=1000),\n",
    "                                  columns=['X Bond', 'Y Bond', 'Z Bond'])\n"
   ]
  },
  {
   "cell_type": "code",
   "execution_count": null,
   "metadata": {
    "colab": {
     "base_uri": "https://localhost:8080/",
     "height": 419
    },
    "executionInfo": {
     "elapsed": 31,
     "status": "ok",
     "timestamp": 1631897086411,
     "user": {
      "displayName": "박진수",
      "photoUrl": "https://lh3.googleusercontent.com/a-/AOh14Givt_n9gun5TCzjvq5ASwWr2b4FAUXE7mJI_JAt1g=s64",
      "userId": "04216559503906939593"
     },
     "user_tz": -540
    },
    "id": "owjcmvWX4-Or",
    "outputId": "f3b2068b-7c2c-4e67-eac8-cb21829da910"
   },
   "outputs": [
    {
     "data": {
      "text/html": [
       "<div>\n",
       "<style scoped>\n",
       "    .dataframe tbody tr th:only-of-type {\n",
       "        vertical-align: middle;\n",
       "    }\n",
       "\n",
       "    .dataframe tbody tr th {\n",
       "        vertical-align: top;\n",
       "    }\n",
       "\n",
       "    .dataframe thead th {\n",
       "        text-align: right;\n",
       "    }\n",
       "</style>\n",
       "<table border=\"1\" class=\"dataframe\">\n",
       "  <thead>\n",
       "    <tr style=\"text-align: right;\">\n",
       "      <th></th>\n",
       "      <th>X Bond</th>\n",
       "      <th>Y Bond</th>\n",
       "      <th>Z Bond</th>\n",
       "    </tr>\n",
       "  </thead>\n",
       "  <tbody>\n",
       "    <tr>\n",
       "      <th>2020-01-01</th>\n",
       "      <td>1.788628</td>\n",
       "      <td>0.436510</td>\n",
       "      <td>0.096497</td>\n",
       "    </tr>\n",
       "    <tr>\n",
       "      <th>2020-01-02</th>\n",
       "      <td>-1.863493</td>\n",
       "      <td>-0.277388</td>\n",
       "      <td>-0.354759</td>\n",
       "    </tr>\n",
       "    <tr>\n",
       "      <th>2020-01-03</th>\n",
       "      <td>-0.082741</td>\n",
       "      <td>-0.627001</td>\n",
       "      <td>-0.043818</td>\n",
       "    </tr>\n",
       "    <tr>\n",
       "      <th>2020-01-04</th>\n",
       "      <td>-0.477218</td>\n",
       "      <td>-1.313865</td>\n",
       "      <td>0.884622</td>\n",
       "    </tr>\n",
       "    <tr>\n",
       "      <th>2020-01-05</th>\n",
       "      <td>0.881318</td>\n",
       "      <td>1.709573</td>\n",
       "      <td>0.050034</td>\n",
       "    </tr>\n",
       "    <tr>\n",
       "      <th>...</th>\n",
       "      <td>...</td>\n",
       "      <td>...</td>\n",
       "      <td>...</td>\n",
       "    </tr>\n",
       "    <tr>\n",
       "      <th>2022-09-22</th>\n",
       "      <td>-0.329070</td>\n",
       "      <td>-1.549344</td>\n",
       "      <td>-2.090925</td>\n",
       "    </tr>\n",
       "    <tr>\n",
       "      <th>2022-09-23</th>\n",
       "      <td>-0.233283</td>\n",
       "      <td>-0.481111</td>\n",
       "      <td>0.217729</td>\n",
       "    </tr>\n",
       "    <tr>\n",
       "      <th>2022-09-24</th>\n",
       "      <td>0.879928</td>\n",
       "      <td>-0.908888</td>\n",
       "      <td>1.263363</td>\n",
       "    </tr>\n",
       "    <tr>\n",
       "      <th>2022-09-25</th>\n",
       "      <td>-0.466804</td>\n",
       "      <td>-0.241126</td>\n",
       "      <td>0.098740</td>\n",
       "    </tr>\n",
       "    <tr>\n",
       "      <th>2022-09-26</th>\n",
       "      <td>-1.896359</td>\n",
       "      <td>2.227615</td>\n",
       "      <td>-0.356898</td>\n",
       "    </tr>\n",
       "  </tbody>\n",
       "</table>\n",
       "<p>1000 rows × 3 columns</p>\n",
       "</div>"
      ],
      "text/plain": [
       "              X Bond    Y Bond    Z Bond\n",
       "2020-01-01  1.788628  0.436510  0.096497\n",
       "2020-01-02 -1.863493 -0.277388 -0.354759\n",
       "2020-01-03 -0.082741 -0.627001 -0.043818\n",
       "2020-01-04 -0.477218 -1.313865  0.884622\n",
       "2020-01-05  0.881318  1.709573  0.050034\n",
       "...              ...       ...       ...\n",
       "2022-09-22 -0.329070 -1.549344 -2.090925\n",
       "2022-09-23 -0.233283 -0.481111  0.217729\n",
       "2022-09-24  0.879928 -0.908888  1.263363\n",
       "2022-09-25 -0.466804 -0.241126  0.098740\n",
       "2022-09-26 -1.896359  2.227615 -0.356898\n",
       "\n",
       "[1000 rows x 3 columns]"
      ]
     },
     "execution_count": 64,
     "metadata": {},
     "output_type": "execute_result"
    }
   ],
   "source": [
    "프레임_데이터"
   ]
  },
  {
   "cell_type": "code",
   "execution_count": null,
   "metadata": {
    "id": "TQyBh4yx44tl"
   },
   "outputs": [],
   "source": [
    "누적_프레임_데이터 = 프레임_데이터.cumsum()"
   ]
  },
  {
   "cell_type": "code",
   "execution_count": null,
   "metadata": {
    "colab": {
     "base_uri": "https://localhost:8080/"
    },
    "executionInfo": {
     "elapsed": 31,
     "status": "ok",
     "timestamp": 1631897086412,
     "user": {
      "displayName": "박진수",
      "photoUrl": "https://lh3.googleusercontent.com/a-/AOh14Givt_n9gun5TCzjvq5ASwWr2b4FAUXE7mJI_JAt1g=s64",
      "userId": "04216559503906939593"
     },
     "user_tz": -540
    },
    "id": "NRu3yZwX5Xhb",
    "outputId": "bc63f0d3-31dd-40de-9b6a-4fd060eff28e"
   },
   "outputs": [
    {
     "data": {
      "text/plain": [
       "pandas.core.frame.DataFrame"
      ]
     },
     "execution_count": 66,
     "metadata": {},
     "output_type": "execute_result"
    }
   ],
   "source": [
    "type(누적_프레임_데이터)"
   ]
  },
  {
   "cell_type": "code",
   "execution_count": null,
   "metadata": {
    "colab": {
     "base_uri": "https://localhost:8080/",
     "height": 419
    },
    "executionInfo": {
     "elapsed": 27,
     "status": "ok",
     "timestamp": 1631897086413,
     "user": {
      "displayName": "박진수",
      "photoUrl": "https://lh3.googleusercontent.com/a-/AOh14Givt_n9gun5TCzjvq5ASwWr2b4FAUXE7mJI_JAt1g=s64",
      "userId": "04216559503906939593"
     },
     "user_tz": -540
    },
    "id": "RioVsO715i0J",
    "outputId": "67896146-10fc-46c8-dab4-0a154c7eaea2"
   },
   "outputs": [
    {
     "data": {
      "text/html": [
       "<div>\n",
       "<style scoped>\n",
       "    .dataframe tbody tr th:only-of-type {\n",
       "        vertical-align: middle;\n",
       "    }\n",
       "\n",
       "    .dataframe tbody tr th {\n",
       "        vertical-align: top;\n",
       "    }\n",
       "\n",
       "    .dataframe thead th {\n",
       "        text-align: right;\n",
       "    }\n",
       "</style>\n",
       "<table border=\"1\" class=\"dataframe\">\n",
       "  <thead>\n",
       "    <tr style=\"text-align: right;\">\n",
       "      <th></th>\n",
       "      <th>X Bond</th>\n",
       "      <th>Y Bond</th>\n",
       "      <th>Z Bond</th>\n",
       "    </tr>\n",
       "  </thead>\n",
       "  <tbody>\n",
       "    <tr>\n",
       "      <th>2020-01-01</th>\n",
       "      <td>1.788628</td>\n",
       "      <td>0.436510</td>\n",
       "      <td>0.096497</td>\n",
       "    </tr>\n",
       "    <tr>\n",
       "      <th>2020-01-02</th>\n",
       "      <td>-0.074864</td>\n",
       "      <td>0.159122</td>\n",
       "      <td>-0.258262</td>\n",
       "    </tr>\n",
       "    <tr>\n",
       "      <th>2020-01-03</th>\n",
       "      <td>-0.157606</td>\n",
       "      <td>-0.467879</td>\n",
       "      <td>-0.302080</td>\n",
       "    </tr>\n",
       "    <tr>\n",
       "      <th>2020-01-04</th>\n",
       "      <td>-0.634824</td>\n",
       "      <td>-1.781744</td>\n",
       "      <td>0.582543</td>\n",
       "    </tr>\n",
       "    <tr>\n",
       "      <th>2020-01-05</th>\n",
       "      <td>0.246494</td>\n",
       "      <td>-0.072171</td>\n",
       "      <td>0.632576</td>\n",
       "    </tr>\n",
       "    <tr>\n",
       "      <th>...</th>\n",
       "      <td>...</td>\n",
       "      <td>...</td>\n",
       "      <td>...</td>\n",
       "    </tr>\n",
       "    <tr>\n",
       "      <th>2022-09-22</th>\n",
       "      <td>-23.087191</td>\n",
       "      <td>-1.742904</td>\n",
       "      <td>-30.680852</td>\n",
       "    </tr>\n",
       "    <tr>\n",
       "      <th>2022-09-23</th>\n",
       "      <td>-23.320474</td>\n",
       "      <td>-2.224015</td>\n",
       "      <td>-30.463123</td>\n",
       "    </tr>\n",
       "    <tr>\n",
       "      <th>2022-09-24</th>\n",
       "      <td>-22.440546</td>\n",
       "      <td>-3.132902</td>\n",
       "      <td>-29.199760</td>\n",
       "    </tr>\n",
       "    <tr>\n",
       "      <th>2022-09-25</th>\n",
       "      <td>-22.907349</td>\n",
       "      <td>-3.374029</td>\n",
       "      <td>-29.101020</td>\n",
       "    </tr>\n",
       "    <tr>\n",
       "      <th>2022-09-26</th>\n",
       "      <td>-24.803708</td>\n",
       "      <td>-1.146413</td>\n",
       "      <td>-29.457918</td>\n",
       "    </tr>\n",
       "  </tbody>\n",
       "</table>\n",
       "<p>1000 rows × 3 columns</p>\n",
       "</div>"
      ],
      "text/plain": [
       "               X Bond    Y Bond     Z Bond\n",
       "2020-01-01   1.788628  0.436510   0.096497\n",
       "2020-01-02  -0.074864  0.159122  -0.258262\n",
       "2020-01-03  -0.157606 -0.467879  -0.302080\n",
       "2020-01-04  -0.634824 -1.781744   0.582543\n",
       "2020-01-05   0.246494 -0.072171   0.632576\n",
       "...               ...       ...        ...\n",
       "2022-09-22 -23.087191 -1.742904 -30.680852\n",
       "2022-09-23 -23.320474 -2.224015 -30.463123\n",
       "2022-09-24 -22.440546 -3.132902 -29.199760\n",
       "2022-09-25 -22.907349 -3.374029 -29.101020\n",
       "2022-09-26 -24.803708 -1.146413 -29.457918\n",
       "\n",
       "[1000 rows x 3 columns]"
      ]
     },
     "execution_count": 67,
     "metadata": {},
     "output_type": "execute_result"
    }
   ],
   "source": [
    "누적_프레임_데이터"
   ]
  },
  {
   "cell_type": "code",
   "execution_count": null,
   "metadata": {
    "colab": {
     "base_uri": "https://localhost:8080/",
     "height": 277
    },
    "executionInfo": {
     "elapsed": 594,
     "status": "ok",
     "timestamp": 1631897086980,
     "user": {
      "displayName": "박진수",
      "photoUrl": "https://lh3.googleusercontent.com/a-/AOh14Givt_n9gun5TCzjvq5ASwWr2b4FAUXE7mJI_JAt1g=s64",
      "userId": "04216559503906939593"
     },
     "user_tz": -540
    },
    "id": "PZBcSQvF5Nwp",
    "outputId": "7b8d6f95-1396-4e69-bce4-f07db623b847"
   },
   "outputs": [
    {
     "data": {
      "image/png": "[encoded data removed]",
      "text/plain": [
       "<Figure size 432x288 with 1 Axes>"
      ]
     },
     "metadata": {
      "needs_background": "light"
     },
     "output_type": "display_data"
    }
   ],
   "source": [
    "누적_프레임_데이터.plot();"
   ]
  },
  {
   "cell_type": "markdown",
   "metadata": {
    "id": "FXgAhjbVXHee"
   },
   "source": [
    "### 5.2 막대 그래프"
   ]
  },
  {
   "cell_type": "code",
   "execution_count": null,
   "metadata": {
    "id": "J0hTdAfbXTSq"
   },
   "outputs": [],
   "source": [
    "프레임_데이터 = pd.DataFrame(np.random.randn(75, 3), \n",
    "                             columns=['X Bond', 'Y Bond', 'Z Bond'])\n"
   ]
  },
  {
   "cell_type": "code",
   "execution_count": null,
   "metadata": {
    "colab": {
     "base_uri": "https://localhost:8080/",
     "height": 419
    },
    "executionInfo": {
     "elapsed": 8,
     "status": "ok",
     "timestamp": 1631897086983,
     "user": {
      "displayName": "박진수",
      "photoUrl": "https://lh3.googleusercontent.com/a-/AOh14Givt_n9gun5TCzjvq5ASwWr2b4FAUXE7mJI_JAt1g=s64",
      "userId": "04216559503906939593"
     },
     "user_tz": -540
    },
    "id": "uMw290uN5swA",
    "outputId": "ddf2fc95-d197-4d37-a1e4-4d0e84cbed78"
   },
   "outputs": [
    {
     "data": {
      "text/html": [
       "<div>\n",
       "<style scoped>\n",
       "    .dataframe tbody tr th:only-of-type {\n",
       "        vertical-align: middle;\n",
       "    }\n",
       "\n",
       "    .dataframe tbody tr th {\n",
       "        vertical-align: top;\n",
       "    }\n",
       "\n",
       "    .dataframe thead th {\n",
       "        text-align: right;\n",
       "    }\n",
       "</style>\n",
       "<table border=\"1\" class=\"dataframe\">\n",
       "  <thead>\n",
       "    <tr style=\"text-align: right;\">\n",
       "      <th></th>\n",
       "      <th>X Bond</th>\n",
       "      <th>Y Bond</th>\n",
       "      <th>Z Bond</th>\n",
       "    </tr>\n",
       "  </thead>\n",
       "  <tbody>\n",
       "    <tr>\n",
       "      <th>0</th>\n",
       "      <td>1.019268</td>\n",
       "      <td>-0.708219</td>\n",
       "      <td>-1.599727</td>\n",
       "    </tr>\n",
       "    <tr>\n",
       "      <th>1</th>\n",
       "      <td>-1.085874</td>\n",
       "      <td>-1.157137</td>\n",
       "      <td>-1.911993</td>\n",
       "    </tr>\n",
       "    <tr>\n",
       "      <th>2</th>\n",
       "      <td>-2.530182</td>\n",
       "      <td>0.633804</td>\n",
       "      <td>-0.754475</td>\n",
       "    </tr>\n",
       "    <tr>\n",
       "      <th>3</th>\n",
       "      <td>0.043049</td>\n",
       "      <td>1.116273</td>\n",
       "      <td>-0.587871</td>\n",
       "    </tr>\n",
       "    <tr>\n",
       "      <th>4</th>\n",
       "      <td>-0.059582</td>\n",
       "      <td>0.906537</td>\n",
       "      <td>0.295364</td>\n",
       "    </tr>\n",
       "    <tr>\n",
       "      <th>...</th>\n",
       "      <td>...</td>\n",
       "      <td>...</td>\n",
       "      <td>...</td>\n",
       "    </tr>\n",
       "    <tr>\n",
       "      <th>70</th>\n",
       "      <td>0.081876</td>\n",
       "      <td>-0.086115</td>\n",
       "      <td>0.372398</td>\n",
       "    </tr>\n",
       "    <tr>\n",
       "      <th>71</th>\n",
       "      <td>-0.952432</td>\n",
       "      <td>0.446723</td>\n",
       "      <td>-1.305250</td>\n",
       "    </tr>\n",
       "    <tr>\n",
       "      <th>72</th>\n",
       "      <td>0.632473</td>\n",
       "      <td>-0.153411</td>\n",
       "      <td>-0.553433</td>\n",
       "    </tr>\n",
       "    <tr>\n",
       "      <th>73</th>\n",
       "      <td>0.020824</td>\n",
       "      <td>1.092606</td>\n",
       "      <td>-1.183732</td>\n",
       "    </tr>\n",
       "    <tr>\n",
       "      <th>74</th>\n",
       "      <td>-0.339976</td>\n",
       "      <td>-1.376466</td>\n",
       "      <td>0.775372</td>\n",
       "    </tr>\n",
       "  </tbody>\n",
       "</table>\n",
       "<p>75 rows × 3 columns</p>\n",
       "</div>"
      ],
      "text/plain": [
       "      X Bond    Y Bond    Z Bond\n",
       "0   1.019268 -0.708219 -1.599727\n",
       "1  -1.085874 -1.157137 -1.911993\n",
       "2  -2.530182  0.633804 -0.754475\n",
       "3   0.043049  1.116273 -0.587871\n",
       "4  -0.059582  0.906537  0.295364\n",
       "..       ...       ...       ...\n",
       "70  0.081876 -0.086115  0.372398\n",
       "71 -0.952432  0.446723 -1.305250\n",
       "72  0.632473 -0.153411 -0.553433\n",
       "73  0.020824  1.092606 -1.183732\n",
       "74 -0.339976 -1.376466  0.775372\n",
       "\n",
       "[75 rows x 3 columns]"
      ]
     },
     "execution_count": 70,
     "metadata": {},
     "output_type": "execute_result"
    }
   ],
   "source": [
    "프레임_데이터"
   ]
  },
  {
   "cell_type": "code",
   "execution_count": null,
   "metadata": {
    "colab": {
     "base_uri": "https://localhost:8080/",
     "height": 268
    },
    "executionInfo": {
     "elapsed": 569,
     "status": "ok",
     "timestamp": 1631897087544,
     "user": {
      "displayName": "박진수",
      "photoUrl": "https://lh3.googleusercontent.com/a-/AOh14Givt_n9gun5TCzjvq5ASwWr2b4FAUXE7mJI_JAt1g=s64",
      "userId": "04216559503906939593"
     },
     "user_tz": -540
    },
    "id": "6Z7ZIXXp5r5z",
    "outputId": "dc6f82c6-d141-417a-8cd8-6ab486b592b1"
   },
   "outputs": [
    {
     "data": {
      "image/png": "[encoded data removed]",
      "text/plain": [
       "<Figure size 432x288 with 1 Axes>"
      ]
     },
     "metadata": {
      "needs_background": "light"
     },
     "output_type": "display_data"
    }
   ],
   "source": [
    "프레임_데이터.plot.bar();"
   ]
  },
  {
   "cell_type": "code",
   "execution_count": null,
   "metadata": {
    "colab": {
     "base_uri": "https://localhost:8080/",
     "height": 265
    },
    "executionInfo": {
     "elapsed": 1353,
     "status": "ok",
     "timestamp": 1631897088883,
     "user": {
      "displayName": "박진수",
      "photoUrl": "https://lh3.googleusercontent.com/a-/AOh14Givt_n9gun5TCzjvq5ASwWr2b4FAUXE7mJI_JAt1g=s64",
      "userId": "04216559503906939593"
     },
     "user_tz": -540
    },
    "id": "mv8iqyHS6Pf0",
    "outputId": "a1960605-4cb2-424a-f7e6-86307b53d154"
   },
   "outputs": [
    {
     "data": {
      "image/png": "[encoded data removed]",
      "text/plain": [
       "<Figure size 432x288 with 1 Axes>"
      ]
     },
     "metadata": {
      "needs_background": "light"
     },
     "output_type": "display_data"
    }
   ],
   "source": [
    "프레임_데이터.plot.area(stacked=False);"
   ]
  },
  {
   "cell_type": "code",
   "execution_count": null,
   "metadata": {
    "colab": {
     "base_uri": "https://localhost:8080/",
     "height": 276
    },
    "executionInfo": {
     "elapsed": 22,
     "status": "ok",
     "timestamp": 1631897088886,
     "user": {
      "displayName": "박진수",
      "photoUrl": "https://lh3.googleusercontent.com/a-/AOh14Givt_n9gun5TCzjvq5ASwWr2b4FAUXE7mJI_JAt1g=s64",
      "userId": "04216559503906939593"
     },
     "user_tz": -540
    },
    "id": "MjtV6bzh6hLl",
    "outputId": "e5949537-a8a4-4142-a2d9-0eacf890771d"
   },
   "outputs": [
    {
     "data": {
      "text/plain": [
       "<matplotlib.axes._subplots.AxesSubplot at 0x7fb502bbf7d0>"
      ]
     },
     "execution_count": 73,
     "metadata": {},
     "output_type": "execute_result"
    },
    {
     "data": {
      "image/png": "[encoded data removed]",
      "text/plain": [
       "<Figure size 432x288 with 2 Axes>"
      ]
     },
     "metadata": {
      "needs_background": "light"
     },
     "output_type": "display_data"
    }
   ],
   "source": [
    "프레임_데이터.plot.hexbin(x=\"X Bond\", y=\"Y Bond\", gridsize=25)"
   ]
  },
  {
   "cell_type": "code",
   "execution_count": null,
   "metadata": {
    "colab": {
     "base_uri": "https://localhost:8080/",
     "height": 276
    },
    "executionInfo": {
     "elapsed": 16,
     "status": "ok",
     "timestamp": 1631897088886,
     "user": {
      "displayName": "박진수",
      "photoUrl": "https://lh3.googleusercontent.com/a-/AOh14Givt_n9gun5TCzjvq5ASwWr2b4FAUXE7mJI_JAt1g=s64",
      "userId": "04216559503906939593"
     },
     "user_tz": -540
    },
    "id": "ryYc8pEj7AVI",
    "outputId": "31a17911-fc04-4d20-accb-65edd2fe0c5e"
   },
   "outputs": [
    {
     "data": {
      "text/plain": [
       "<matplotlib.axes._subplots.AxesSubplot at 0x7fb501365150>"
      ]
     },
     "execution_count": 74,
     "metadata": {},
     "output_type": "execute_result"
    },
    {
     "data": {
      "image/png": "[encoded data removed]",
      "text/plain": [
       "<Figure size 432x288 with 2 Axes>"
      ]
     },
     "metadata": {
      "needs_background": "light"
     },
     "output_type": "display_data"
    }
   ],
   "source": [
    "프레임_데이터.plot.hexbin(x=\"X Bond\", y=\"Z Bond\", gridsize=25)"
   ]
  },
  {
   "cell_type": "code",
   "execution_count": null,
   "metadata": {
    "colab": {
     "base_uri": "https://localhost:8080/",
     "height": 283
    },
    "executionInfo": {
     "elapsed": 893,
     "status": "ok",
     "timestamp": 1631897089768,
     "user": {
      "displayName": "박진수",
      "photoUrl": "https://lh3.googleusercontent.com/a-/AOh14Givt_n9gun5TCzjvq5ASwWr2b4FAUXE7mJI_JAt1g=s64",
      "userId": "04216559503906939593"
     },
     "user_tz": -540
    },
    "id": "Ss00ATen9JJt",
    "outputId": "437fcc5f-e645-438d-8c79-9cc05756fb66"
   },
   "outputs": [
    {
     "data": {
      "text/plain": [
       "<matplotlib.axes._subplots.AxesSubplot at 0x7fb502cabd90>"
      ]
     },
     "execution_count": 75,
     "metadata": {},
     "output_type": "execute_result"
    },
    {
     "data": {
      "image/png": "[encoded data removed]",
      "text/plain": [
       "<Figure size 432x288 with 1 Axes>"
      ]
     },
     "metadata": {
      "needs_background": "light"
     },
     "output_type": "display_data"
    }
   ],
   "source": [
    "프레임_데이터.plot.box()"
   ]
  },
  {
   "cell_type": "code",
   "execution_count": null,
   "metadata": {
    "id": "PYcGoL0Z34L5"
   },
   "outputs": [],
   "source": []
  },
  {
   "cell_type": "markdown",
   "metadata": {
    "id": "gHhlMsq3fEXg"
   },
   "source": []
  }
 ],
 "metadata": {
  "colab": {
   "collapsed_sections": [],
   "name": "03_판다스[데이터처리].ipynb",
   "provenance": []
  },
  "kernelspec": {
   "display_name": "Python 3 (ipykernel)",
   "language": "python",
   "name": "python3"
  },
  "language_info": {
   "codemirror_mode": {
    "name": "ipython",
    "version": 3
   },
   "file_extension": ".py",
   "mimetype": "text/x-python",
   "name": "python",
   "nbconvert_exporter": "python",
   "pygments_lexer": "ipython3",
   "version": "3.9.7"
  }
 },
 "nbformat": 4,
 "nbformat_minor": 1
}
