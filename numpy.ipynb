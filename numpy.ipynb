{
 "cells": [
  {
   "cell_type": "markdown",
   "id": "44f7cfb1",
   "metadata": {},
   "source": [
    "# Numpy ndarray 개요"
   ]
  },
  {
   "cell_type": "code",
   "execution_count": 1,
   "id": "c27bc475",
   "metadata": {},
   "outputs": [],
   "source": [
    "#import\n",
    "\n",
    "import numpy as np"
   ]
  },
  {
   "cell_type": "code",
   "execution_count": 2,
   "id": "94d7c3cb",
   "metadata": {},
   "outputs": [
    {
     "name": "stdout",
     "output_type": "stream",
     "text": [
      "array1 type :  <class 'numpy.ndarray'>\n",
      "array1 array 형태 :  (3,)\n",
      "[1 2 3]\n",
      "array2 type :  <class 'numpy.ndarray'>\n",
      "array2 array 형태 :  (2, 3)\n",
      "[[1 2 3]\n",
      " [2 3 4]]\n",
      "array3 type :  <class 'numpy.ndarray'>\n",
      "array3 array 형태 :  (1, 3)\n",
      "[[1 2 3]]\n"
     ]
    }
   ],
   "source": [
    "array1 = np.array([1,2,3])\n",
    "print('array1 type : ', type(array1))\n",
    "print('array1 array 형태 : ', array1.shape) \n",
    "print(array1)\n",
    "#1차원 array로 3개의 데이터를 가지고 있다.\n",
    "\n",
    "array2 = np.array([[1,2,3],\n",
    "                   [2,3,4]])\n",
    "print('array2 type : ', type(array2))\n",
    "print('array2 array 형태 : ', array2.shape)\n",
    "print(array2)\n",
    "#2차원 array로 2개의 ROW와 3개의 Colum의 데이터로 가지고 있다.\n",
    "\n",
    "array3 = np.array([[1,2,3]])\n",
    "print('array3 type : ', type(array3))\n",
    "print('array3 array 형태 : ', array3.shape)\n",
    "print(array3)\n",
    "#2차원 array로 1개의 ROW와 3개의 Colum의 데이터로 가지고 있다."
   ]
  },
  {
   "cell_type": "code",
   "execution_count": 3,
   "id": "ecbcd46e",
   "metadata": {},
   "outputs": [
    {
     "name": "stdout",
     "output_type": "stream",
     "text": [
      "array1: 1차원, array2: 2차원, array3:  2차원\n"
     ]
    }
   ],
   "source": [
    "print('array1: {:0}차원, array2: {:1}차원, array3: {:2}차원'.format(array1.ndim,array2.ndim,array3.ndim))"
   ]
  },
  {
   "cell_type": "code",
   "execution_count": 4,
   "id": "72fb1d49",
   "metadata": {},
   "outputs": [
    {
     "name": "stdout",
     "output_type": "stream",
     "text": [
      "<class 'list'>\n",
      "<class 'numpy.ndarray'>\n",
      "[1 2 3] int32\n"
     ]
    }
   ],
   "source": [
    "list1 = [1,2,3]\n",
    "print(type(list1))\n",
    "array1 = np.array(list1)\n",
    "print(type(array1))\n",
    "print(array1, array1.dtype)\n",
    "#list를 int형으로 자동으로 변환"
   ]
  },
  {
   "cell_type": "code",
   "execution_count": 5,
   "id": "0f2c1cb7",
   "metadata": {},
   "outputs": [
    {
     "name": "stdout",
     "output_type": "stream",
     "text": [
      "['1' '2' 'test'] <U11\n",
      "[1. 2. 3.] float64\n"
     ]
    }
   ],
   "source": [
    "list2 = [1, 2, 'test']\n",
    "array2 = np.array(list2)\n",
    "print(array2, array2.dtype) #int형이 유니코드 문자열 값으로 변환되었다.\n",
    "\n",
    "list3 = [1, 2, 3.0]\n",
    "array3 = np.array(list3)\n",
    "print(array3, array3.dtype) #int형이 float64로 변환되었다.\n",
    "#만약 다른 데이터 유형이 섞여있는 리스트를 ndarray로 변경할 시\n",
    "#데이터 크기가 더 큰 데이터 타입으로 형 변환을 일괄 적용한다."
   ]
  },
  {
   "cell_type": "code",
   "execution_count": 6,
   "id": "145504e3",
   "metadata": {},
   "outputs": [
    {
     "name": "stdout",
     "output_type": "stream",
     "text": [
      "[1. 2. 3.] float64\n",
      "[1 2 3] int32\n",
      "[1 2 3] int32\n"
     ]
    }
   ],
   "source": [
    "#ndarray 내 데이터값의 타입 변경은 astype() 메서드를 이용한다.\n",
    "#메모리를 절약해야할 때 이용된다.\n",
    "array_int = np.array([1, 2, 3])\n",
    "array_float = array_int.astype('float64')\n",
    "print(array_float, array_float.dtype)\n",
    "\n",
    "array_int1= array_float.astype('int32')\n",
    "print(array_int1, array_int1.dtype)\n",
    "\n",
    "array_float1 = np.array([1.1, 2.1, 3.1])\n",
    "array_int2= array_float1.astype('int32')\n",
    "print(array_int2, array_int2.dtype)"
   ]
  },
  {
   "cell_type": "code",
   "execution_count": 7,
   "id": "6e85ba11",
   "metadata": {},
   "outputs": [
    {
     "name": "stdout",
     "output_type": "stream",
     "text": [
      "[0 1 2 3 4 5 6 7 8 9]\n",
      "[0 1 2 3 4 5 6 7 8 9]\n",
      "[ 1  2  3  4  5  6  7  8  9 10]\n",
      "int32 (10,)\n"
     ]
    }
   ],
   "source": [
    "sequence_array = np.arange(10) #default 함수 인자는 stop값이며 0부터 stop값인 10에서 -1까지의 연속 숫자 값을 배열에 넣는다.\n",
    "sequence_array2 = np.array(range(10))\n",
    "sequence_array3 = np.arange(1,11) #arange(x, y) = x이상부터 y미만까지의 값을 배열에 넣는다.\n",
    "print(sequence_array)\n",
    "print(sequence_array2)\n",
    "print(sequence_array3)\n",
    "print(sequence_array.dtype, sequence_array.shape)"
   ]
  },
  {
   "cell_type": "code",
   "execution_count": 8,
   "id": "feefadee",
   "metadata": {},
   "outputs": [
    {
     "name": "stdout",
     "output_type": "stream",
     "text": [
      "[[0 0]\n",
      " [0 0]\n",
      " [0 0]]\n",
      "int32 (3, 2)\n",
      "[[1. 1.]\n",
      " [1. 1.]\n",
      " [1. 1.]]\n",
      "float64 (3, 2)\n"
     ]
    }
   ],
   "source": [
    "zero_array = np.zeros((3, 2),dtype = 'int32') #dtype을 지정하지 않으면 float64형태로 저장한다.\n",
    "print(zero_array)\n",
    "print(zero_array.dtype, zero_array.shape)\n",
    "\n",
    "one_array = np.ones((3, 2)) #dtype을 지정하지 않으면 float64형태로 저장한다.\n",
    "print(one_array)\n",
    "print(one_array.dtype, one_array.shape)"
   ]
  },
  {
   "cell_type": "code",
   "execution_count": 9,
   "id": "db9d6d8c",
   "metadata": {},
   "outputs": [
    {
     "name": "stdout",
     "output_type": "stream",
     "text": [
      "array1:\n",
      " [0 1 2 3 4 5 6 7 8 9]\n",
      "array2:\n",
      " [[0 1 2 3 4]\n",
      " [5 6 7 8 9]]\n",
      "array3:\n",
      " [[0 1]\n",
      " [2 3]\n",
      " [4 5]\n",
      " [6 7]\n",
      " [8 9]]\n"
     ]
    }
   ],
   "source": [
    "array1 = np.arange(10)\n",
    "print('array1:\\n', array1)\n",
    "\n",
    "array2 = array1.reshape(2,5) #ndarray를 특정 차원 및 크기로 변환한다.\n",
    "print('array2:\\n',array2)\n",
    "\n",
    "array3 = array1.reshape(5,2)\n",
    "print('array3:\\n',array3)"
   ]
  },
  {
   "cell_type": "code",
   "execution_count": 10,
   "id": "c23fbd0b",
   "metadata": {},
   "outputs": [
    {
     "ename": "ValueError",
     "evalue": "cannot reshape array of size 10 into shape (4,3)",
     "output_type": "error",
     "traceback": [
      "\u001b[1;31m---------------------------------------------------------------------------\u001b[0m",
      "\u001b[1;31mValueError\u001b[0m                                Traceback (most recent call last)",
      "\u001b[1;32m~\\AppData\\Local\\Temp/ipykernel_3852/1658822819.py\u001b[0m in \u001b[0;36m<module>\u001b[1;34m\u001b[0m\n\u001b[1;32m----> 1\u001b[1;33m \u001b[0marray1\u001b[0m\u001b[1;33m.\u001b[0m\u001b[0mreshape\u001b[0m\u001b[1;33m(\u001b[0m\u001b[1;36m4\u001b[0m\u001b[1;33m,\u001b[0m\u001b[1;36m3\u001b[0m\u001b[1;33m)\u001b[0m \u001b[1;31m#단, 지정된 사이즈로 변경이 불가능하면 오류가 발생한다.\u001b[0m\u001b[1;33m\u001b[0m\u001b[1;33m\u001b[0m\u001b[0m\n\u001b[0m",
      "\u001b[1;31mValueError\u001b[0m: cannot reshape array of size 10 into shape (4,3)"
     ]
    }
   ],
   "source": [
    "array1.reshape(4,3) #단, 지정된 사이즈로 변경이 불가능하면 오류가 발생한다."
   ]
  },
  {
   "cell_type": "code",
   "execution_count": null,
   "id": "6e619df2",
   "metadata": {},
   "outputs": [],
   "source": [
    "array1 = np.arange(10)\n",
    "print(array1)\n",
    "\n",
    "array2 = array1.reshape(-1,5) #인자를 -1로 넣으면 원래 ndarray와 호환되는 새로운 shape로 변환해준다.\n",
    "print('array2 shape:',array2.shape)\n",
    "\n",
    "array3 = array1.reshape(5,-1)\n",
    "print('array3 shape:',array3.shape)"
   ]
  },
  {
   "cell_type": "code",
   "execution_count": null,
   "id": "49b66bef",
   "metadata": {},
   "outputs": [],
   "source": [
    "array1 = np.arange(10)\n",
    "array4 = array1.reshape(-1,4) #물론 -1을 사용하더라고 호환될 수 없는 형태는 반환할 수 없다."
   ]
  },
  {
   "cell_type": "code",
   "execution_count": null,
   "id": "6ba10861",
   "metadata": {},
   "outputs": [],
   "source": [
    "array1 = np.arange(12)\n",
    "print(array1)\n",
    "\n",
    "array2 = array1.reshape(2, 2, -1) #3차원으로 변환\n",
    "print('array2 shape:',array2.shape)"
   ]
  },
  {
   "cell_type": "code",
   "execution_count": null,
   "id": "ab446568",
   "metadata": {},
   "outputs": [],
   "source": [
    "array1 = np.arange(8)\n",
    "array3d = array1.reshape((2,2,2))\n",
    "print('array3d:\\n',array3d.tolist())\n",
    "\n",
    "# 3차원 ndarray를 2차원 ndarray로 변환\n",
    "array5 = array3d.reshape(-1,1)\n",
    "print('array5:\\n',array5.tolist())\n",
    "print('array5 shape:',array5.shape)\n",
    "\n",
    "# 1차원 ndarray를 2차원 ndarray로 변환\n",
    "array6 = array1.reshape(-1,1)\n",
    "print('array6:\\n',array6.tolist())\n",
    "print('array6 shape:',array6.shape)\n",
    "\n",
    "#reshape(-1,1)이 자주 사용되는 이유\n",
    "#여러개의 넘파이 ndarray는 stack이나 concat으로 결합될 때 각각의 ndarray의 형태를 통일해 유용하게 사용된다.\n"
   ]
  },
  {
   "cell_type": "code",
   "execution_count": null,
   "id": "172fb81d",
   "metadata": {},
   "outputs": [],
   "source": [
    "#그럼 stack과 concat이 뭘까?\n",
    "#두개의 ndarray를 합치는 기능은 동일하나 stack이 더 제약이 많다.\n",
    "a = np.array([[1, 2], [3, 4]]) # a.shape=(2, 2)\n",
    "b = np.array([[5, 6]]) # b.shape=(2, 1)"
   ]
  },
  {
   "cell_type": "code",
   "execution_count": null,
   "id": "bda520cc",
   "metadata": {},
   "outputs": [],
   "source": [
    "print(np.concatenate((a, b), axis = 0)) # concatenate 함수는 합칠 axis를 제외한 shape 값을 제외하고 일치하면 가능하다."
   ]
  },
  {
   "cell_type": "code",
   "execution_count": null,
   "id": "22f25d8f",
   "metadata": {},
   "outputs": [],
   "source": [
    "print(np.stack((a, b), axis=0)) # stack 함수는 합치려는 배열들의 shape가 전부 동일해야합니다. "
   ]
  },
  {
   "cell_type": "code",
   "execution_count": null,
   "id": "9fa17524",
   "metadata": {},
   "outputs": [],
   "source": [
    "a = np.array([[1, 2], [3, 4]]) # a.shape=(2, 2)\n",
    "b = np.array([[5, 6], [7, 8]]) # b.shape=(2, 2)"
   ]
  },
  {
   "cell_type": "code",
   "execution_count": null,
   "id": "6adc54d5",
   "metadata": {},
   "outputs": [],
   "source": [
    "print(np.concatenate((a, b), axis = 0)) #shape = (4, 2)"
   ]
  },
  {
   "cell_type": "code",
   "execution_count": null,
   "id": "c43cbf8e",
   "metadata": {},
   "outputs": [],
   "source": [
    "print(np.stack((a, b), axis=0)) #shape = (2, 2, 2)\n",
    "#stack 함수는 지정한 axis를 완전히 새로운 axis로 생각하게 됩니다."
   ]
  },
  {
   "cell_type": "markdown",
   "id": "70c5d210",
   "metadata": {},
   "source": [
    "# Indexing"
   ]
  },
  {
   "cell_type": "markdown",
   "id": "0944b3db",
   "metadata": {},
   "source": [
    "- 단일값 추출"
   ]
  },
  {
   "cell_type": "code",
   "execution_count": null,
   "id": "1137412b",
   "metadata": {},
   "outputs": [],
   "source": []
  }
 ],
 "metadata": {
  "kernelspec": {
   "display_name": "Python 3 (ipykernel)",
   "language": "python",
   "name": "python3"
  },
  "language_info": {
   "codemirror_mode": {
    "name": "ipython",
    "version": 3
   },
   "file_extension": ".py",
   "mimetype": "text/x-python",
   "name": "python",
   "nbconvert_exporter": "python",
   "pygments_lexer": "ipython3",
   "version": "3.9.7"
  }
 },
 "nbformat": 4,
 "nbformat_minor": 5
}
